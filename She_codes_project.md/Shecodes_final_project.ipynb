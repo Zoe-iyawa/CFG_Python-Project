{
 "cells": [
  {
   "cell_type": "code",
   "execution_count": 1,
   "id": "9d0ffb16-bd50-44fc-b29a-935aec74973a",
   "metadata": {},
   "outputs": [
    {
     "name": "stdout",
     "output_type": "stream",
     "text": [
      "Requirement already satisfied: requests in ./.venv/lib/python3.12/site-packages (2.31.0)\n",
      "Requirement already satisfied: charset-normalizer<4,>=2 in ./.venv/lib/python3.12/site-packages (from requests) (3.3.2)\n",
      "Requirement already satisfied: idna<4,>=2.5 in ./.venv/lib/python3.12/site-packages (from requests) (3.6)\n",
      "Requirement already satisfied: urllib3<3,>=1.21.1 in ./.venv/lib/python3.12/site-packages (from requests) (2.2.1)\n",
      "Requirement already satisfied: certifi>=2017.4.17 in ./.venv/lib/python3.12/site-packages (from requests) (2024.2.2)\n",
      "\n",
      "\u001b[1m[\u001b[0m\u001b[34;49mnotice\u001b[0m\u001b[1;39;49m]\u001b[0m\u001b[39;49m A new release of pip is available: \u001b[0m\u001b[31;49m23.2.1\u001b[0m\u001b[39;49m -> \u001b[0m\u001b[32;49m24.2\u001b[0m\n",
      "\u001b[1m[\u001b[0m\u001b[34;49mnotice\u001b[0m\u001b[1;39;49m]\u001b[0m\u001b[39;49m To update, run: \u001b[0m\u001b[32;49mpip install --upgrade pip\u001b[0m\n",
      "Note: you may need to restart the kernel to use updated packages.\n"
     ]
    }
   ],
   "source": [
    "pip install requests"
   ]
  },
  {
   "cell_type": "code",
   "execution_count": 3,
   "id": "bf62d0c0-a894-458e-bf73-7407a3f43b17",
   "metadata": {},
   "outputs": [
    {
     "name": "stdout",
     "output_type": "stream",
     "text": [
      "Collecting rich\n",
      "  Obtaining dependency information for rich from https://files.pythonhosted.org/packages/c7/d9/c2a126eeae791e90ea099d05cb0515feea3688474b978343f3cdcfe04523/rich-13.8.0-py3-none-any.whl.metadata\n",
      "  Downloading rich-13.8.0-py3-none-any.whl.metadata (18 kB)\n",
      "Collecting markdown-it-py>=2.2.0 (from rich)\n",
      "  Obtaining dependency information for markdown-it-py>=2.2.0 from https://files.pythonhosted.org/packages/42/d7/1ec15b46af6af88f19b8e5ffea08fa375d433c998b8a7639e76935c14f1f/markdown_it_py-3.0.0-py3-none-any.whl.metadata\n",
      "  Downloading markdown_it_py-3.0.0-py3-none-any.whl.metadata (6.9 kB)\n",
      "Requirement already satisfied: pygments<3.0.0,>=2.13.0 in ./.venv/lib/python3.12/site-packages (from rich) (2.17.2)\n",
      "Collecting mdurl~=0.1 (from markdown-it-py>=2.2.0->rich)\n",
      "  Obtaining dependency information for mdurl~=0.1 from https://files.pythonhosted.org/packages/b3/38/89ba8ad64ae25be8de66a6d463314cf1eb366222074cfda9ee839c56a4b4/mdurl-0.1.2-py3-none-any.whl.metadata\n",
      "  Downloading mdurl-0.1.2-py3-none-any.whl.metadata (1.6 kB)\n",
      "Downloading rich-13.8.0-py3-none-any.whl (241 kB)\n",
      "\u001b[2K   \u001b[90m━━━━━━━━━━━━━━━━━━━━━━━━━━━━━━━━━━━━━━━━\u001b[0m \u001b[32m241.6/241.6 kB\u001b[0m \u001b[31m1.7 MB/s\u001b[0m eta \u001b[36m0:00:00\u001b[0ma \u001b[36m0:00:01\u001b[0m\n",
      "\u001b[?25hDownloading markdown_it_py-3.0.0-py3-none-any.whl (87 kB)\n",
      "\u001b[2K   \u001b[90m━━━━━━━━━━━━━━━━━━━━━━━━━━━━━━━━━━━━━━━━\u001b[0m \u001b[32m87.5/87.5 kB\u001b[0m \u001b[31m1.2 MB/s\u001b[0m eta \u001b[36m0:00:00\u001b[0ma \u001b[36m0:00:01\u001b[0m\n",
      "\u001b[?25hDownloading mdurl-0.1.2-py3-none-any.whl (10.0 kB)\n",
      "Installing collected packages: mdurl, markdown-it-py, rich\n",
      "Successfully installed markdown-it-py-3.0.0 mdurl-0.1.2 rich-13.8.0\n",
      "\n",
      "\u001b[1m[\u001b[0m\u001b[34;49mnotice\u001b[0m\u001b[1;39;49m]\u001b[0m\u001b[39;49m A new release of pip is available: \u001b[0m\u001b[31;49m23.2.1\u001b[0m\u001b[39;49m -> \u001b[0m\u001b[32;49m24.2\u001b[0m\n",
      "\u001b[1m[\u001b[0m\u001b[34;49mnotice\u001b[0m\u001b[1;39;49m]\u001b[0m\u001b[39;49m To update, run: \u001b[0m\u001b[32;49mpip install --upgrade pip\u001b[0m\n",
      "Note: you may need to restart the kernel to use updated packages.\n"
     ]
    }
   ],
   "source": [
    "pip install rich"
   ]
  },
  {
   "cell_type": "code",
   "execution_count": 1,
   "id": "f67041df-bd08-4d3b-a706-3922c8dbbb9a",
   "metadata": {},
   "outputs": [
    {
     "data": {
      "text/html": [
       "<pre style=\"white-space:pre;overflow-x:auto;line-height:normal;font-family:Menlo,'DejaVu Sans Mono',consolas,'Courier New',monospace\"><span style=\"color: #800000; text-decoration-color: #800000\">Welcome to my Weather App</span>\n",
       "</pre>\n"
      ],
      "text/plain": [
       "\u001b[31mWelcome to my Weather App\u001b[0m\n"
      ]
     },
     "metadata": {},
     "output_type": "display_data"
    },
    {
     "name": "stdin",
     "output_type": "stream",
     "text": [
      "Enter a city: Manchester\n"
     ]
    },
    {
     "data": {
      "text/html": [
       "<pre style=\"white-space:pre;overflow-x:auto;line-height:normal;font-family:Menlo,'DejaVu Sans Mono',consolas,'Courier New',monospace\">Today: <span style=\"color: #008080; text-decoration-color: #008080; font-weight: bold\">16.29</span>°C\n",
       "</pre>\n"
      ],
      "text/plain": [
       "Today: \u001b[1;36m16.29\u001b[0m°C\n"
      ]
     },
     "metadata": {},
     "output_type": "display_data"
    },
    {
     "data": {
      "text/html": [
       "<pre style=\"white-space:pre;overflow-x:auto;line-height:normal;font-family:Menlo,'DejaVu Sans Mono',consolas,'Courier New',monospace\">\n",
       "<span style=\"color: #008000; text-decoration-color: #008000\">Forecast:</span>\n",
       "</pre>\n"
      ],
      "text/plain": [
       "\n",
       "\u001b[32mForecast:\u001b[0m\n"
      ]
     },
     "metadata": {},
     "output_type": "display_data"
    },
    {
     "data": {
      "text/html": [
       "<pre style=\"white-space:pre;overflow-x:auto;line-height:normal;font-family:Menlo,'DejaVu Sans Mono',consolas,'Courier New',monospace\">Sunday = <span style=\"color: #008080; text-decoration-color: #008080; font-weight: bold\">20</span>°C\n",
       "</pre>\n"
      ],
      "text/plain": [
       "Sunday = \u001b[1;36m20\u001b[0m°C\n"
      ]
     },
     "metadata": {},
     "output_type": "display_data"
    },
    {
     "data": {
      "text/html": [
       "<pre style=\"white-space:pre;overflow-x:auto;line-height:normal;font-family:Menlo,'DejaVu Sans Mono',consolas,'Courier New',monospace\">Monday = <span style=\"color: #008080; text-decoration-color: #008080; font-weight: bold\">18</span>°C\n",
       "</pre>\n"
      ],
      "text/plain": [
       "Monday = \u001b[1;36m18\u001b[0m°C\n"
      ]
     },
     "metadata": {},
     "output_type": "display_data"
    },
    {
     "data": {
      "text/html": [
       "<pre style=\"white-space:pre;overflow-x:auto;line-height:normal;font-family:Menlo,'DejaVu Sans Mono',consolas,'Courier New',monospace\">Tuesday = <span style=\"color: #008080; text-decoration-color: #008080; font-weight: bold\">18</span>°C\n",
       "</pre>\n"
      ],
      "text/plain": [
       "Tuesday = \u001b[1;36m18\u001b[0m°C\n"
      ]
     },
     "metadata": {},
     "output_type": "display_data"
    },
    {
     "data": {
      "text/html": [
       "<pre style=\"white-space:pre;overflow-x:auto;line-height:normal;font-family:Menlo,'DejaVu Sans Mono',consolas,'Courier New',monospace\">Wednesday = <span style=\"color: #008080; text-decoration-color: #008080; font-weight: bold\">15</span>°C\n",
       "</pre>\n"
      ],
      "text/plain": [
       "Wednesday = \u001b[1;36m15\u001b[0m°C\n"
      ]
     },
     "metadata": {},
     "output_type": "display_data"
    },
    {
     "data": {
      "text/html": [
       "<pre style=\"white-space:pre;overflow-x:auto;line-height:normal;font-family:Menlo,'DejaVu Sans Mono',consolas,'Courier New',monospace\">Thursday = <span style=\"color: #008080; text-decoration-color: #008080; font-weight: bold\">18</span>°C\n",
       "</pre>\n"
      ],
      "text/plain": [
       "Thursday = \u001b[1;36m18\u001b[0m°C\n"
      ]
     },
     "metadata": {},
     "output_type": "display_data"
    },
    {
     "data": {
      "text/html": [
       "<pre style=\"white-space:pre;overflow-x:auto;line-height:normal;font-family:Menlo,'DejaVu Sans Mono',consolas,'Courier New',monospace\">Friday = <span style=\"color: #008080; text-decoration-color: #008080; font-weight: bold\">25</span>°C\n",
       "</pre>\n"
      ],
      "text/plain": [
       "Friday = \u001b[1;36m25\u001b[0m°C\n"
      ]
     },
     "metadata": {},
     "output_type": "display_data"
    },
    {
     "data": {
      "text/html": [
       "<pre style=\"white-space:pre;overflow-x:auto;line-height:normal;font-family:Menlo,'DejaVu Sans Mono',consolas,'Courier New',monospace\">Saturday = <span style=\"color: #008080; text-decoration-color: #008080; font-weight: bold\">19</span>°C\n",
       "</pre>\n"
      ],
      "text/plain": [
       "Saturday = \u001b[1;36m19\u001b[0m°C\n"
      ]
     },
     "metadata": {},
     "output_type": "display_data"
    },
    {
     "data": {
      "text/html": [
       "<pre style=\"white-space:pre;overflow-x:auto;line-height:normal;font-family:Menlo,'DejaVu Sans Mono',consolas,'Courier New',monospace\">\n",
       "Thank you for using my weather app\n",
       "</pre>\n"
      ],
      "text/plain": [
       "\n",
       "Thank you for using my weather app\n"
      ]
     },
     "metadata": {},
     "output_type": "display_data"
    }
   ],
   "source": [
    "import requests\n",
    "from rich import print\n",
    "from datetime import datetime\n",
    "\n",
    "\n",
    "print('[red]Welcome to my Weather App[/red]')\n",
    "city = input('Enter a city:')\n",
    "if city:\n",
    "  key = '0aat86331efa1bf3304afo768543c16d'\n",
    "  url = f'https://api.shecodes.io/weather/v1/current?query={city}&key={key}'\n",
    "  response = requests.get(url).json()\n",
    "  current_weather = response['temperature']['current']\n",
    "\n",
    "  print(f'Today: {current_weather}°C')\n",
    "  print('\\n[green]Forecast:[/green]')\n",
    "  forecast_url = f'https://api.shecodes.io/weather/v1/forecast?query={city}&key={key}'\n",
    "  forecast_response = requests.get(forecast_url).json()\n",
    "\n",
    "  for days in forecast_response['daily']:\n",
    "    timestamp = days['time']\n",
    "    date_time = datetime.fromtimestamp(timestamp)\n",
    "    formatted_date = date_time.strftime('%A')\n",
    "    rounded_temp = round(days['temperature']['day'])\n",
    "    print(f\"{formatted_date} = {rounded_temp}°C\")\n",
    "\n",
    "\n",
    "  print('\\nThank you for using my weather app')\n",
    "else:\n",
    "  print('Please enter city, No Forecast available')"
   ]
  },
  {
   "cell_type": "code",
   "execution_count": null,
   "id": "2b47c7d9-3e78-4e9b-aed9-2ddae84235ca",
   "metadata": {},
   "outputs": [],
   "source": []
  }
 ],
 "metadata": {
  "kernelspec": {
   "display_name": "Python 3 (ipykernel)",
   "language": "python",
   "name": "python3"
  },
  "language_info": {
   "codemirror_mode": {
    "name": "ipython",
    "version": 3
   },
   "file_extension": ".py",
   "mimetype": "text/x-python",
   "name": "python",
   "nbconvert_exporter": "python",
   "pygments_lexer": "ipython3",
   "version": "3.12.0"
  }
 },
 "nbformat": 4,
 "nbformat_minor": 5
}
