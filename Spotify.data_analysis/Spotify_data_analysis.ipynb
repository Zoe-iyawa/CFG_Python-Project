{
 "cells": [
  {
   "cell_type": "code",
   "execution_count": 14,
   "id": "190c997a-1ced-48be-8a26-f0ebf470cc36",
   "metadata": {},
   "outputs": [
    {
     "name": "stdout",
     "output_type": "stream",
     "text": [
      "Collecting spotipy\n",
      "  Obtaining dependency information for spotipy from https://files.pythonhosted.org/packages/ea/35/304e456a471128aa4a776243558f43aee3444731ef8fc9bc8c351fddfdd8/spotipy-2.24.0-py3-none-any.whl.metadata\n",
      "  Downloading spotipy-2.24.0-py3-none-any.whl.metadata (4.9 kB)\n",
      "Collecting redis>=3.5.3 (from spotipy)\n",
      "  Obtaining dependency information for redis>=3.5.3 from https://files.pythonhosted.org/packages/c5/d1/19a9c76811757684a0f74adc25765c8a901d67f9f6472ac9d57c844a23c8/redis-5.0.8-py3-none-any.whl.metadata\n",
      "  Downloading redis-5.0.8-py3-none-any.whl.metadata (9.2 kB)\n",
      "Requirement already satisfied: requests>=2.25.0 in ./.venv/lib/python3.12/site-packages (from spotipy) (2.31.0)\n",
      "Requirement already satisfied: urllib3>=1.26.0 in ./.venv/lib/python3.12/site-packages (from spotipy) (2.2.1)\n",
      "Requirement already satisfied: charset-normalizer<4,>=2 in ./.venv/lib/python3.12/site-packages (from requests>=2.25.0->spotipy) (3.3.2)\n",
      "Requirement already satisfied: idna<4,>=2.5 in ./.venv/lib/python3.12/site-packages (from requests>=2.25.0->spotipy) (3.6)\n",
      "Requirement already satisfied: certifi>=2017.4.17 in ./.venv/lib/python3.12/site-packages (from requests>=2.25.0->spotipy) (2024.2.2)\n",
      "Downloading spotipy-2.24.0-py3-none-any.whl (30 kB)\n",
      "Downloading redis-5.0.8-py3-none-any.whl (255 kB)\n",
      "\u001b[2K   \u001b[90m━━━━━━━━━━━━━━━━━━━━━━━━━━━━━━━━━━━━━━━━\u001b[0m \u001b[32m255.6/255.6 kB\u001b[0m \u001b[31m3.7 MB/s\u001b[0m eta \u001b[36m0:00:00\u001b[0ma \u001b[36m0:00:01\u001b[0m\n",
      "\u001b[?25hInstalling collected packages: redis, spotipy\n",
      "Successfully installed redis-5.0.8 spotipy-2.24.0\n",
      "\n",
      "\u001b[1m[\u001b[0m\u001b[34;49mnotice\u001b[0m\u001b[1;39;49m]\u001b[0m\u001b[39;49m A new release of pip is available: \u001b[0m\u001b[31;49m23.2.1\u001b[0m\u001b[39;49m -> \u001b[0m\u001b[32;49m24.2\u001b[0m\n",
      "\u001b[1m[\u001b[0m\u001b[34;49mnotice\u001b[0m\u001b[1;39;49m]\u001b[0m\u001b[39;49m To update, run: \u001b[0m\u001b[32;49mpip install --upgrade pip\u001b[0m\n",
      "Note: you may need to restart the kernel to use updated packages.\n"
     ]
    }
   ],
   "source": [
    "pip install spotipy\n"
   ]
  },
  {
   "cell_type": "code",
   "execution_count": 2,
   "id": "8c9d269f-8680-45fa-a853-ca50919afc9a",
   "metadata": {},
   "outputs": [],
   "source": [
    "import pandas as pd\n",
    "import requests\n",
    "import seaborn as sns \n",
    "import spotipy\n",
    "from rich import print"
   ]
  },
  {
   "cell_type": "code",
   "execution_count": 149,
   "id": "a4f1920f-addf-4335-ad71-613d0a7936c3",
   "metadata": {},
   "outputs": [
    {
     "data": {
      "text/html": [
       "<pre style=\"white-space:pre;overflow-x:auto;line-height:normal;font-family:Menlo,'DejaVu Sans Mono',consolas,'Courier New',monospace\"><span style=\"color: #008080; text-decoration-color: #008080; font-weight: bold\">1</span>: Name = Sabrina Carpenter, Artist_popularity: <span style=\"color: #008080; text-decoration-color: #008080; font-weight: bold\">95</span>, Follower_total:<span style=\"color: #008080; text-decoration-color: #008080; font-weight: bold\">12402382</span>\n",
       "</pre>\n"
      ],
      "text/plain": [
       "\u001b[1;36m1\u001b[0m: Name = Sabrina Carpenter, Artist_popularity: \u001b[1;36m95\u001b[0m, Follower_total:\u001b[1;36m12402382\u001b[0m\n"
      ]
     },
     "metadata": {},
     "output_type": "display_data"
    },
    {
     "data": {
      "text/html": [
       "<pre style=\"white-space:pre;overflow-x:auto;line-height:normal;font-family:Menlo,'DejaVu Sans Mono',consolas,'Courier New',monospace\"><span style=\"color: #008080; text-decoration-color: #008080; font-weight: bold\">2</span>: Name = Olivia Rodrigo, Artist_popularity: <span style=\"color: #008080; text-decoration-color: #008080; font-weight: bold\">88</span>, Follower_total:<span style=\"color: #008080; text-decoration-color: #008080; font-weight: bold\">39581908</span>\n",
       "</pre>\n"
      ],
      "text/plain": [
       "\u001b[1;36m2\u001b[0m: Name = Olivia Rodrigo, Artist_popularity: \u001b[1;36m88\u001b[0m, Follower_total:\u001b[1;36m39581908\u001b[0m\n"
      ]
     },
     "metadata": {},
     "output_type": "display_data"
    },
    {
     "data": {
      "text/html": [
       "<pre style=\"white-space:pre;overflow-x:auto;line-height:normal;font-family:Menlo,'DejaVu Sans Mono',consolas,'Courier New',monospace\"><span style=\"color: #008080; text-decoration-color: #008080; font-weight: bold\">3</span>: Name = Chappell Roan, Artist_popularity: <span style=\"color: #008080; text-decoration-color: #008080; font-weight: bold\">90</span>, Follower_total:<span style=\"color: #008080; text-decoration-color: #008080; font-weight: bold\">3001691</span>\n",
       "</pre>\n"
      ],
      "text/plain": [
       "\u001b[1;36m3\u001b[0m: Name = Chappell Roan, Artist_popularity: \u001b[1;36m90\u001b[0m, Follower_total:\u001b[1;36m3001691\u001b[0m\n"
      ]
     },
     "metadata": {},
     "output_type": "display_data"
    },
    {
     "data": {
      "text/html": [
       "<pre style=\"white-space:pre;overflow-x:auto;line-height:normal;font-family:Menlo,'DejaVu Sans Mono',consolas,'Courier New',monospace\"><span style=\"color: #008080; text-decoration-color: #008080; font-weight: bold\">4</span>: Name = Leigh-Anne, Artist_popularity: <span style=\"color: #008080; text-decoration-color: #008080; font-weight: bold\">52</span>, Follower_total:<span style=\"color: #008080; text-decoration-color: #008080; font-weight: bold\">114655</span>\n",
       "</pre>\n"
      ],
      "text/plain": [
       "\u001b[1;36m4\u001b[0m: Name = Leigh-Anne, Artist_popularity: \u001b[1;36m52\u001b[0m, Follower_total:\u001b[1;36m114655\u001b[0m\n"
      ]
     },
     "metadata": {},
     "output_type": "display_data"
    },
    {
     "data": {
      "text/html": [
       "<pre style=\"white-space:pre;overflow-x:auto;line-height:normal;font-family:Menlo,'DejaVu Sans Mono',consolas,'Courier New',monospace\"><span style=\"color: #008080; text-decoration-color: #008080; font-weight: bold\">5</span>: Name = Dove Cameron, Artist_popularity: <span style=\"color: #008080; text-decoration-color: #008080; font-weight: bold\">73</span>, Follower_total:<span style=\"color: #008080; text-decoration-color: #008080; font-weight: bold\">5194644</span>\n",
       "</pre>\n"
      ],
      "text/plain": [
       "\u001b[1;36m5\u001b[0m: Name = Dove Cameron, Artist_popularity: \u001b[1;36m73\u001b[0m, Follower_total:\u001b[1;36m5194644\u001b[0m\n"
      ]
     },
     "metadata": {},
     "output_type": "display_data"
    },
    {
     "data": {
      "text/html": [
       "<pre style=\"white-space:pre;overflow-x:auto;line-height:normal;font-family:Menlo,'DejaVu Sans Mono',consolas,'Courier New',monospace\"><span style=\"color: #008080; text-decoration-color: #008080; font-weight: bold\">6</span>: Name = Madison Beer, Artist_popularity: <span style=\"color: #008080; text-decoration-color: #008080; font-weight: bold\">74</span>, Follower_total:<span style=\"color: #008080; text-decoration-color: #008080; font-weight: bold\">6938223</span>\n",
       "</pre>\n"
      ],
      "text/plain": [
       "\u001b[1;36m6\u001b[0m: Name = Madison Beer, Artist_popularity: \u001b[1;36m74\u001b[0m, Follower_total:\u001b[1;36m6938223\u001b[0m\n"
      ]
     },
     "metadata": {},
     "output_type": "display_data"
    },
    {
     "data": {
      "text/html": [
       "<pre style=\"white-space:pre;overflow-x:auto;line-height:normal;font-family:Menlo,'DejaVu Sans Mono',consolas,'Courier New',monospace\"><span style=\"color: #008080; text-decoration-color: #008080; font-weight: bold\">7</span>: Name = Tate McRae, Artist_popularity: <span style=\"color: #008080; text-decoration-color: #008080; font-weight: bold\">83</span>, Follower_total:<span style=\"color: #008080; text-decoration-color: #008080; font-weight: bold\">5870111</span>\n",
       "</pre>\n"
      ],
      "text/plain": [
       "\u001b[1;36m7\u001b[0m: Name = Tate McRae, Artist_popularity: \u001b[1;36m83\u001b[0m, Follower_total:\u001b[1;36m5870111\u001b[0m\n"
      ]
     },
     "metadata": {},
     "output_type": "display_data"
    },
    {
     "data": {
      "text/html": [
       "<pre style=\"white-space:pre;overflow-x:auto;line-height:normal;font-family:Menlo,'DejaVu Sans Mono',consolas,'Courier New',monospace\"><span style=\"color: #008080; text-decoration-color: #008080; font-weight: bold\">8</span>: Name = Gracie Abrams, Artist_popularity: <span style=\"color: #008080; text-decoration-color: #008080; font-weight: bold\">84</span>, Follower_total:<span style=\"color: #008080; text-decoration-color: #008080; font-weight: bold\">2366036</span>\n",
       "</pre>\n"
      ],
      "text/plain": [
       "\u001b[1;36m8\u001b[0m: Name = Gracie Abrams, Artist_popularity: \u001b[1;36m84\u001b[0m, Follower_total:\u001b[1;36m2366036\u001b[0m\n"
      ]
     },
     "metadata": {},
     "output_type": "display_data"
    },
    {
     "data": {
      "text/html": [
       "<pre style=\"white-space:pre;overflow-x:auto;line-height:normal;font-family:Menlo,'DejaVu Sans Mono',consolas,'Courier New',monospace\"><span style=\"color: #008080; text-decoration-color: #008080; font-weight: bold\">9</span>: Name = Mimi Webb, Artist_popularity: <span style=\"color: #008080; text-decoration-color: #008080; font-weight: bold\">60</span>, Follower_total:<span style=\"color: #008080; text-decoration-color: #008080; font-weight: bold\">372767</span>\n",
       "</pre>\n"
      ],
      "text/plain": [
       "\u001b[1;36m9\u001b[0m: Name = Mimi Webb, Artist_popularity: \u001b[1;36m60\u001b[0m, Follower_total:\u001b[1;36m372767\u001b[0m\n"
      ]
     },
     "metadata": {},
     "output_type": "display_data"
    },
    {
     "data": {
      "text/html": [
       "<pre style=\"white-space:pre;overflow-x:auto;line-height:normal;font-family:Menlo,'DejaVu Sans Mono',consolas,'Courier New',monospace\"><span style=\"color: #008080; text-decoration-color: #008080; font-weight: bold\">10</span>: Name = Niall Horan, Artist_popularity: <span style=\"color: #008080; text-decoration-color: #008080; font-weight: bold\">75</span>, Follower_total:<span style=\"color: #008080; text-decoration-color: #008080; font-weight: bold\">9915454</span>\n",
       "</pre>\n"
      ],
      "text/plain": [
       "\u001b[1;36m10\u001b[0m: Name = Niall Horan, Artist_popularity: \u001b[1;36m75\u001b[0m, Follower_total:\u001b[1;36m9915454\u001b[0m\n"
      ]
     },
     "metadata": {},
     "output_type": "display_data"
    },
    {
     "data": {
      "text/html": [
       "<pre style=\"white-space:pre;overflow-x:auto;line-height:normal;font-family:Menlo,'DejaVu Sans Mono',consolas,'Courier New',monospace\"><span style=\"color: #008080; text-decoration-color: #008080; font-weight: bold\">11</span>: Name = Jax, Artist_popularity: <span style=\"color: #008080; text-decoration-color: #008080; font-weight: bold\">61</span>, Follower_total:<span style=\"color: #008080; text-decoration-color: #008080; font-weight: bold\">707992</span>\n",
       "</pre>\n"
      ],
      "text/plain": [
       "\u001b[1;36m11\u001b[0m: Name = Jax, Artist_popularity: \u001b[1;36m61\u001b[0m, Follower_total:\u001b[1;36m707992\u001b[0m\n"
      ]
     },
     "metadata": {},
     "output_type": "display_data"
    },
    {
     "data": {
      "text/html": [
       "<pre style=\"white-space:pre;overflow-x:auto;line-height:normal;font-family:Menlo,'DejaVu Sans Mono',consolas,'Courier New',monospace\"><span style=\"color: #008080; text-decoration-color: #008080; font-weight: bold\">12</span>: Name = RAYE, Artist_popularity: <span style=\"color: #008080; text-decoration-color: #008080; font-weight: bold\">78</span>, Follower_total:<span style=\"color: #008080; text-decoration-color: #008080; font-weight: bold\">1628679</span>\n",
       "</pre>\n"
      ],
      "text/plain": [
       "\u001b[1;36m12\u001b[0m: Name = RAYE, Artist_popularity: \u001b[1;36m78\u001b[0m, Follower_total:\u001b[1;36m1628679\u001b[0m\n"
      ]
     },
     "metadata": {},
     "output_type": "display_data"
    },
    {
     "data": {
      "text/html": [
       "<pre style=\"white-space:pre;overflow-x:auto;line-height:normal;font-family:Menlo,'DejaVu Sans Mono',consolas,'Courier New',monospace\"><span style=\"color: #008080; text-decoration-color: #008080; font-weight: bold\">13</span>: Name = Conan Gray, Artist_popularity: <span style=\"color: #008080; text-decoration-color: #008080; font-weight: bold\">79</span>, Follower_total:<span style=\"color: #008080; text-decoration-color: #008080; font-weight: bold\">10047047</span>\n",
       "</pre>\n"
      ],
      "text/plain": [
       "\u001b[1;36m13\u001b[0m: Name = Conan Gray, Artist_popularity: \u001b[1;36m79\u001b[0m, Follower_total:\u001b[1;36m10047047\u001b[0m\n"
      ]
     },
     "metadata": {},
     "output_type": "display_data"
    },
    {
     "data": {
      "text/html": [
       "<pre style=\"white-space:pre;overflow-x:auto;line-height:normal;font-family:Menlo,'DejaVu Sans Mono',consolas,'Courier New',monospace\"><span style=\"color: #008080; text-decoration-color: #008080; font-weight: bold\">14</span>: Name = Caity Baser, Artist_popularity: <span style=\"color: #008080; text-decoration-color: #008080; font-weight: bold\">51</span>, Follower_total:<span style=\"color: #008080; text-decoration-color: #008080; font-weight: bold\">91822</span>\n",
       "</pre>\n"
      ],
      "text/plain": [
       "\u001b[1;36m14\u001b[0m: Name = Caity Baser, Artist_popularity: \u001b[1;36m51\u001b[0m, Follower_total:\u001b[1;36m91822\u001b[0m\n"
      ]
     },
     "metadata": {},
     "output_type": "display_data"
    },
    {
     "data": {
      "text/html": [
       "<pre style=\"white-space:pre;overflow-x:auto;line-height:normal;font-family:Menlo,'DejaVu Sans Mono',consolas,'Courier New',monospace\"><span style=\"color: #008080; text-decoration-color: #008080; font-weight: bold\">15</span>: Name = Foxes, Artist_popularity: <span style=\"color: #008080; text-decoration-color: #008080; font-weight: bold\">61</span>, Follower_total:<span style=\"color: #008080; text-decoration-color: #008080; font-weight: bold\">312392</span>\n",
       "</pre>\n"
      ],
      "text/plain": [
       "\u001b[1;36m15\u001b[0m: Name = Foxes, Artist_popularity: \u001b[1;36m61\u001b[0m, Follower_total:\u001b[1;36m312392\u001b[0m\n"
      ]
     },
     "metadata": {},
     "output_type": "display_data"
    },
    {
     "data": {
      "text/html": [
       "<pre style=\"white-space:pre;overflow-x:auto;line-height:normal;font-family:Menlo,'DejaVu Sans Mono',consolas,'Courier New',monospace\"><span style=\"color: #008080; text-decoration-color: #008080; font-weight: bold\">16</span>: Name = Daya, Artist_popularity: <span style=\"color: #008080; text-decoration-color: #008080; font-weight: bold\">71</span>, Follower_total:<span style=\"color: #008080; text-decoration-color: #008080; font-weight: bold\">1658502</span>\n",
       "</pre>\n"
      ],
      "text/plain": [
       "\u001b[1;36m16\u001b[0m: Name = Daya, Artist_popularity: \u001b[1;36m71\u001b[0m, Follower_total:\u001b[1;36m1658502\u001b[0m\n"
      ]
     },
     "metadata": {},
     "output_type": "display_data"
    },
    {
     "data": {
      "text/html": [
       "<pre style=\"white-space:pre;overflow-x:auto;line-height:normal;font-family:Menlo,'DejaVu Sans Mono',consolas,'Courier New',monospace\"><span style=\"color: #008080; text-decoration-color: #008080; font-weight: bold\">17</span>: Name = Mabel, Artist_popularity: <span style=\"color: #008080; text-decoration-color: #008080; font-weight: bold\">63</span>, Follower_total:<span style=\"color: #008080; text-decoration-color: #008080; font-weight: bold\">2025774</span>\n",
       "</pre>\n"
      ],
      "text/plain": [
       "\u001b[1;36m17\u001b[0m: Name = Mabel, Artist_popularity: \u001b[1;36m63\u001b[0m, Follower_total:\u001b[1;36m2025774\u001b[0m\n"
      ]
     },
     "metadata": {},
     "output_type": "display_data"
    },
    {
     "data": {
      "text/html": [
       "<pre style=\"white-space:pre;overflow-x:auto;line-height:normal;font-family:Menlo,'DejaVu Sans Mono',consolas,'Courier New',monospace\"><span style=\"color: #008080; text-decoration-color: #008080; font-weight: bold\">18</span>: Name = Sabrina Claudio, Artist_popularity: <span style=\"color: #008080; text-decoration-color: #008080; font-weight: bold\">62</span>, Follower_total:<span style=\"color: #008080; text-decoration-color: #008080; font-weight: bold\">1681336</span>\n",
       "</pre>\n"
      ],
      "text/plain": [
       "\u001b[1;36m18\u001b[0m: Name = Sabrina Claudio, Artist_popularity: \u001b[1;36m62\u001b[0m, Follower_total:\u001b[1;36m1681336\u001b[0m\n"
      ]
     },
     "metadata": {},
     "output_type": "display_data"
    },
    {
     "data": {
      "text/html": [
       "<pre style=\"white-space:pre;overflow-x:auto;line-height:normal;font-family:Menlo,'DejaVu Sans Mono',consolas,'Courier New',monospace\"><span style=\"color: #008080; text-decoration-color: #008080; font-weight: bold\">19</span>: Name = GAYLE, Artist_popularity: <span style=\"color: #008080; text-decoration-color: #008080; font-weight: bold\">62</span>, Follower_total:<span style=\"color: #008080; text-decoration-color: #008080; font-weight: bold\">632902</span>\n",
       "</pre>\n"
      ],
      "text/plain": [
       "\u001b[1;36m19\u001b[0m: Name = GAYLE, Artist_popularity: \u001b[1;36m62\u001b[0m, Follower_total:\u001b[1;36m632902\u001b[0m\n"
      ]
     },
     "metadata": {},
     "output_type": "display_data"
    },
    {
     "data": {
      "text/html": [
       "<pre style=\"white-space:pre;overflow-x:auto;line-height:normal;font-family:Menlo,'DejaVu Sans Mono',consolas,'Courier New',monospace\"><span style=\"color: #008080; text-decoration-color: #008080; font-weight: bold\">20</span>: Name = Julia Michaels, Artist_popularity: <span style=\"color: #008080; text-decoration-color: #008080; font-weight: bold\">73</span>, Follower_total:<span style=\"color: #008080; text-decoration-color: #008080; font-weight: bold\">5058824</span>\n",
       "</pre>\n"
      ],
      "text/plain": [
       "\u001b[1;36m20\u001b[0m: Name = Julia Michaels, Artist_popularity: \u001b[1;36m73\u001b[0m, Follower_total:\u001b[1;36m5058824\u001b[0m\n"
      ]
     },
     "metadata": {},
     "output_type": "display_data"
    },
    {
     "data": {
      "text/html": [
       "<pre style=\"white-space:pre;overflow-x:auto;line-height:normal;font-family:Menlo,'DejaVu Sans Mono',consolas,'Courier New',monospace\"><span style=\"color: #008080; text-decoration-color: #008080; font-weight: bold\">21</span>: Name = HAIM, Artist_popularity: <span style=\"color: #008080; text-decoration-color: #008080; font-weight: bold\">64</span>, Follower_total:<span style=\"color: #008080; text-decoration-color: #008080; font-weight: bold\">1333441</span>\n",
       "</pre>\n"
      ],
      "text/plain": [
       "\u001b[1;36m21\u001b[0m: Name = HAIM, Artist_popularity: \u001b[1;36m64\u001b[0m, Follower_total:\u001b[1;36m1333441\u001b[0m\n"
      ]
     },
     "metadata": {},
     "output_type": "display_data"
    },
    {
     "data": {
      "text/html": [
       "<pre style=\"white-space:pre;overflow-x:auto;line-height:normal;font-family:Menlo,'DejaVu Sans Mono',consolas,'Courier New',monospace\"><span style=\"color: #008080; text-decoration-color: #008080; font-weight: bold\">22</span>: Name = Griff, Artist_popularity: <span style=\"color: #008080; text-decoration-color: #008080; font-weight: bold\">64</span>, Follower_total:<span style=\"color: #008080; text-decoration-color: #008080; font-weight: bold\">342367</span>\n",
       "</pre>\n"
      ],
      "text/plain": [
       "\u001b[1;36m22\u001b[0m: Name = Griff, Artist_popularity: \u001b[1;36m64\u001b[0m, Follower_total:\u001b[1;36m342367\u001b[0m\n"
      ]
     },
     "metadata": {},
     "output_type": "display_data"
    },
    {
     "data": {
      "text/html": [
       "<pre style=\"white-space:pre;overflow-x:auto;line-height:normal;font-family:Menlo,'DejaVu Sans Mono',consolas,'Courier New',monospace\"><span style=\"color: #008080; text-decoration-color: #008080; font-weight: bold\">23</span>: Name = SIX, Artist_popularity: <span style=\"color: #008080; text-decoration-color: #008080; font-weight: bold\">62</span>, Follower_total:<span style=\"color: #008080; text-decoration-color: #008080; font-weight: bold\">324066</span>\n",
       "</pre>\n"
      ],
      "text/plain": [
       "\u001b[1;36m23\u001b[0m: Name = SIX, Artist_popularity: \u001b[1;36m62\u001b[0m, Follower_total:\u001b[1;36m324066\u001b[0m\n"
      ]
     },
     "metadata": {},
     "output_type": "display_data"
    },
    {
     "data": {
      "text/html": [
       "<pre style=\"white-space:pre;overflow-x:auto;line-height:normal;font-family:Menlo,'DejaVu Sans Mono',consolas,'Courier New',monospace\"><span style=\"color: #008080; text-decoration-color: #008080; font-weight: bold\">24</span>: Name = Addison Rae, Artist_popularity: <span style=\"color: #008080; text-decoration-color: #008080; font-weight: bold\">69</span>, Follower_total:<span style=\"color: #008080; text-decoration-color: #008080; font-weight: bold\">339059</span>\n",
       "</pre>\n"
      ],
      "text/plain": [
       "\u001b[1;36m24\u001b[0m: Name = Addison Rae, Artist_popularity: \u001b[1;36m69\u001b[0m, Follower_total:\u001b[1;36m339059\u001b[0m\n"
      ]
     },
     "metadata": {},
     "output_type": "display_data"
    },
    {
     "data": {
      "text/html": [
       "<pre style=\"white-space:pre;overflow-x:auto;line-height:normal;font-family:Menlo,'DejaVu Sans Mono',consolas,'Courier New',monospace\"><span style=\"color: #008080; text-decoration-color: #008080; font-weight: bold\">25</span>: Name = Reneé Rapp, Artist_popularity: <span style=\"color: #008080; text-decoration-color: #008080; font-weight: bold\">70</span>, Follower_total:<span style=\"color: #008080; text-decoration-color: #008080; font-weight: bold\">955583</span>\n",
       "</pre>\n"
      ],
      "text/plain": [
       "\u001b[1;36m25\u001b[0m: Name = Reneé Rapp, Artist_popularity: \u001b[1;36m70\u001b[0m, Follower_total:\u001b[1;36m955583\u001b[0m\n"
      ]
     },
     "metadata": {},
     "output_type": "display_data"
    },
    {
     "data": {
      "text/html": [
       "<pre style=\"white-space:pre;overflow-x:auto;line-height:normal;font-family:Menlo,'DejaVu Sans Mono',consolas,'Courier New',monospace\"><span style=\"color: #008080; text-decoration-color: #008080; font-weight: bold\">26</span>: Name = Nessa Barrett, Artist_popularity: <span style=\"color: #008080; text-decoration-color: #008080; font-weight: bold\">67</span>, Follower_total:<span style=\"color: #008080; text-decoration-color: #008080; font-weight: bold\">1357601</span>\n",
       "</pre>\n"
      ],
      "text/plain": [
       "\u001b[1;36m26\u001b[0m: Name = Nessa Barrett, Artist_popularity: \u001b[1;36m67\u001b[0m, Follower_total:\u001b[1;36m1357601\u001b[0m\n"
      ]
     },
     "metadata": {},
     "output_type": "display_data"
    },
    {
     "data": {
      "text/html": [
       "<pre style=\"white-space:pre;overflow-x:auto;line-height:normal;font-family:Menlo,'DejaVu Sans Mono',consolas,'Courier New',monospace\"><span style=\"color: #008080; text-decoration-color: #008080; font-weight: bold\">27</span>: Name = FLETCHER, Artist_popularity: <span style=\"color: #008080; text-decoration-color: #008080; font-weight: bold\">65</span>, Follower_total:<span style=\"color: #008080; text-decoration-color: #008080; font-weight: bold\">948481</span>\n",
       "</pre>\n"
      ],
      "text/plain": [
       "\u001b[1;36m27\u001b[0m: Name = FLETCHER, Artist_popularity: \u001b[1;36m65\u001b[0m, Follower_total:\u001b[1;36m948481\u001b[0m\n"
      ]
     },
     "metadata": {},
     "output_type": "display_data"
    },
    {
     "data": {
      "text/html": [
       "<pre style=\"white-space:pre;overflow-x:auto;line-height:normal;font-family:Menlo,'DejaVu Sans Mono',consolas,'Courier New',monospace\"><span style=\"color: #008080; text-decoration-color: #008080; font-weight: bold\">28</span>: Name = Scouting For Girls, Artist_popularity: <span style=\"color: #008080; text-decoration-color: #008080; font-weight: bold\">54</span>, Follower_total:<span style=\"color: #008080; text-decoration-color: #008080; font-weight: bold\">345612</span>\n",
       "</pre>\n"
      ],
      "text/plain": [
       "\u001b[1;36m28\u001b[0m: Name = Scouting For Girls, Artist_popularity: \u001b[1;36m54\u001b[0m, Follower_total:\u001b[1;36m345612\u001b[0m\n"
      ]
     },
     "metadata": {},
     "output_type": "display_data"
    },
    {
     "data": {
      "text/html": [
       "<pre style=\"white-space:pre;overflow-x:auto;line-height:normal;font-family:Menlo,'DejaVu Sans Mono',consolas,'Courier New',monospace\"><span style=\"color: #008080; text-decoration-color: #008080; font-weight: bold\">29</span>: Name = Maisie Peters, Artist_popularity: <span style=\"color: #008080; text-decoration-color: #008080; font-weight: bold\">64</span>, Follower_total:<span style=\"color: #008080; text-decoration-color: #008080; font-weight: bold\">650491</span>\n",
       "</pre>\n"
      ],
      "text/plain": [
       "\u001b[1;36m29\u001b[0m: Name = Maisie Peters, Artist_popularity: \u001b[1;36m64\u001b[0m, Follower_total:\u001b[1;36m650491\u001b[0m\n"
      ]
     },
     "metadata": {},
     "output_type": "display_data"
    },
    {
     "data": {
      "text/html": [
       "<pre style=\"white-space:pre;overflow-x:auto;line-height:normal;font-family:Menlo,'DejaVu Sans Mono',consolas,'Courier New',monospace\"><span style=\"color: #008080; text-decoration-color: #008080; font-weight: bold\">30</span>: Name = Neoni, Artist_popularity: <span style=\"color: #008080; text-decoration-color: #008080; font-weight: bold\">69</span>, Follower_total:<span style=\"color: #008080; text-decoration-color: #008080; font-weight: bold\">473614</span>\n",
       "</pre>\n"
      ],
      "text/plain": [
       "\u001b[1;36m30\u001b[0m: Name = Neoni, Artist_popularity: \u001b[1;36m69\u001b[0m, Follower_total:\u001b[1;36m473614\u001b[0m\n"
      ]
     },
     "metadata": {},
     "output_type": "display_data"
    },
    {
     "data": {
      "text/html": [
       "<pre style=\"white-space:pre;overflow-x:auto;line-height:normal;font-family:Menlo,'DejaVu Sans Mono',consolas,'Courier New',monospace\"><span style=\"color: #008080; text-decoration-color: #008080; font-weight: bold\">31</span>: Name = Bea Miller, Artist_popularity: <span style=\"color: #008080; text-decoration-color: #008080; font-weight: bold\">65</span>, Follower_total:<span style=\"color: #008080; text-decoration-color: #008080; font-weight: bold\">3111181</span>\n",
       "</pre>\n"
      ],
      "text/plain": [
       "\u001b[1;36m31\u001b[0m: Name = Bea Miller, Artist_popularity: \u001b[1;36m65\u001b[0m, Follower_total:\u001b[1;36m3111181\u001b[0m\n"
      ]
     },
     "metadata": {},
     "output_type": "display_data"
    },
    {
     "data": {
      "text/html": [
       "<pre style=\"white-space:pre;overflow-x:auto;line-height:normal;font-family:Menlo,'DejaVu Sans Mono',consolas,'Courier New',monospace\"><span style=\"color: #008080; text-decoration-color: #008080; font-weight: bold\">32</span>: Name = Rina Sawayama, Artist_popularity: <span style=\"color: #008080; text-decoration-color: #008080; font-weight: bold\">59</span>, Follower_total:<span style=\"color: #008080; text-decoration-color: #008080; font-weight: bold\">1032986</span>\n",
       "</pre>\n"
      ],
      "text/plain": [
       "\u001b[1;36m32\u001b[0m: Name = Rina Sawayama, Artist_popularity: \u001b[1;36m59\u001b[0m, Follower_total:\u001b[1;36m1032986\u001b[0m\n"
      ]
     },
     "metadata": {},
     "output_type": "display_data"
    },
    {
     "data": {
      "text/html": [
       "<pre style=\"white-space:pre;overflow-x:auto;line-height:normal;font-family:Menlo,'DejaVu Sans Mono',consolas,'Courier New',monospace\"><span style=\"color: #008080; text-decoration-color: #008080; font-weight: bold\">33</span>: Name = Mae Stephens, Artist_popularity: <span style=\"color: #008080; text-decoration-color: #008080; font-weight: bold\">63</span>, Follower_total:<span style=\"color: #008080; text-decoration-color: #008080; font-weight: bold\">179164</span>\n",
       "</pre>\n"
      ],
      "text/plain": [
       "\u001b[1;36m33\u001b[0m: Name = Mae Stephens, Artist_popularity: \u001b[1;36m63\u001b[0m, Follower_total:\u001b[1;36m179164\u001b[0m\n"
      ]
     },
     "metadata": {},
     "output_type": "display_data"
    },
    {
     "data": {
      "text/html": [
       "<pre style=\"white-space:pre;overflow-x:auto;line-height:normal;font-family:Menlo,'DejaVu Sans Mono',consolas,'Courier New',monospace\"><span style=\"color: #008080; text-decoration-color: #008080; font-weight: bold\">34</span>: Name = Sabrina Gomes, Artist_popularity: <span style=\"color: #008080; text-decoration-color: #008080; font-weight: bold\">51</span>, Follower_total:<span style=\"color: #008080; text-decoration-color: #008080; font-weight: bold\">1755</span>\n",
       "</pre>\n"
      ],
      "text/plain": [
       "\u001b[1;36m34\u001b[0m: Name = Sabrina Gomes, Artist_popularity: \u001b[1;36m51\u001b[0m, Follower_total:\u001b[1;36m1755\u001b[0m\n"
      ]
     },
     "metadata": {},
     "output_type": "display_data"
    },
    {
     "data": {
      "text/html": [
       "<pre style=\"white-space:pre;overflow-x:auto;line-height:normal;font-family:Menlo,'DejaVu Sans Mono',consolas,'Courier New',monospace\"><span style=\"color: #008080; text-decoration-color: #008080; font-weight: bold\">35</span>: Name = Dyo, Artist_popularity: <span style=\"color: #008080; text-decoration-color: #008080; font-weight: bold\">51</span>, Follower_total:<span style=\"color: #008080; text-decoration-color: #008080; font-weight: bold\">7003</span>\n",
       "</pre>\n"
      ],
      "text/plain": [
       "\u001b[1;36m35\u001b[0m: Name = Dyo, Artist_popularity: \u001b[1;36m51\u001b[0m, Follower_total:\u001b[1;36m7003\u001b[0m\n"
      ]
     },
     "metadata": {},
     "output_type": "display_data"
    },
    {
     "data": {
      "text/html": [
       "<pre style=\"white-space:pre;overflow-x:auto;line-height:normal;font-family:Menlo,'DejaVu Sans Mono',consolas,'Courier New',monospace\"><span style=\"color: #008080; text-decoration-color: #008080; font-weight: bold\">36</span>: Name = Ashe, Artist_popularity: <span style=\"color: #008080; text-decoration-color: #008080; font-weight: bold\">69</span>, Follower_total:<span style=\"color: #008080; text-decoration-color: #008080; font-weight: bold\">1611491</span>\n",
       "</pre>\n"
      ],
      "text/plain": [
       "\u001b[1;36m36\u001b[0m: Name = Ashe, Artist_popularity: \u001b[1;36m69\u001b[0m, Follower_total:\u001b[1;36m1611491\u001b[0m\n"
      ]
     },
     "metadata": {},
     "output_type": "display_data"
    },
    {
     "data": {
      "text/html": [
       "<pre style=\"white-space:pre;overflow-x:auto;line-height:normal;font-family:Menlo,'DejaVu Sans Mono',consolas,'Courier New',monospace\"><span style=\"color: #008080; text-decoration-color: #008080; font-weight: bold\">37</span>: Name = Elle McLemore, Artist_popularity: <span style=\"color: #008080; text-decoration-color: #008080; font-weight: bold\">57</span>, Follower_total:<span style=\"color: #008080; text-decoration-color: #008080; font-weight: bold\">5302</span>\n",
       "</pre>\n"
      ],
      "text/plain": [
       "\u001b[1;36m37\u001b[0m: Name = Elle McLemore, Artist_popularity: \u001b[1;36m57\u001b[0m, Follower_total:\u001b[1;36m5302\u001b[0m\n"
      ]
     },
     "metadata": {},
     "output_type": "display_data"
    },
    {
     "data": {
      "text/html": [
       "<pre style=\"white-space:pre;overflow-x:auto;line-height:normal;font-family:Menlo,'DejaVu Sans Mono',consolas,'Courier New',monospace\"><span style=\"color: #008080; text-decoration-color: #008080; font-weight: bold\">38</span>: Name = Leah Kate, Artist_popularity: <span style=\"color: #008080; text-decoration-color: #008080; font-weight: bold\">57</span>, Follower_total:<span style=\"color: #008080; text-decoration-color: #008080; font-weight: bold\">236527</span>\n",
       "</pre>\n"
      ],
      "text/plain": [
       "\u001b[1;36m38\u001b[0m: Name = Leah Kate, Artist_popularity: \u001b[1;36m57\u001b[0m, Follower_total:\u001b[1;36m236527\u001b[0m\n"
      ]
     },
     "metadata": {},
     "output_type": "display_data"
    },
    {
     "data": {
      "text/html": [
       "<pre style=\"white-space:pre;overflow-x:auto;line-height:normal;font-family:Menlo,'DejaVu Sans Mono',consolas,'Courier New',monospace\"><span style=\"color: #008080; text-decoration-color: #008080; font-weight: bold\">39</span>: Name = Amy Allen Jack Antonoff Sabrina Carpenter, Artist_popularity: <span style=\"color: #008080; text-decoration-color: #008080; font-weight: bold\">0</span>, Follower_total:<span style=\"color: #008080; text-decoration-color: #008080; font-weight: bold\">1</span>\n",
       "</pre>\n"
      ],
      "text/plain": [
       "\u001b[1;36m39\u001b[0m: Name = Amy Allen Jack Antonoff Sabrina Carpenter, Artist_popularity: \u001b[1;36m0\u001b[0m, Follower_total:\u001b[1;36m1\u001b[0m\n"
      ]
     },
     "metadata": {},
     "output_type": "display_data"
    },
    {
     "data": {
      "text/html": [
       "<pre style=\"white-space:pre;overflow-x:auto;line-height:normal;font-family:Menlo,'DejaVu Sans Mono',consolas,'Courier New',monospace\"><span style=\"color: #008080; text-decoration-color: #008080; font-weight: bold\">40</span>: Name = Grace Carter, Artist_popularity: <span style=\"color: #008080; text-decoration-color: #008080; font-weight: bold\">47</span>, Follower_total:<span style=\"color: #008080; text-decoration-color: #008080; font-weight: bold\">221441</span>\n",
       "</pre>\n"
      ],
      "text/plain": [
       "\u001b[1;36m40\u001b[0m: Name = Grace Carter, Artist_popularity: \u001b[1;36m47\u001b[0m, Follower_total:\u001b[1;36m221441\u001b[0m\n"
      ]
     },
     "metadata": {},
     "output_type": "display_data"
    },
    {
     "data": {
      "text/html": [
       "<pre style=\"white-space:pre;overflow-x:auto;line-height:normal;font-family:Menlo,'DejaVu Sans Mono',consolas,'Courier New',monospace\"><span style=\"color: #008080; text-decoration-color: #008080; font-weight: bold\">41</span>: Name = Talia Mar, Artist_popularity: <span style=\"color: #008080; text-decoration-color: #008080; font-weight: bold\">48</span>, Follower_total:<span style=\"color: #008080; text-decoration-color: #008080; font-weight: bold\">120625</span>\n",
       "</pre>\n"
      ],
      "text/plain": [
       "\u001b[1;36m41\u001b[0m: Name = Talia Mar, Artist_popularity: \u001b[1;36m48\u001b[0m, Follower_total:\u001b[1;36m120625\u001b[0m\n"
      ]
     },
     "metadata": {},
     "output_type": "display_data"
    },
    {
     "data": {
      "text/html": [
       "<pre style=\"white-space:pre;overflow-x:auto;line-height:normal;font-family:Menlo,'DejaVu Sans Mono',consolas,'Courier New',monospace\"><span style=\"color: #008080; text-decoration-color: #008080; font-weight: bold\">42</span>: Name = Dylan, Artist_popularity: <span style=\"color: #008080; text-decoration-color: #008080; font-weight: bold\">49</span>, Follower_total:<span style=\"color: #008080; text-decoration-color: #008080; font-weight: bold\">198301</span>\n",
       "</pre>\n"
      ],
      "text/plain": [
       "\u001b[1;36m42\u001b[0m: Name = Dylan, Artist_popularity: \u001b[1;36m49\u001b[0m, Follower_total:\u001b[1;36m198301\u001b[0m\n"
      ]
     },
     "metadata": {},
     "output_type": "display_data"
    },
    {
     "data": {
      "text/html": [
       "<pre style=\"white-space:pre;overflow-x:auto;line-height:normal;font-family:Menlo,'DejaVu Sans Mono',consolas,'Courier New',monospace\"><span style=\"color: #008080; text-decoration-color: #008080; font-weight: bold\">43</span>: Name = RoRo, Artist_popularity: <span style=\"color: #008080; text-decoration-color: #008080; font-weight: bold\">58</span>, Follower_total:<span style=\"color: #008080; text-decoration-color: #008080; font-weight: bold\">5121</span>\n",
       "</pre>\n"
      ],
      "text/plain": [
       "\u001b[1;36m43\u001b[0m: Name = RoRo, Artist_popularity: \u001b[1;36m58\u001b[0m, Follower_total:\u001b[1;36m5121\u001b[0m\n"
      ]
     },
     "metadata": {},
     "output_type": "display_data"
    },
    {
     "data": {
      "text/html": [
       "<pre style=\"white-space:pre;overflow-x:auto;line-height:normal;font-family:Menlo,'DejaVu Sans Mono',consolas,'Courier New',monospace\"><span style=\"color: #008080; text-decoration-color: #008080; font-weight: bold\">44</span>: Name = Emei, Artist_popularity: <span style=\"color: #008080; text-decoration-color: #008080; font-weight: bold\">63</span>, Follower_total:<span style=\"color: #008080; text-decoration-color: #008080; font-weight: bold\">380497</span>\n",
       "</pre>\n"
      ],
      "text/plain": [
       "\u001b[1;36m44\u001b[0m: Name = Emei, Artist_popularity: \u001b[1;36m63\u001b[0m, Follower_total:\u001b[1;36m380497\u001b[0m\n"
      ]
     },
     "metadata": {},
     "output_type": "display_data"
    },
    {
     "data": {
      "text/html": [
       "<pre style=\"white-space:pre;overflow-x:auto;line-height:normal;font-family:Menlo,'DejaVu Sans Mono',consolas,'Courier New',monospace\"><span style=\"color: #008080; text-decoration-color: #008080; font-weight: bold\">45</span>: Name = Mabel, Artist_popularity: <span style=\"color: #008080; text-decoration-color: #008080; font-weight: bold\">54</span>, Follower_total:<span style=\"color: #008080; text-decoration-color: #008080; font-weight: bold\">173</span>\n",
       "</pre>\n"
      ],
      "text/plain": [
       "\u001b[1;36m45\u001b[0m: Name = Mabel, Artist_popularity: \u001b[1;36m54\u001b[0m, Follower_total:\u001b[1;36m173\u001b[0m\n"
      ]
     },
     "metadata": {},
     "output_type": "display_data"
    },
    {
     "data": {
      "text/html": [
       "<pre style=\"white-space:pre;overflow-x:auto;line-height:normal;font-family:Menlo,'DejaVu Sans Mono',consolas,'Courier New',monospace\"><span style=\"color: #008080; text-decoration-color: #008080; font-weight: bold\">46</span>: Name = Olivia O'Brien, Artist_popularity: <span style=\"color: #008080; text-decoration-color: #008080; font-weight: bold\">65</span>, Follower_total:<span style=\"color: #008080; text-decoration-color: #008080; font-weight: bold\">2049493</span>\n",
       "</pre>\n"
      ],
      "text/plain": [
       "\u001b[1;36m46\u001b[0m: Name = Olivia O'Brien, Artist_popularity: \u001b[1;36m65\u001b[0m, Follower_total:\u001b[1;36m2049493\u001b[0m\n"
      ]
     },
     "metadata": {},
     "output_type": "display_data"
    },
    {
     "data": {
      "text/html": [
       "<pre style=\"white-space:pre;overflow-x:auto;line-height:normal;font-family:Menlo,'DejaVu Sans Mono',consolas,'Courier New',monospace\"><span style=\"color: #008080; text-decoration-color: #008080; font-weight: bold\">47</span>: Name = CMAT, Artist_popularity: <span style=\"color: #008080; text-decoration-color: #008080; font-weight: bold\">51</span>, Follower_total:<span style=\"color: #008080; text-decoration-color: #008080; font-weight: bold\">84939</span>\n",
       "</pre>\n"
      ],
      "text/plain": [
       "\u001b[1;36m47\u001b[0m: Name = CMAT, Artist_popularity: \u001b[1;36m51\u001b[0m, Follower_total:\u001b[1;36m84939\u001b[0m\n"
      ]
     },
     "metadata": {},
     "output_type": "display_data"
    },
    {
     "data": {
      "text/html": [
       "<pre style=\"white-space:pre;overflow-x:auto;line-height:normal;font-family:Menlo,'DejaVu Sans Mono',consolas,'Courier New',monospace\"><span style=\"color: #008080; text-decoration-color: #008080; font-weight: bold\">48</span>: Name = GRACEY, Artist_popularity: <span style=\"color: #008080; text-decoration-color: #008080; font-weight: bold\">46</span>, Follower_total:<span style=\"color: #008080; text-decoration-color: #008080; font-weight: bold\">37217</span>\n",
       "</pre>\n"
      ],
      "text/plain": [
       "\u001b[1;36m48\u001b[0m: Name = GRACEY, Artist_popularity: \u001b[1;36m46\u001b[0m, Follower_total:\u001b[1;36m37217\u001b[0m\n"
      ]
     },
     "metadata": {},
     "output_type": "display_data"
    },
    {
     "data": {
      "text/html": [
       "<pre style=\"white-space:pre;overflow-x:auto;line-height:normal;font-family:Menlo,'DejaVu Sans Mono',consolas,'Courier New',monospace\"><span style=\"color: #008080; text-decoration-color: #008080; font-weight: bold\">49</span>: Name = dodie, Artist_popularity: <span style=\"color: #008080; text-decoration-color: #008080; font-weight: bold\">56</span>, Follower_total:<span style=\"color: #008080; text-decoration-color: #008080; font-weight: bold\">1051539</span>\n",
       "</pre>\n"
      ],
      "text/plain": [
       "\u001b[1;36m49\u001b[0m: Name = dodie, Artist_popularity: \u001b[1;36m56\u001b[0m, Follower_total:\u001b[1;36m1051539\u001b[0m\n"
      ]
     },
     "metadata": {},
     "output_type": "display_data"
    },
    {
     "data": {
      "text/html": [
       "<pre style=\"white-space:pre;overflow-x:auto;line-height:normal;font-family:Menlo,'DejaVu Sans Mono',consolas,'Courier New',monospace\"><span style=\"color: #008080; text-decoration-color: #008080; font-weight: bold\">50</span>: Name = piri, Artist_popularity: <span style=\"color: #008080; text-decoration-color: #008080; font-weight: bold\">53</span>, Follower_total:<span style=\"color: #008080; text-decoration-color: #008080; font-weight: bold\">72948</span>\n",
       "</pre>\n"
      ],
      "text/plain": [
       "\u001b[1;36m50\u001b[0m: Name = piri, Artist_popularity: \u001b[1;36m53\u001b[0m, Follower_total:\u001b[1;36m72948\u001b[0m\n"
      ]
     },
     "metadata": {},
     "output_type": "display_data"
    }
   ],
   "source": [
    "# artist popularity and follower\n",
    "import spotify\n",
    "from spotipy.oauth2 import SpotifyOAuth\n",
    "\n",
    "SPOTIPY_CLIENT_ID = 'f0c032e2fcb14d4d944e0e43b36a8b7e'\n",
    "SPOTIPY_CLIENT_SECRET = '95bf09b09da94d44a6e3ad7cfabd0dd4'\n",
    "SPOTIPY_REDIRECT_URI = 'http://localhost:8080'\n",
    "\n",
    "sp = spotipy.Spotify(auth_manager=SpotifyOAuth(client_id=SPOTIPY_CLIENT_ID,\n",
    "                                               client_secret=SPOTIPY_CLIENT_SECRET,\n",
    "                                               redirect_uri =SPOTIPY_REDIRECT_URI))\n",
    "\n",
    "popular_artist = sp.search(q = 'Sabrina Carpenter',limit = 50, type='artist')\n",
    "\n",
    "index = 1\n",
    "for index, artist in enumerate(popular_artist['artists']['items']):\n",
    "    index = index + 1\n",
    "    name = artist['name']\n",
    "    popularity = artist['popularity']\n",
    "    followers_total = artist['followers']['total']\n",
    "    print(f\"{index}: Name = {name}, Artist_popularity: {popularity}, Follower_total:{followers_total}\")"
   ]
  },
  {
   "cell_type": "code",
   "execution_count": 172,
   "id": "5709bbc9-3a14-4b9f-84d6-f890074e5144",
   "metadata": {},
   "outputs": [
    {
     "data": {
      "text/html": [
       "<pre style=\"white-space:pre;overflow-x:auto;line-height:normal;font-family:Menlo,'DejaVu Sans Mono',consolas,'Courier New',monospace\"><span style=\"color: #008080; text-decoration-color: #008080; font-weight: bold\">1</span>. track_id: 2qSkIjg1o9h3YT9RAgYN75, track_name = Espresso, Song_popularity: <span style=\"color: #008080; text-decoration-color: #008080; font-weight: bold\">97</span>, album_name: Espresso\n",
       "</pre>\n"
      ],
      "text/plain": [
       "\u001b[1;36m1\u001b[0m. track_id: 2qSkIjg1o9h3YT9RAgYN75, track_name = Espresso, Song_popularity: \u001b[1;36m97\u001b[0m, album_name: Espresso\n"
      ]
     },
     "metadata": {},
     "output_type": "display_data"
    },
    {
     "data": {
      "text/html": [
       "<pre style=\"white-space:pre;overflow-x:auto;line-height:normal;font-family:Menlo,'DejaVu Sans Mono',consolas,'Courier New',monospace\"><span style=\"color: #008080; text-decoration-color: #008080; font-weight: bold\">2</span>. track_id: 5N3hjp1WNayUPZrA8kJmJP, track_name = Please Please Please, Song_popularity: <span style=\"color: #008080; text-decoration-color: #008080; font-weight: bold\">96</span>, album_name: Please \n",
       "Please Please\n",
       "</pre>\n"
      ],
      "text/plain": [
       "\u001b[1;36m2\u001b[0m. track_id: 5N3hjp1WNayUPZrA8kJmJP, track_name = Please Please Please, Song_popularity: \u001b[1;36m96\u001b[0m, album_name: Please \n",
       "Please Please\n"
      ]
     },
     "metadata": {},
     "output_type": "display_data"
    },
    {
     "data": {
      "text/html": [
       "<pre style=\"white-space:pre;overflow-x:auto;line-height:normal;font-family:Menlo,'DejaVu Sans Mono',consolas,'Courier New',monospace\"><span style=\"color: #008080; text-decoration-color: #008080; font-weight: bold\">3</span>. track_id: 5G2f63n7IPVPPjfNIGih7Q, track_name = Taste, Song_popularity: <span style=\"color: #008080; text-decoration-color: #008080; font-weight: bold\">95</span>, album_name: Short n' Sweet\n",
       "</pre>\n"
      ],
      "text/plain": [
       "\u001b[1;36m3\u001b[0m. track_id: 5G2f63n7IPVPPjfNIGih7Q, track_name = Taste, Song_popularity: \u001b[1;36m95\u001b[0m, album_name: Short n' Sweet\n"
      ]
     },
     "metadata": {},
     "output_type": "display_data"
    },
    {
     "data": {
      "text/html": [
       "<pre style=\"white-space:pre;overflow-x:auto;line-height:normal;font-family:Menlo,'DejaVu Sans Mono',consolas,'Courier New',monospace\"><span style=\"color: #008080; text-decoration-color: #008080; font-weight: bold\">4</span>. track_id: 1UHS8Rf6h5Ar3CDWRd3wjF, track_name = Bed Chem, Song_popularity: <span style=\"color: #008080; text-decoration-color: #008080; font-weight: bold\">92</span>, album_name: Short n' Sweet\n",
       "</pre>\n"
      ],
      "text/plain": [
       "\u001b[1;36m4\u001b[0m. track_id: 1UHS8Rf6h5Ar3CDWRd3wjF, track_name = Bed Chem, Song_popularity: \u001b[1;36m92\u001b[0m, album_name: Short n' Sweet\n"
      ]
     },
     "metadata": {},
     "output_type": "display_data"
    },
    {
     "data": {
      "text/html": [
       "<pre style=\"white-space:pre;overflow-x:auto;line-height:normal;font-family:Menlo,'DejaVu Sans Mono',consolas,'Courier New',monospace\"><span style=\"color: #008080; text-decoration-color: #008080; font-weight: bold\">5</span>. track_id: 102YUQbYmwdBXS7jwamI90, track_name = Good Graces, Song_popularity: <span style=\"color: #008080; text-decoration-color: #008080; font-weight: bold\">90</span>, album_name: Short n' Sweet\n",
       "</pre>\n"
      ],
      "text/plain": [
       "\u001b[1;36m5\u001b[0m. track_id: 102YUQbYmwdBXS7jwamI90, track_name = Good Graces, Song_popularity: \u001b[1;36m90\u001b[0m, album_name: Short n' Sweet\n"
      ]
     },
     "metadata": {},
     "output_type": "display_data"
    },
    {
     "data": {
      "text/html": [
       "<pre style=\"white-space:pre;overflow-x:auto;line-height:normal;font-family:Menlo,'DejaVu Sans Mono',consolas,'Courier New',monospace\"><span style=\"color: #008080; text-decoration-color: #008080; font-weight: bold\">6</span>. track_id: 6dgUya35uo964z7GZXM07g, track_name = Nonsense, Song_popularity: <span style=\"color: #008080; text-decoration-color: #008080; font-weight: bold\">88</span>, album_name: emails i can't send\n",
       "</pre>\n"
      ],
      "text/plain": [
       "\u001b[1;36m6\u001b[0m. track_id: 6dgUya35uo964z7GZXM07g, track_name = Nonsense, Song_popularity: \u001b[1;36m88\u001b[0m, album_name: emails i can't send\n"
      ]
     },
     "metadata": {},
     "output_type": "display_data"
    },
    {
     "data": {
      "text/html": [
       "<pre style=\"white-space:pre;overflow-x:auto;line-height:normal;font-family:Menlo,'DejaVu Sans Mono',consolas,'Courier New',monospace\"><span style=\"color: #008080; text-decoration-color: #008080; font-weight: bold\">7</span>. track_id: 21B4gaTWnTkuSh77iWEXdS, track_name = Juno, Song_popularity: <span style=\"color: #008080; text-decoration-color: #008080; font-weight: bold\">88</span>, album_name: Short n' Sweet\n",
       "</pre>\n"
      ],
      "text/plain": [
       "\u001b[1;36m7\u001b[0m. track_id: 21B4gaTWnTkuSh77iWEXdS, track_name = Juno, Song_popularity: \u001b[1;36m88\u001b[0m, album_name: Short n' Sweet\n"
      ]
     },
     "metadata": {},
     "output_type": "display_data"
    },
    {
     "data": {
      "text/html": [
       "<pre style=\"white-space:pre;overflow-x:auto;line-height:normal;font-family:Menlo,'DejaVu Sans Mono',consolas,'Courier New',monospace\"><span style=\"color: #008080; text-decoration-color: #008080; font-weight: bold\">8</span>. track_id: 2Zo1PcszsT9WQ0ANntJbID, track_name = Feather, Song_popularity: <span style=\"color: #008080; text-decoration-color: #008080; font-weight: bold\">87</span>, album_name: emails i can’t send \n",
       "fwd:\n",
       "</pre>\n"
      ],
      "text/plain": [
       "\u001b[1;36m8\u001b[0m. track_id: 2Zo1PcszsT9WQ0ANntJbID, track_name = Feather, Song_popularity: \u001b[1;36m87\u001b[0m, album_name: emails i can’t send \n",
       "fwd:\n"
      ]
     },
     "metadata": {},
     "output_type": "display_data"
    },
    {
     "data": {
      "text/html": [
       "<pre style=\"white-space:pre;overflow-x:auto;line-height:normal;font-family:Menlo,'DejaVu Sans Mono',consolas,'Courier New',monospace\"><span style=\"color: #008080; text-decoration-color: #008080; font-weight: bold\">9</span>. track_id: 5oIVNm56t6OIf9ZjdEG3ud, track_name = Coincidence, Song_popularity: <span style=\"color: #008080; text-decoration-color: #008080; font-weight: bold\">87</span>, album_name: Short n' Sweet\n",
       "</pre>\n"
      ],
      "text/plain": [
       "\u001b[1;36m9\u001b[0m. track_id: 5oIVNm56t6OIf9ZjdEG3ud, track_name = Coincidence, Song_popularity: \u001b[1;36m87\u001b[0m, album_name: Short n' Sweet\n"
      ]
     },
     "metadata": {},
     "output_type": "display_data"
    },
    {
     "data": {
      "text/html": [
       "<pre style=\"white-space:pre;overflow-x:auto;line-height:normal;font-family:Menlo,'DejaVu Sans Mono',consolas,'Courier New',monospace\"><span style=\"color: #008080; text-decoration-color: #008080; font-weight: bold\">10</span>. track_id: 3iPIDAFybaoyqX7hvAfWkl, track_name = Sharpest Tool, Song_popularity: <span style=\"color: #008080; text-decoration-color: #008080; font-weight: bold\">87</span>, album_name: Short n' Sweet\n",
       "</pre>\n"
      ],
      "text/plain": [
       "\u001b[1;36m10\u001b[0m. track_id: 3iPIDAFybaoyqX7hvAfWkl, track_name = Sharpest Tool, Song_popularity: \u001b[1;36m87\u001b[0m, album_name: Short n' Sweet\n"
      ]
     },
     "metadata": {},
     "output_type": "display_data"
    }
   ],
   "source": [
    "# Popularity of songs by country (USA)\n",
    "usa_artist_tracks = sp.artist_top_tracks(artist_id = '74KM79TiuVKeVCqs8QtB0B', country='US')\n",
    "\n",
    "for index, artist in enumerate(usa_artist_tracks['tracks']):\n",
    "    index = index + 1\n",
    "    song_name = artist['name']\n",
    "    album_name = artist['album']['name']\n",
    "    popularity = artist['popularity']\n",
    "    track_id = artist['id']\n",
    "    print(f\"{index}. track_id: {track_id}, track_name = {song_name}, Song_popularity: {popularity}, album_name: {album_name}\")"
   ]
  },
  {
   "cell_type": "code",
   "execution_count": 167,
   "id": "1a7e45c9-5d3c-4ad6-be09-146728d90361",
   "metadata": {},
   "outputs": [
    {
     "data": {
      "text/html": [
       "<pre style=\"white-space:pre;overflow-x:auto;line-height:normal;font-family:Menlo,'DejaVu Sans Mono',consolas,'Courier New',monospace\"><span style=\"color: #008080; text-decoration-color: #008080; font-weight: bold\">1</span>. track_id: 2qSkIjg1o9h3YT9RAgYN75, track_name = Espresso, Song_popularity: <span style=\"color: #008080; text-decoration-color: #008080; font-weight: bold\">97</span>, album_name: Espresso\n",
       "</pre>\n"
      ],
      "text/plain": [
       "\u001b[1;36m1\u001b[0m. track_id: 2qSkIjg1o9h3YT9RAgYN75, track_name = Espresso, Song_popularity: \u001b[1;36m97\u001b[0m, album_name: Espresso\n"
      ]
     },
     "metadata": {},
     "output_type": "display_data"
    },
    {
     "data": {
      "text/html": [
       "<pre style=\"white-space:pre;overflow-x:auto;line-height:normal;font-family:Menlo,'DejaVu Sans Mono',consolas,'Courier New',monospace\"><span style=\"color: #008080; text-decoration-color: #008080; font-weight: bold\">2</span>. track_id: 5N3hjp1WNayUPZrA8kJmJP, track_name = Please Please Please, Song_popularity: <span style=\"color: #008080; text-decoration-color: #008080; font-weight: bold\">96</span>, album_name: Please \n",
       "Please Please\n",
       "</pre>\n"
      ],
      "text/plain": [
       "\u001b[1;36m2\u001b[0m. track_id: 5N3hjp1WNayUPZrA8kJmJP, track_name = Please Please Please, Song_popularity: \u001b[1;36m96\u001b[0m, album_name: Please \n",
       "Please Please\n"
      ]
     },
     "metadata": {},
     "output_type": "display_data"
    },
    {
     "data": {
      "text/html": [
       "<pre style=\"white-space:pre;overflow-x:auto;line-height:normal;font-family:Menlo,'DejaVu Sans Mono',consolas,'Courier New',monospace\"><span style=\"color: #008080; text-decoration-color: #008080; font-weight: bold\">3</span>. track_id: 5G2f63n7IPVPPjfNIGih7Q, track_name = Taste, Song_popularity: <span style=\"color: #008080; text-decoration-color: #008080; font-weight: bold\">95</span>, album_name: Short n' Sweet\n",
       "</pre>\n"
      ],
      "text/plain": [
       "\u001b[1;36m3\u001b[0m. track_id: 5G2f63n7IPVPPjfNIGih7Q, track_name = Taste, Song_popularity: \u001b[1;36m95\u001b[0m, album_name: Short n' Sweet\n"
      ]
     },
     "metadata": {},
     "output_type": "display_data"
    },
    {
     "data": {
      "text/html": [
       "<pre style=\"white-space:pre;overflow-x:auto;line-height:normal;font-family:Menlo,'DejaVu Sans Mono',consolas,'Courier New',monospace\"><span style=\"color: #008080; text-decoration-color: #008080; font-weight: bold\">4</span>. track_id: 1UHS8Rf6h5Ar3CDWRd3wjF, track_name = Bed Chem, Song_popularity: <span style=\"color: #008080; text-decoration-color: #008080; font-weight: bold\">92</span>, album_name: Short n' Sweet\n",
       "</pre>\n"
      ],
      "text/plain": [
       "\u001b[1;36m4\u001b[0m. track_id: 1UHS8Rf6h5Ar3CDWRd3wjF, track_name = Bed Chem, Song_popularity: \u001b[1;36m92\u001b[0m, album_name: Short n' Sweet\n"
      ]
     },
     "metadata": {},
     "output_type": "display_data"
    },
    {
     "data": {
      "text/html": [
       "<pre style=\"white-space:pre;overflow-x:auto;line-height:normal;font-family:Menlo,'DejaVu Sans Mono',consolas,'Courier New',monospace\"><span style=\"color: #008080; text-decoration-color: #008080; font-weight: bold\">5</span>. track_id: 102YUQbYmwdBXS7jwamI90, track_name = Good Graces, Song_popularity: <span style=\"color: #008080; text-decoration-color: #008080; font-weight: bold\">90</span>, album_name: Short n' Sweet\n",
       "</pre>\n"
      ],
      "text/plain": [
       "\u001b[1;36m5\u001b[0m. track_id: 102YUQbYmwdBXS7jwamI90, track_name = Good Graces, Song_popularity: \u001b[1;36m90\u001b[0m, album_name: Short n' Sweet\n"
      ]
     },
     "metadata": {},
     "output_type": "display_data"
    },
    {
     "data": {
      "text/html": [
       "<pre style=\"white-space:pre;overflow-x:auto;line-height:normal;font-family:Menlo,'DejaVu Sans Mono',consolas,'Courier New',monospace\"><span style=\"color: #008080; text-decoration-color: #008080; font-weight: bold\">6</span>. track_id: 6dgUya35uo964z7GZXM07g, track_name = Nonsense, Song_popularity: <span style=\"color: #008080; text-decoration-color: #008080; font-weight: bold\">88</span>, album_name: emails i can't send\n",
       "</pre>\n"
      ],
      "text/plain": [
       "\u001b[1;36m6\u001b[0m. track_id: 6dgUya35uo964z7GZXM07g, track_name = Nonsense, Song_popularity: \u001b[1;36m88\u001b[0m, album_name: emails i can't send\n"
      ]
     },
     "metadata": {},
     "output_type": "display_data"
    },
    {
     "data": {
      "text/html": [
       "<pre style=\"white-space:pre;overflow-x:auto;line-height:normal;font-family:Menlo,'DejaVu Sans Mono',consolas,'Courier New',monospace\"><span style=\"color: #008080; text-decoration-color: #008080; font-weight: bold\">7</span>. track_id: 21B4gaTWnTkuSh77iWEXdS, track_name = Juno, Song_popularity: <span style=\"color: #008080; text-decoration-color: #008080; font-weight: bold\">88</span>, album_name: Short n' Sweet\n",
       "</pre>\n"
      ],
      "text/plain": [
       "\u001b[1;36m7\u001b[0m. track_id: 21B4gaTWnTkuSh77iWEXdS, track_name = Juno, Song_popularity: \u001b[1;36m88\u001b[0m, album_name: Short n' Sweet\n"
      ]
     },
     "metadata": {},
     "output_type": "display_data"
    },
    {
     "data": {
      "text/html": [
       "<pre style=\"white-space:pre;overflow-x:auto;line-height:normal;font-family:Menlo,'DejaVu Sans Mono',consolas,'Courier New',monospace\"><span style=\"color: #008080; text-decoration-color: #008080; font-weight: bold\">8</span>. track_id: 2Zo1PcszsT9WQ0ANntJbID, track_name = Feather, Song_popularity: <span style=\"color: #008080; text-decoration-color: #008080; font-weight: bold\">87</span>, album_name: emails i can’t send \n",
       "fwd:\n",
       "</pre>\n"
      ],
      "text/plain": [
       "\u001b[1;36m8\u001b[0m. track_id: 2Zo1PcszsT9WQ0ANntJbID, track_name = Feather, Song_popularity: \u001b[1;36m87\u001b[0m, album_name: emails i can’t send \n",
       "fwd:\n"
      ]
     },
     "metadata": {},
     "output_type": "display_data"
    },
    {
     "data": {
      "text/html": [
       "<pre style=\"white-space:pre;overflow-x:auto;line-height:normal;font-family:Menlo,'DejaVu Sans Mono',consolas,'Courier New',monospace\"><span style=\"color: #008080; text-decoration-color: #008080; font-weight: bold\">9</span>. track_id: 5oIVNm56t6OIf9ZjdEG3ud, track_name = Coincidence, Song_popularity: <span style=\"color: #008080; text-decoration-color: #008080; font-weight: bold\">87</span>, album_name: Short n' Sweet\n",
       "</pre>\n"
      ],
      "text/plain": [
       "\u001b[1;36m9\u001b[0m. track_id: 5oIVNm56t6OIf9ZjdEG3ud, track_name = Coincidence, Song_popularity: \u001b[1;36m87\u001b[0m, album_name: Short n' Sweet\n"
      ]
     },
     "metadata": {},
     "output_type": "display_data"
    },
    {
     "data": {
      "text/html": [
       "<pre style=\"white-space:pre;overflow-x:auto;line-height:normal;font-family:Menlo,'DejaVu Sans Mono',consolas,'Courier New',monospace\"><span style=\"color: #008080; text-decoration-color: #008080; font-weight: bold\">10</span>. track_id: 3iPIDAFybaoyqX7hvAfWkl, track_name = Sharpest Tool, Song_popularity: <span style=\"color: #008080; text-decoration-color: #008080; font-weight: bold\">87</span>, album_name: Short n' Sweet\n",
       "</pre>\n"
      ],
      "text/plain": [
       "\u001b[1;36m10\u001b[0m. track_id: 3iPIDAFybaoyqX7hvAfWkl, track_name = Sharpest Tool, Song_popularity: \u001b[1;36m87\u001b[0m, album_name: Short n' Sweet\n"
      ]
     },
     "metadata": {},
     "output_type": "display_data"
    }
   ],
   "source": [
    "# popularity of song within an album\n",
    "# Popularity of songs by country (UK)\n",
    "artist_tracks = sp.artist_top_tracks(artist_id = '74KM79TiuVKeVCqs8QtB0B', country='GB')\n",
    "\n",
    "for index, artist in enumerate(artist_tracks['tracks']):\n",
    "    index = index + 1\n",
    "    song_name = artist['name']\n",
    "    album_name = artist['album']['name']\n",
    "    popularity = artist['popularity']\n",
    "    track_id = artist['id']\n",
    "    print(f\"{index}. track_id: {track_id}, track_name = {song_name}, Song_popularity: {popularity}, album_name: {album_name}\")"
   ]
  },
  {
   "cell_type": "code",
   "execution_count": 158,
   "id": "a69abe05-17c2-4f61-9fae-84d894937369",
   "metadata": {},
   "outputs": [
    {
     "data": {
      "text/html": [
       "<pre style=\"white-space:pre;overflow-x:auto;line-height:normal;font-family:Menlo,'DejaVu Sans Mono',consolas,'Courier New',monospace\">Today’s Top Hits\n",
       "</pre>\n"
      ],
      "text/plain": [
       "Today’s Top Hits\n"
      ]
     },
     "metadata": {},
     "output_type": "display_data"
    },
    {
     "data": {
      "text/html": [
       "<pre style=\"white-space:pre;overflow-x:auto;line-height:normal;font-family:Menlo,'DejaVu Sans Mono',consolas,'Courier New',monospace\"><span style=\"color: #008080; text-decoration-color: #008080; font-weight: bold\">1</span>. Artist_name: The Weeknd, Song_name: Dancing In The Flames, Song_popularity: <span style=\"color: #008080; text-decoration-color: #008080; font-weight: bold\">80</span>\n",
       "</pre>\n"
      ],
      "text/plain": [
       "\u001b[1;36m1\u001b[0m. Artist_name: The Weeknd, Song_name: Dancing In The Flames, Song_popularity: \u001b[1;36m80\u001b[0m\n"
      ]
     },
     "metadata": {},
     "output_type": "display_data"
    },
    {
     "data": {
      "text/html": [
       "<pre style=\"white-space:pre;overflow-x:auto;line-height:normal;font-family:Menlo,'DejaVu Sans Mono',consolas,'Courier New',monospace\"><span style=\"color: #008080; text-decoration-color: #008080; font-weight: bold\">2</span>. Artist_name: Sabrina Carpenter, Song_name: Taste, Song_popularity: <span style=\"color: #008080; text-decoration-color: #008080; font-weight: bold\">83</span>\n",
       "</pre>\n"
      ],
      "text/plain": [
       "\u001b[1;36m2\u001b[0m. Artist_name: Sabrina Carpenter, Song_name: Taste, Song_popularity: \u001b[1;36m83\u001b[0m\n"
      ]
     },
     "metadata": {},
     "output_type": "display_data"
    },
    {
     "data": {
      "text/html": [
       "<pre style=\"white-space:pre;overflow-x:auto;line-height:normal;font-family:Menlo,'DejaVu Sans Mono',consolas,'Courier New',monospace\"><span style=\"color: #008080; text-decoration-color: #008080; font-weight: bold\">3</span>. Artist_name: Lady Gaga, Song_name: Die With A Smile, Song_popularity: <span style=\"color: #008080; text-decoration-color: #008080; font-weight: bold\">99</span>\n",
       "</pre>\n"
      ],
      "text/plain": [
       "\u001b[1;36m3\u001b[0m. Artist_name: Lady Gaga, Song_name: Die With A Smile, Song_popularity: \u001b[1;36m99\u001b[0m\n"
      ]
     },
     "metadata": {},
     "output_type": "display_data"
    },
    {
     "data": {
      "text/html": [
       "<pre style=\"white-space:pre;overflow-x:auto;line-height:normal;font-family:Menlo,'DejaVu Sans Mono',consolas,'Courier New',monospace\"><span style=\"color: #008080; text-decoration-color: #008080; font-weight: bold\">4</span>. Artist_name: Chappell Roan, Song_name: Good Luck, Babe!, Song_popularity: <span style=\"color: #008080; text-decoration-color: #008080; font-weight: bold\">97</span>\n",
       "</pre>\n"
      ],
      "text/plain": [
       "\u001b[1;36m4\u001b[0m. Artist_name: Chappell Roan, Song_name: Good Luck, Babe!, Song_popularity: \u001b[1;36m97\u001b[0m\n"
      ]
     },
     "metadata": {},
     "output_type": "display_data"
    },
    {
     "data": {
      "text/html": [
       "<pre style=\"white-space:pre;overflow-x:auto;line-height:normal;font-family:Menlo,'DejaVu Sans Mono',consolas,'Courier New',monospace\"><span style=\"color: #008080; text-decoration-color: #008080; font-weight: bold\">5</span>. Artist_name: Charli xcx, Song_name: Guess featuring Billie Eilish, Song_popularity: <span style=\"color: #008080; text-decoration-color: #008080; font-weight: bold\">92</span>\n",
       "</pre>\n"
      ],
      "text/plain": [
       "\u001b[1;36m5\u001b[0m. Artist_name: Charli xcx, Song_name: Guess featuring Billie Eilish, Song_popularity: \u001b[1;36m92\u001b[0m\n"
      ]
     },
     "metadata": {},
     "output_type": "display_data"
    },
    {
     "data": {
      "text/html": [
       "<pre style=\"white-space:pre;overflow-x:auto;line-height:normal;font-family:Menlo,'DejaVu Sans Mono',consolas,'Courier New',monospace\">Hot Hits UK\n",
       "</pre>\n"
      ],
      "text/plain": [
       "Hot Hits UK\n"
      ]
     },
     "metadata": {},
     "output_type": "display_data"
    },
    {
     "data": {
      "text/html": [
       "<pre style=\"white-space:pre;overflow-x:auto;line-height:normal;font-family:Menlo,'DejaVu Sans Mono',consolas,'Courier New',monospace\"><span style=\"color: #008080; text-decoration-color: #008080; font-weight: bold\">1</span>. Artist_name: Chappell Roan, Song_name: Good Luck, Babe!, Song_popularity: <span style=\"color: #008080; text-decoration-color: #008080; font-weight: bold\">97</span>\n",
       "</pre>\n"
      ],
      "text/plain": [
       "\u001b[1;36m1\u001b[0m. Artist_name: Chappell Roan, Song_name: Good Luck, Babe!, Song_popularity: \u001b[1;36m97\u001b[0m\n"
      ]
     },
     "metadata": {},
     "output_type": "display_data"
    },
    {
     "data": {
      "text/html": [
       "<pre style=\"white-space:pre;overflow-x:auto;line-height:normal;font-family:Menlo,'DejaVu Sans Mono',consolas,'Courier New',monospace\"><span style=\"color: #008080; text-decoration-color: #008080; font-weight: bold\">2</span>. Artist_name: Teddy Swims, Song_name: The Door, Song_popularity: <span style=\"color: #008080; text-decoration-color: #008080; font-weight: bold\">87</span>\n",
       "</pre>\n"
      ],
      "text/plain": [
       "\u001b[1;36m2\u001b[0m. Artist_name: Teddy Swims, Song_name: The Door, Song_popularity: \u001b[1;36m87\u001b[0m\n"
      ]
     },
     "metadata": {},
     "output_type": "display_data"
    },
    {
     "data": {
      "text/html": [
       "<pre style=\"white-space:pre;overflow-x:auto;line-height:normal;font-family:Menlo,'DejaVu Sans Mono',consolas,'Courier New',monospace\"><span style=\"color: #008080; text-decoration-color: #008080; font-weight: bold\">3</span>. Artist_name: Sabrina Carpenter, Song_name: Taste, Song_popularity: <span style=\"color: #008080; text-decoration-color: #008080; font-weight: bold\">95</span>\n",
       "</pre>\n"
      ],
      "text/plain": [
       "\u001b[1;36m3\u001b[0m. Artist_name: Sabrina Carpenter, Song_name: Taste, Song_popularity: \u001b[1;36m95\u001b[0m\n"
      ]
     },
     "metadata": {},
     "output_type": "display_data"
    },
    {
     "data": {
      "text/html": [
       "<pre style=\"white-space:pre;overflow-x:auto;line-height:normal;font-family:Menlo,'DejaVu Sans Mono',consolas,'Courier New',monospace\"><span style=\"color: #008080; text-decoration-color: #008080; font-weight: bold\">4</span>. Artist_name: Billie Eilish, Song_name: BIRDS OF A FEATHER, Song_popularity: <span style=\"color: #008080; text-decoration-color: #008080; font-weight: bold\">100</span>\n",
       "</pre>\n"
      ],
      "text/plain": [
       "\u001b[1;36m4\u001b[0m. Artist_name: Billie Eilish, Song_name: BIRDS OF A FEATHER, Song_popularity: \u001b[1;36m100\u001b[0m\n"
      ]
     },
     "metadata": {},
     "output_type": "display_data"
    },
    {
     "data": {
      "text/html": [
       "<pre style=\"white-space:pre;overflow-x:auto;line-height:normal;font-family:Menlo,'DejaVu Sans Mono',consolas,'Courier New',monospace\"><span style=\"color: #008080; text-decoration-color: #008080; font-weight: bold\">5</span>. Artist_name: Myles Smith, Song_name: Stargazing, Song_popularity: <span style=\"color: #008080; text-decoration-color: #008080; font-weight: bold\">92</span>\n",
       "</pre>\n"
      ],
      "text/plain": [
       "\u001b[1;36m5\u001b[0m. Artist_name: Myles Smith, Song_name: Stargazing, Song_popularity: \u001b[1;36m92\u001b[0m\n"
      ]
     },
     "metadata": {},
     "output_type": "display_data"
    },
    {
     "data": {
      "text/html": [
       "<pre style=\"white-space:pre;overflow-x:auto;line-height:normal;font-family:Menlo,'DejaVu Sans Mono',consolas,'Courier New',monospace\">Top Hits of <span style=\"color: #008080; text-decoration-color: #008080; font-weight: bold\">2023</span>\n",
       "</pre>\n"
      ],
      "text/plain": [
       "Top Hits of \u001b[1;36m2023\u001b[0m\n"
      ]
     },
     "metadata": {},
     "output_type": "display_data"
    },
    {
     "data": {
      "text/html": [
       "<pre style=\"white-space:pre;overflow-x:auto;line-height:normal;font-family:Menlo,'DejaVu Sans Mono',consolas,'Courier New',monospace\"><span style=\"color: #008080; text-decoration-color: #008080; font-weight: bold\">1</span>. Artist_name: SZA, Song_name: Kill Bill, Song_popularity: <span style=\"color: #008080; text-decoration-color: #008080; font-weight: bold\">87</span>\n",
       "</pre>\n"
      ],
      "text/plain": [
       "\u001b[1;36m1\u001b[0m. Artist_name: SZA, Song_name: Kill Bill, Song_popularity: \u001b[1;36m87\u001b[0m\n"
      ]
     },
     "metadata": {},
     "output_type": "display_data"
    },
    {
     "data": {
      "text/html": [
       "<pre style=\"white-space:pre;overflow-x:auto;line-height:normal;font-family:Menlo,'DejaVu Sans Mono',consolas,'Courier New',monospace\"><span style=\"color: #008080; text-decoration-color: #008080; font-weight: bold\">2</span>. Artist_name: Olivia Rodrigo, Song_name: vampire, Song_popularity: <span style=\"color: #008080; text-decoration-color: #008080; font-weight: bold\">23</span>\n",
       "</pre>\n"
      ],
      "text/plain": [
       "\u001b[1;36m2\u001b[0m. Artist_name: Olivia Rodrigo, Song_name: vampire, Song_popularity: \u001b[1;36m23\u001b[0m\n"
      ]
     },
     "metadata": {},
     "output_type": "display_data"
    },
    {
     "data": {
      "text/html": [
       "<pre style=\"white-space:pre;overflow-x:auto;line-height:normal;font-family:Menlo,'DejaVu Sans Mono',consolas,'Courier New',monospace\"><span style=\"color: #008080; text-decoration-color: #008080; font-weight: bold\">3</span>. Artist_name: Metro Boomin, Song_name: Creepin' <span style=\"font-weight: bold\">(</span>with The Weeknd &amp; <span style=\"color: #008080; text-decoration-color: #008080; font-weight: bold\">21</span> Savage<span style=\"font-weight: bold\">)</span>, Song_popularity: <span style=\"color: #008080; text-decoration-color: #008080; font-weight: bold\">83</span>\n",
       "</pre>\n"
      ],
      "text/plain": [
       "\u001b[1;36m3\u001b[0m. Artist_name: Metro Boomin, Song_name: Creepin' \u001b[1m(\u001b[0mwith The Weeknd & \u001b[1;36m21\u001b[0m Savage\u001b[1m)\u001b[0m, Song_popularity: \u001b[1;36m83\u001b[0m\n"
      ]
     },
     "metadata": {},
     "output_type": "display_data"
    },
    {
     "data": {
      "text/html": [
       "<pre style=\"white-space:pre;overflow-x:auto;line-height:normal;font-family:Menlo,'DejaVu Sans Mono',consolas,'Courier New',monospace\"><span style=\"color: #008080; text-decoration-color: #008080; font-weight: bold\">4</span>. Artist_name: Billie Eilish, Song_name: What Was I Made For? <span style=\"font-weight: bold\">[</span>From The Motion Picture <span style=\"color: #008000; text-decoration-color: #008000\">\"Barbie\"</span><span style=\"font-weight: bold\">]</span>, Song_popularity:\n",
       "<span style=\"color: #008080; text-decoration-color: #008080; font-weight: bold\">87</span>\n",
       "</pre>\n"
      ],
      "text/plain": [
       "\u001b[1;36m4\u001b[0m. Artist_name: Billie Eilish, Song_name: What Was I Made For? \u001b[1m[\u001b[0mFrom The Motion Picture \u001b[32m\"Barbie\"\u001b[0m\u001b[1m]\u001b[0m, Song_popularity:\n",
       "\u001b[1;36m87\u001b[0m\n"
      ]
     },
     "metadata": {},
     "output_type": "display_data"
    },
    {
     "data": {
      "text/html": [
       "<pre style=\"white-space:pre;overflow-x:auto;line-height:normal;font-family:Menlo,'DejaVu Sans Mono',consolas,'Courier New',monospace\"><span style=\"color: #008080; text-decoration-color: #008080; font-weight: bold\">5</span>. Artist_name: The Weeknd, Song_name: Die For You - Remix, Song_popularity: <span style=\"color: #008080; text-decoration-color: #008080; font-weight: bold\">75</span>\n",
       "</pre>\n"
      ],
      "text/plain": [
       "\u001b[1;36m5\u001b[0m. Artist_name: The Weeknd, Song_name: Die For You - Remix, Song_popularity: \u001b[1;36m75\u001b[0m\n"
      ]
     },
     "metadata": {},
     "output_type": "display_data"
    },
    {
     "data": {
      "text/html": [
       "<pre style=\"white-space:pre;overflow-x:auto;line-height:normal;font-family:Menlo,'DejaVu Sans Mono',consolas,'Courier New',monospace\">The Official Chart UK Top <span style=\"color: #008080; text-decoration-color: #008080; font-weight: bold\">40</span>\n",
       "</pre>\n"
      ],
      "text/plain": [
       "The Official Chart UK Top \u001b[1;36m40\u001b[0m\n"
      ]
     },
     "metadata": {},
     "output_type": "display_data"
    },
    {
     "data": {
      "text/html": [
       "<pre style=\"white-space:pre;overflow-x:auto;line-height:normal;font-family:Menlo,'DejaVu Sans Mono',consolas,'Courier New',monospace\"><span style=\"color: #008080; text-decoration-color: #008080; font-weight: bold\">1</span>. Artist_name: Sabrina Carpenter, Song_name: Taste, Song_popularity: <span style=\"color: #008080; text-decoration-color: #008080; font-weight: bold\">95</span>\n",
       "</pre>\n"
      ],
      "text/plain": [
       "\u001b[1;36m1\u001b[0m. Artist_name: Sabrina Carpenter, Song_name: Taste, Song_popularity: \u001b[1;36m95\u001b[0m\n"
      ]
     },
     "metadata": {},
     "output_type": "display_data"
    },
    {
     "data": {
      "text/html": [
       "<pre style=\"white-space:pre;overflow-x:auto;line-height:normal;font-family:Menlo,'DejaVu Sans Mono',consolas,'Courier New',monospace\"><span style=\"color: #008080; text-decoration-color: #008080; font-weight: bold\">2</span>. Artist_name: Sabrina Carpenter, Song_name: Espresso, Song_popularity: <span style=\"color: #008080; text-decoration-color: #008080; font-weight: bold\">68</span>\n",
       "</pre>\n"
      ],
      "text/plain": [
       "\u001b[1;36m2\u001b[0m. Artist_name: Sabrina Carpenter, Song_name: Espresso, Song_popularity: \u001b[1;36m68\u001b[0m\n"
      ]
     },
     "metadata": {},
     "output_type": "display_data"
    },
    {
     "data": {
      "text/html": [
       "<pre style=\"white-space:pre;overflow-x:auto;line-height:normal;font-family:Menlo,'DejaVu Sans Mono',consolas,'Courier New',monospace\"><span style=\"color: #008080; text-decoration-color: #008080; font-weight: bold\">3</span>. Artist_name: Chappell Roan, Song_name: Good Luck, Babe!, Song_popularity: <span style=\"color: #008080; text-decoration-color: #008080; font-weight: bold\">97</span>\n",
       "</pre>\n"
      ],
      "text/plain": [
       "\u001b[1;36m3\u001b[0m. Artist_name: Chappell Roan, Song_name: Good Luck, Babe!, Song_popularity: \u001b[1;36m97\u001b[0m\n"
      ]
     },
     "metadata": {},
     "output_type": "display_data"
    },
    {
     "data": {
      "text/html": [
       "<pre style=\"white-space:pre;overflow-x:auto;line-height:normal;font-family:Menlo,'DejaVu Sans Mono',consolas,'Courier New',monospace\"><span style=\"color: #008080; text-decoration-color: #008080; font-weight: bold\">4</span>. Artist_name: Linkin Park, Song_name: The Emptiness Machine, Song_popularity: <span style=\"color: #008080; text-decoration-color: #008080; font-weight: bold\">91</span>\n",
       "</pre>\n"
      ],
      "text/plain": [
       "\u001b[1;36m4\u001b[0m. Artist_name: Linkin Park, Song_name: The Emptiness Machine, Song_popularity: \u001b[1;36m91\u001b[0m\n"
      ]
     },
     "metadata": {},
     "output_type": "display_data"
    },
    {
     "data": {
      "text/html": [
       "<pre style=\"white-space:pre;overflow-x:auto;line-height:normal;font-family:Menlo,'DejaVu Sans Mono',consolas,'Courier New',monospace\"><span style=\"color: #008080; text-decoration-color: #008080; font-weight: bold\">5</span>. Artist_name: Sabrina Carpenter, Song_name: Please Please Please, Song_popularity: <span style=\"color: #008080; text-decoration-color: #008080; font-weight: bold\">66</span>\n",
       "</pre>\n"
      ],
      "text/plain": [
       "\u001b[1;36m5\u001b[0m. Artist_name: Sabrina Carpenter, Song_name: Please Please Please, Song_popularity: \u001b[1;36m66\u001b[0m\n"
      ]
     },
     "metadata": {},
     "output_type": "display_data"
    },
    {
     "data": {
      "text/html": [
       "<pre style=\"white-space:pre;overflow-x:auto;line-height:normal;font-family:Menlo,'DejaVu Sans Mono',consolas,'Courier New',monospace\">Top Songs - United Kingdom\n",
       "</pre>\n"
      ],
      "text/plain": [
       "Top Songs - United Kingdom\n"
      ]
     },
     "metadata": {},
     "output_type": "display_data"
    },
    {
     "data": {
      "text/html": [
       "<pre style=\"white-space:pre;overflow-x:auto;line-height:normal;font-family:Menlo,'DejaVu Sans Mono',consolas,'Courier New',monospace\"><span style=\"color: #008080; text-decoration-color: #008080; font-weight: bold\">1</span>. Artist_name: Sabrina Carpenter, Song_name: Taste, Song_popularity: <span style=\"color: #008080; text-decoration-color: #008080; font-weight: bold\">95</span>\n",
       "</pre>\n"
      ],
      "text/plain": [
       "\u001b[1;36m1\u001b[0m. Artist_name: Sabrina Carpenter, Song_name: Taste, Song_popularity: \u001b[1;36m95\u001b[0m\n"
      ]
     },
     "metadata": {},
     "output_type": "display_data"
    },
    {
     "data": {
      "text/html": [
       "<pre style=\"white-space:pre;overflow-x:auto;line-height:normal;font-family:Menlo,'DejaVu Sans Mono',consolas,'Courier New',monospace\"><span style=\"color: #008080; text-decoration-color: #008080; font-weight: bold\">2</span>. Artist_name: Chappell Roan, Song_name: Good Luck, Babe!, Song_popularity: <span style=\"color: #008080; text-decoration-color: #008080; font-weight: bold\">97</span>\n",
       "</pre>\n"
      ],
      "text/plain": [
       "\u001b[1;36m2\u001b[0m. Artist_name: Chappell Roan, Song_name: Good Luck, Babe!, Song_popularity: \u001b[1;36m97\u001b[0m\n"
      ]
     },
     "metadata": {},
     "output_type": "display_data"
    },
    {
     "data": {
      "text/html": [
       "<pre style=\"white-space:pre;overflow-x:auto;line-height:normal;font-family:Menlo,'DejaVu Sans Mono',consolas,'Courier New',monospace\"><span style=\"color: #008080; text-decoration-color: #008080; font-weight: bold\">3</span>. Artist_name: Billie Eilish, Song_name: BIRDS OF A FEATHER, Song_popularity: <span style=\"color: #008080; text-decoration-color: #008080; font-weight: bold\">100</span>\n",
       "</pre>\n"
      ],
      "text/plain": [
       "\u001b[1;36m3\u001b[0m. Artist_name: Billie Eilish, Song_name: BIRDS OF A FEATHER, Song_popularity: \u001b[1;36m100\u001b[0m\n"
      ]
     },
     "metadata": {},
     "output_type": "display_data"
    },
    {
     "data": {
      "text/html": [
       "<pre style=\"white-space:pre;overflow-x:auto;line-height:normal;font-family:Menlo,'DejaVu Sans Mono',consolas,'Courier New',monospace\"><span style=\"color: #008080; text-decoration-color: #008080; font-weight: bold\">4</span>. Artist_name: Sabrina Carpenter, Song_name: Espresso, Song_popularity: <span style=\"color: #008080; text-decoration-color: #008080; font-weight: bold\">97</span>\n",
       "</pre>\n"
      ],
      "text/plain": [
       "\u001b[1;36m4\u001b[0m. Artist_name: Sabrina Carpenter, Song_name: Espresso, Song_popularity: \u001b[1;36m97\u001b[0m\n"
      ]
     },
     "metadata": {},
     "output_type": "display_data"
    },
    {
     "data": {
      "text/html": [
       "<pre style=\"white-space:pre;overflow-x:auto;line-height:normal;font-family:Menlo,'DejaVu Sans Mono',consolas,'Courier New',monospace\"><span style=\"color: #008080; text-decoration-color: #008080; font-weight: bold\">5</span>. Artist_name: Sabrina Carpenter, Song_name: Please Please Please, Song_popularity: <span style=\"color: #008080; text-decoration-color: #008080; font-weight: bold\">96</span>\n",
       "</pre>\n"
      ],
      "text/plain": [
       "\u001b[1;36m5\u001b[0m. Artist_name: Sabrina Carpenter, Song_name: Please Please Please, Song_popularity: \u001b[1;36m96\u001b[0m\n"
      ]
     },
     "metadata": {},
     "output_type": "display_data"
    },
    {
     "data": {
      "text/html": [
       "<pre style=\"white-space:pre;overflow-x:auto;line-height:normal;font-family:Menlo,'DejaVu Sans Mono',consolas,'Courier New',monospace\">COUNTRY HITS <span style=\"color: #008080; text-decoration-color: #008080; font-weight: bold\">2024</span> 🔥 New Country Songs + Top Hits\n",
       "</pre>\n"
      ],
      "text/plain": [
       "COUNTRY HITS \u001b[1;36m2024\u001b[0m 🔥 New Country Songs + Top Hits\n"
      ]
     },
     "metadata": {},
     "output_type": "display_data"
    },
    {
     "data": {
      "text/html": [
       "<pre style=\"white-space:pre;overflow-x:auto;line-height:normal;font-family:Menlo,'DejaVu Sans Mono',consolas,'Courier New',monospace\"><span style=\"color: #008080; text-decoration-color: #008080; font-weight: bold\">1</span>. Artist_name: Shaboozey, Song_name: A Bar Song <span style=\"font-weight: bold\">(</span>Tipsy<span style=\"font-weight: bold\">)</span>, Song_popularity: <span style=\"color: #008080; text-decoration-color: #008080; font-weight: bold\">90</span>\n",
       "</pre>\n"
      ],
      "text/plain": [
       "\u001b[1;36m1\u001b[0m. Artist_name: Shaboozey, Song_name: A Bar Song \u001b[1m(\u001b[0mTipsy\u001b[1m)\u001b[0m, Song_popularity: \u001b[1;36m90\u001b[0m\n"
      ]
     },
     "metadata": {},
     "output_type": "display_data"
    },
    {
     "data": {
      "text/html": [
       "<pre style=\"white-space:pre;overflow-x:auto;line-height:normal;font-family:Menlo,'DejaVu Sans Mono',consolas,'Courier New',monospace\"><span style=\"color: #008080; text-decoration-color: #008080; font-weight: bold\">2</span>. Artist_name: Post Malone, Song_name: Guy For That <span style=\"font-weight: bold\">(</span>Feat. Luke Combs<span style=\"font-weight: bold\">)</span>, Song_popularity: <span style=\"color: #008080; text-decoration-color: #008080; font-weight: bold\">80</span>\n",
       "</pre>\n"
      ],
      "text/plain": [
       "\u001b[1;36m2\u001b[0m. Artist_name: Post Malone, Song_name: Guy For That \u001b[1m(\u001b[0mFeat. Luke Combs\u001b[1m)\u001b[0m, Song_popularity: \u001b[1;36m80\u001b[0m\n"
      ]
     },
     "metadata": {},
     "output_type": "display_data"
    },
    {
     "data": {
      "text/html": [
       "<pre style=\"white-space:pre;overflow-x:auto;line-height:normal;font-family:Menlo,'DejaVu Sans Mono',consolas,'Courier New',monospace\"><span style=\"color: #008080; text-decoration-color: #008080; font-weight: bold\">3</span>. Artist_name: Thomas Rhett, Song_name: Beautiful As You, Song_popularity: <span style=\"color: #008080; text-decoration-color: #008080; font-weight: bold\">67</span>\n",
       "</pre>\n"
      ],
      "text/plain": [
       "\u001b[1;36m3\u001b[0m. Artist_name: Thomas Rhett, Song_name: Beautiful As You, Song_popularity: \u001b[1;36m67\u001b[0m\n"
      ]
     },
     "metadata": {},
     "output_type": "display_data"
    },
    {
     "data": {
      "text/html": [
       "<pre style=\"white-space:pre;overflow-x:auto;line-height:normal;font-family:Menlo,'DejaVu Sans Mono',consolas,'Courier New',monospace\"><span style=\"color: #008080; text-decoration-color: #008080; font-weight: bold\">4</span>. Artist_name: Dasha, Song_name: Austin <span style=\"font-weight: bold\">(</span>Boots Stop Workin'<span style=\"font-weight: bold\">)</span>, Song_popularity: <span style=\"color: #008080; text-decoration-color: #008080; font-weight: bold\">91</span>\n",
       "</pre>\n"
      ],
      "text/plain": [
       "\u001b[1;36m4\u001b[0m. Artist_name: Dasha, Song_name: Austin \u001b[1m(\u001b[0mBoots Stop Workin'\u001b[1m)\u001b[0m, Song_popularity: \u001b[1;36m91\u001b[0m\n"
      ]
     },
     "metadata": {},
     "output_type": "display_data"
    },
    {
     "data": {
      "text/html": [
       "<pre style=\"white-space:pre;overflow-x:auto;line-height:normal;font-family:Menlo,'DejaVu Sans Mono',consolas,'Courier New',monospace\"><span style=\"color: #008080; text-decoration-color: #008080; font-weight: bold\">5</span>. Artist_name: Beyoncé, Song_name: TEXAS HOLD 'EM, Song_popularity: <span style=\"color: #008080; text-decoration-color: #008080; font-weight: bold\">77</span>\n",
       "</pre>\n"
      ],
      "text/plain": [
       "\u001b[1;36m5\u001b[0m. Artist_name: Beyoncé, Song_name: TEXAS HOLD 'EM, Song_popularity: \u001b[1;36m77\u001b[0m\n"
      ]
     },
     "metadata": {},
     "output_type": "display_data"
    },
    {
     "data": {
      "text/html": [
       "<pre style=\"white-space:pre;overflow-x:auto;line-height:normal;font-family:Menlo,'DejaVu Sans Mono',consolas,'Courier New',monospace\">UK Top <span style=\"color: #008080; text-decoration-color: #008080; font-weight: bold\">40</span> - 13th September <span style=\"color: #008080; text-decoration-color: #008080; font-weight: bold\">2024</span> \n",
       "</pre>\n"
      ],
      "text/plain": [
       "UK Top \u001b[1;36m40\u001b[0m - 13th September \u001b[1;36m2024\u001b[0m \n"
      ]
     },
     "metadata": {},
     "output_type": "display_data"
    },
    {
     "data": {
      "text/html": [
       "<pre style=\"white-space:pre;overflow-x:auto;line-height:normal;font-family:Menlo,'DejaVu Sans Mono',consolas,'Courier New',monospace\"><span style=\"color: #008080; text-decoration-color: #008080; font-weight: bold\">1</span>. Artist_name: Charli xcx, Song_name: Guess featuring Billie Eilish, Song_popularity: <span style=\"color: #008080; text-decoration-color: #008080; font-weight: bold\">92</span>\n",
       "</pre>\n"
      ],
      "text/plain": [
       "\u001b[1;36m1\u001b[0m. Artist_name: Charli xcx, Song_name: Guess featuring Billie Eilish, Song_popularity: \u001b[1;36m92\u001b[0m\n"
      ]
     },
     "metadata": {},
     "output_type": "display_data"
    },
    {
     "data": {
      "text/html": [
       "<pre style=\"white-space:pre;overflow-x:auto;line-height:normal;font-family:Menlo,'DejaVu Sans Mono',consolas,'Courier New',monospace\"><span style=\"color: #008080; text-decoration-color: #008080; font-weight: bold\">2</span>. Artist_name: Sonny Fodera, Song_name: Somedays, Song_popularity: <span style=\"color: #008080; text-decoration-color: #008080; font-weight: bold\">76</span>\n",
       "</pre>\n"
      ],
      "text/plain": [
       "\u001b[1;36m2\u001b[0m. Artist_name: Sonny Fodera, Song_name: Somedays, Song_popularity: \u001b[1;36m76\u001b[0m\n"
      ]
     },
     "metadata": {},
     "output_type": "display_data"
    },
    {
     "data": {
      "text/html": [
       "<pre style=\"white-space:pre;overflow-x:auto;line-height:normal;font-family:Menlo,'DejaVu Sans Mono',consolas,'Courier New',monospace\"><span style=\"color: #008080; text-decoration-color: #008080; font-weight: bold\">3</span>. Artist_name: BL3SS, Song_name: Kisses <span style=\"font-weight: bold\">(</span>feat. bbyclose<span style=\"font-weight: bold\">)</span>, Song_popularity: <span style=\"color: #008080; text-decoration-color: #008080; font-weight: bold\">84</span>\n",
       "</pre>\n"
      ],
      "text/plain": [
       "\u001b[1;36m3\u001b[0m. Artist_name: BL3SS, Song_name: Kisses \u001b[1m(\u001b[0mfeat. bbyclose\u001b[1m)\u001b[0m, Song_popularity: \u001b[1;36m84\u001b[0m\n"
      ]
     },
     "metadata": {},
     "output_type": "display_data"
    },
    {
     "data": {
      "text/html": [
       "<pre style=\"white-space:pre;overflow-x:auto;line-height:normal;font-family:Menlo,'DejaVu Sans Mono',consolas,'Courier New',monospace\"><span style=\"color: #008080; text-decoration-color: #008080; font-weight: bold\">4</span>. Artist_name: Charli xcx, Song_name: Apple, Song_popularity: <span style=\"color: #008080; text-decoration-color: #008080; font-weight: bold\">89</span>\n",
       "</pre>\n"
      ],
      "text/plain": [
       "\u001b[1;36m4\u001b[0m. Artist_name: Charli xcx, Song_name: Apple, Song_popularity: \u001b[1;36m89\u001b[0m\n"
      ]
     },
     "metadata": {},
     "output_type": "display_data"
    },
    {
     "data": {
      "text/html": [
       "<pre style=\"white-space:pre;overflow-x:auto;line-height:normal;font-family:Menlo,'DejaVu Sans Mono',consolas,'Courier New',monospace\"><span style=\"color: #008080; text-decoration-color: #008080; font-weight: bold\">5</span>. Artist_name: Sabrina Carpenter, Song_name: Taste, Song_popularity: <span style=\"color: #008080; text-decoration-color: #008080; font-weight: bold\">95</span>\n",
       "</pre>\n"
      ],
      "text/plain": [
       "\u001b[1;36m5\u001b[0m. Artist_name: Sabrina Carpenter, Song_name: Taste, Song_popularity: \u001b[1;36m95\u001b[0m\n"
      ]
     },
     "metadata": {},
     "output_type": "display_data"
    },
    {
     "data": {
      "text/html": [
       "<pre style=\"white-space:pre;overflow-x:auto;line-height:normal;font-family:Menlo,'DejaVu Sans Mono',consolas,'Courier New',monospace\">Top <span style=\"color: #008080; text-decoration-color: #008080; font-weight: bold\">50</span> - United Kingdom\n",
       "</pre>\n"
      ],
      "text/plain": [
       "Top \u001b[1;36m50\u001b[0m - United Kingdom\n"
      ]
     },
     "metadata": {},
     "output_type": "display_data"
    },
    {
     "data": {
      "text/html": [
       "<pre style=\"white-space:pre;overflow-x:auto;line-height:normal;font-family:Menlo,'DejaVu Sans Mono',consolas,'Courier New',monospace\"><span style=\"color: #008080; text-decoration-color: #008080; font-weight: bold\">1</span>. Artist_name: Sabrina Carpenter, Song_name: Taste, Song_popularity: <span style=\"color: #008080; text-decoration-color: #008080; font-weight: bold\">95</span>\n",
       "</pre>\n"
      ],
      "text/plain": [
       "\u001b[1;36m1\u001b[0m. Artist_name: Sabrina Carpenter, Song_name: Taste, Song_popularity: \u001b[1;36m95\u001b[0m\n"
      ]
     },
     "metadata": {},
     "output_type": "display_data"
    },
    {
     "data": {
      "text/html": [
       "<pre style=\"white-space:pre;overflow-x:auto;line-height:normal;font-family:Menlo,'DejaVu Sans Mono',consolas,'Courier New',monospace\"><span style=\"color: #008080; text-decoration-color: #008080; font-weight: bold\">2</span>. Artist_name: Chappell Roan, Song_name: Good Luck, Babe!, Song_popularity: <span style=\"color: #008080; text-decoration-color: #008080; font-weight: bold\">97</span>\n",
       "</pre>\n"
      ],
      "text/plain": [
       "\u001b[1;36m2\u001b[0m. Artist_name: Chappell Roan, Song_name: Good Luck, Babe!, Song_popularity: \u001b[1;36m97\u001b[0m\n"
      ]
     },
     "metadata": {},
     "output_type": "display_data"
    },
    {
     "data": {
      "text/html": [
       "<pre style=\"white-space:pre;overflow-x:auto;line-height:normal;font-family:Menlo,'DejaVu Sans Mono',consolas,'Courier New',monospace\"><span style=\"color: #008080; text-decoration-color: #008080; font-weight: bold\">3</span>. Artist_name: Billie Eilish, Song_name: BIRDS OF A FEATHER, Song_popularity: <span style=\"color: #008080; text-decoration-color: #008080; font-weight: bold\">100</span>\n",
       "</pre>\n"
      ],
      "text/plain": [
       "\u001b[1;36m3\u001b[0m. Artist_name: Billie Eilish, Song_name: BIRDS OF A FEATHER, Song_popularity: \u001b[1;36m100\u001b[0m\n"
      ]
     },
     "metadata": {},
     "output_type": "display_data"
    },
    {
     "data": {
      "text/html": [
       "<pre style=\"white-space:pre;overflow-x:auto;line-height:normal;font-family:Menlo,'DejaVu Sans Mono',consolas,'Courier New',monospace\"><span style=\"color: #008080; text-decoration-color: #008080; font-weight: bold\">4</span>. Artist_name: Sabrina Carpenter, Song_name: Espresso, Song_popularity: <span style=\"color: #008080; text-decoration-color: #008080; font-weight: bold\">84</span>\n",
       "</pre>\n"
      ],
      "text/plain": [
       "\u001b[1;36m4\u001b[0m. Artist_name: Sabrina Carpenter, Song_name: Espresso, Song_popularity: \u001b[1;36m84\u001b[0m\n"
      ]
     },
     "metadata": {},
     "output_type": "display_data"
    },
    {
     "data": {
      "text/html": [
       "<pre style=\"white-space:pre;overflow-x:auto;line-height:normal;font-family:Menlo,'DejaVu Sans Mono',consolas,'Courier New',monospace\"><span style=\"color: #008080; text-decoration-color: #008080; font-weight: bold\">5</span>. Artist_name: Sabrina Carpenter, Song_name: Please Please Please, Song_popularity: <span style=\"color: #008080; text-decoration-color: #008080; font-weight: bold\">85</span>\n",
       "</pre>\n"
      ],
      "text/plain": [
       "\u001b[1;36m5\u001b[0m. Artist_name: Sabrina Carpenter, Song_name: Please Please Please, Song_popularity: \u001b[1;36m85\u001b[0m\n"
      ]
     },
     "metadata": {},
     "output_type": "display_data"
    },
    {
     "data": {
      "text/html": [
       "<pre style=\"white-space:pre;overflow-x:auto;line-height:normal;font-family:Menlo,'DejaVu Sans Mono',consolas,'Courier New',monospace\">Country Top <span style=\"color: #008080; text-decoration-color: #008080; font-weight: bold\">50</span>\n",
       "</pre>\n"
      ],
      "text/plain": [
       "Country Top \u001b[1;36m50\u001b[0m\n"
      ]
     },
     "metadata": {},
     "output_type": "display_data"
    },
    {
     "data": {
      "text/html": [
       "<pre style=\"white-space:pre;overflow-x:auto;line-height:normal;font-family:Menlo,'DejaVu Sans Mono',consolas,'Courier New',monospace\"><span style=\"color: #008080; text-decoration-color: #008080; font-weight: bold\">1</span>. Artist_name: Shaboozey, Song_name: A Bar Song <span style=\"font-weight: bold\">(</span>Tipsy<span style=\"font-weight: bold\">)</span>, Song_popularity: <span style=\"color: #008080; text-decoration-color: #008080; font-weight: bold\">90</span>\n",
       "</pre>\n"
      ],
      "text/plain": [
       "\u001b[1;36m1\u001b[0m. Artist_name: Shaboozey, Song_name: A Bar Song \u001b[1m(\u001b[0mTipsy\u001b[1m)\u001b[0m, Song_popularity: \u001b[1;36m90\u001b[0m\n"
      ]
     },
     "metadata": {},
     "output_type": "display_data"
    },
    {
     "data": {
      "text/html": [
       "<pre style=\"white-space:pre;overflow-x:auto;line-height:normal;font-family:Menlo,'DejaVu Sans Mono',consolas,'Courier New',monospace\"><span style=\"color: #008080; text-decoration-color: #008080; font-weight: bold\">2</span>. Artist_name: Dasha, Song_name: Austin <span style=\"font-weight: bold\">(</span>Boots Stop Workin'<span style=\"font-weight: bold\">)</span>, Song_popularity: <span style=\"color: #008080; text-decoration-color: #008080; font-weight: bold\">91</span>\n",
       "</pre>\n"
      ],
      "text/plain": [
       "\u001b[1;36m2\u001b[0m. Artist_name: Dasha, Song_name: Austin \u001b[1m(\u001b[0mBoots Stop Workin'\u001b[1m)\u001b[0m, Song_popularity: \u001b[1;36m91\u001b[0m\n"
      ]
     },
     "metadata": {},
     "output_type": "display_data"
    },
    {
     "data": {
      "text/html": [
       "<pre style=\"white-space:pre;overflow-x:auto;line-height:normal;font-family:Menlo,'DejaVu Sans Mono',consolas,'Courier New',monospace\"><span style=\"color: #008080; text-decoration-color: #008080; font-weight: bold\">3</span>. Artist_name: Post Malone, Song_name: I Had Some Help <span style=\"font-weight: bold\">(</span>Feat. Morgan Wallen<span style=\"font-weight: bold\">)</span>, Song_popularity: <span style=\"color: #008080; text-decoration-color: #008080; font-weight: bold\">90</span>\n",
       "</pre>\n"
      ],
      "text/plain": [
       "\u001b[1;36m3\u001b[0m. Artist_name: Post Malone, Song_name: I Had Some Help \u001b[1m(\u001b[0mFeat. Morgan Wallen\u001b[1m)\u001b[0m, Song_popularity: \u001b[1;36m90\u001b[0m\n"
      ]
     },
     "metadata": {},
     "output_type": "display_data"
    },
    {
     "data": {
      "text/html": [
       "<pre style=\"white-space:pre;overflow-x:auto;line-height:normal;font-family:Menlo,'DejaVu Sans Mono',consolas,'Courier New',monospace\"><span style=\"color: #008080; text-decoration-color: #008080; font-weight: bold\">4</span>. Artist_name: Zach Bryan, Song_name: I Remember Everything <span style=\"font-weight: bold\">(</span>feat. Kacey Musgraves<span style=\"font-weight: bold\">)</span>, Song_popularity: <span style=\"color: #008080; text-decoration-color: #008080; font-weight: bold\">88</span>\n",
       "</pre>\n"
      ],
      "text/plain": [
       "\u001b[1;36m4\u001b[0m. Artist_name: Zach Bryan, Song_name: I Remember Everything \u001b[1m(\u001b[0mfeat. Kacey Musgraves\u001b[1m)\u001b[0m, Song_popularity: \u001b[1;36m88\u001b[0m\n"
      ]
     },
     "metadata": {},
     "output_type": "display_data"
    },
    {
     "data": {
      "text/html": [
       "<pre style=\"white-space:pre;overflow-x:auto;line-height:normal;font-family:Menlo,'DejaVu Sans Mono',consolas,'Courier New',monospace\"><span style=\"color: #008080; text-decoration-color: #008080; font-weight: bold\">5</span>. Artist_name: Luke Combs, Song_name: Ain't No Love In Oklahoma <span style=\"font-weight: bold\">(</span>From Twisters: The Album<span style=\"font-weight: bold\">)</span>, Song_popularity: <span style=\"color: #008080; text-decoration-color: #008080; font-weight: bold\">86</span>\n",
       "</pre>\n"
      ],
      "text/plain": [
       "\u001b[1;36m5\u001b[0m. Artist_name: Luke Combs, Song_name: Ain't No Love In Oklahoma \u001b[1m(\u001b[0mFrom Twisters: The Album\u001b[1m)\u001b[0m, Song_popularity: \u001b[1;36m86\u001b[0m\n"
      ]
     },
     "metadata": {},
     "output_type": "display_data"
    },
    {
     "data": {
      "text/html": [
       "<pre style=\"white-space:pre;overflow-x:auto;line-height:normal;font-family:Menlo,'DejaVu Sans Mono',consolas,'Courier New',monospace\">Hot Country\n",
       "</pre>\n"
      ],
      "text/plain": [
       "Hot Country\n"
      ]
     },
     "metadata": {},
     "output_type": "display_data"
    },
    {
     "data": {
      "text/html": [
       "<pre style=\"white-space:pre;overflow-x:auto;line-height:normal;font-family:Menlo,'DejaVu Sans Mono',consolas,'Courier New',monospace\"><span style=\"color: #008080; text-decoration-color: #008080; font-weight: bold\">1</span>. Artist_name: Miranda Lambert, Song_name: Santa Fe, Song_popularity: <span style=\"color: #008080; text-decoration-color: #008080; font-weight: bold\">57</span>\n",
       "</pre>\n"
      ],
      "text/plain": [
       "\u001b[1;36m1\u001b[0m. Artist_name: Miranda Lambert, Song_name: Santa Fe, Song_popularity: \u001b[1;36m57\u001b[0m\n"
      ]
     },
     "metadata": {},
     "output_type": "display_data"
    },
    {
     "data": {
      "text/html": [
       "<pre style=\"white-space:pre;overflow-x:auto;line-height:normal;font-family:Menlo,'DejaVu Sans Mono',consolas,'Courier New',monospace\"><span style=\"color: #008080; text-decoration-color: #008080; font-weight: bold\">2</span>. Artist_name: Morgan Wallen, Song_name: Lies Lies Lies, Song_popularity: <span style=\"color: #008080; text-decoration-color: #008080; font-weight: bold\">86</span>\n",
       "</pre>\n"
      ],
      "text/plain": [
       "\u001b[1;36m2\u001b[0m. Artist_name: Morgan Wallen, Song_name: Lies Lies Lies, Song_popularity: \u001b[1;36m86\u001b[0m\n"
      ]
     },
     "metadata": {},
     "output_type": "display_data"
    },
    {
     "data": {
      "text/html": [
       "<pre style=\"white-space:pre;overflow-x:auto;line-height:normal;font-family:Menlo,'DejaVu Sans Mono',consolas,'Courier New',monospace\"><span style=\"color: #008080; text-decoration-color: #008080; font-weight: bold\">3</span>. Artist_name: Riley Green, Song_name: Worst Way, Song_popularity: <span style=\"color: #008080; text-decoration-color: #008080; font-weight: bold\">76</span>\n",
       "</pre>\n"
      ],
      "text/plain": [
       "\u001b[1;36m3\u001b[0m. Artist_name: Riley Green, Song_name: Worst Way, Song_popularity: \u001b[1;36m76\u001b[0m\n"
      ]
     },
     "metadata": {},
     "output_type": "display_data"
    },
    {
     "data": {
      "text/html": [
       "<pre style=\"white-space:pre;overflow-x:auto;line-height:normal;font-family:Menlo,'DejaVu Sans Mono',consolas,'Courier New',monospace\"><span style=\"color: #008080; text-decoration-color: #008080; font-weight: bold\">4</span>. Artist_name: Lainey Wilson, Song_name: Out of Oklahoma <span style=\"font-weight: bold\">(</span>From Twisters: The Album<span style=\"font-weight: bold\">)</span>, Song_popularity: <span style=\"color: #008080; text-decoration-color: #008080; font-weight: bold\">74</span>\n",
       "</pre>\n"
      ],
      "text/plain": [
       "\u001b[1;36m4\u001b[0m. Artist_name: Lainey Wilson, Song_name: Out of Oklahoma \u001b[1m(\u001b[0mFrom Twisters: The Album\u001b[1m)\u001b[0m, Song_popularity: \u001b[1;36m74\u001b[0m\n"
      ]
     },
     "metadata": {},
     "output_type": "display_data"
    },
    {
     "data": {
      "text/html": [
       "<pre style=\"white-space:pre;overflow-x:auto;line-height:normal;font-family:Menlo,'DejaVu Sans Mono',consolas,'Courier New',monospace\"><span style=\"color: #008080; text-decoration-color: #008080; font-weight: bold\">5</span>. Artist_name: Tucker Wetmore, Song_name: Wind Up Missin’ You, Song_popularity: <span style=\"color: #008080; text-decoration-color: #008080; font-weight: bold\">83</span>\n",
       "</pre>\n"
      ],
      "text/plain": [
       "\u001b[1;36m5\u001b[0m. Artist_name: Tucker Wetmore, Song_name: Wind Up Missin’ You, Song_popularity: \u001b[1;36m83\u001b[0m\n"
      ]
     },
     "metadata": {},
     "output_type": "display_data"
    }
   ],
   "source": [
    "# popular playlist\n",
    "# find out how well the specific artist (Sabrina Carpenter) is performing in trending playslist \n",
    "Album = sp.search(q='Top Hits', type='playlist', limit=10)\n",
    "index = 1\n",
    "for playlist in Album['playlists']['items']:\n",
    "    print(playlist['name'])\n",
    "    # find playlist id for top tracks\n",
    "    top_track_playlist_id = playlist['id']\n",
    "    top_hits_playlist = sp.playlist_tracks(top_track_playlist_id,limit=5)\n",
    "    for index, songs in enumerate(top_hits_playlist['items']):\n",
    "          index = index + 1\n",
    "          artist_name = songs['track']['artists'][0]['name']\n",
    "          song_name = songs['track']['name']\n",
    "          poplurarity = songs['track']['popularity']\n",
    "          print(f\"{index}. Artist_name: {artist_name}, Song_name: {song_name}, Song_popularity: {poplurarity}\")\n"
   ]
  },
  {
   "cell_type": "code",
   "execution_count": 160,
   "id": "c09ecd31-f47e-446c-b7bf-cf8748bbf4df",
   "metadata": {},
   "outputs": [
    {
     "data": {
      "text/html": [
       "<pre style=\"white-space:pre;overflow-x:auto;line-height:normal;font-family:Menlo,'DejaVu Sans Mono',consolas,'Courier New',monospace\">Today’s Top Hits\n",
       "</pre>\n"
      ],
      "text/plain": [
       "Today’s Top Hits\n"
      ]
     },
     "metadata": {},
     "output_type": "display_data"
    },
    {
     "data": {
      "text/html": [
       "<pre style=\"white-space:pre;overflow-x:auto;line-height:normal;font-family:Menlo,'DejaVu Sans Mono',consolas,'Courier New',monospace\"><span style=\"color: #008080; text-decoration-color: #008080; font-weight: bold\">1</span>. Artist_name: The Weeknd, Song_name: Dancing In The Flames, Song_popularity: <span style=\"color: #008080; text-decoration-color: #008080; font-weight: bold\">80</span>\n",
       "</pre>\n"
      ],
      "text/plain": [
       "\u001b[1;36m1\u001b[0m. Artist_name: The Weeknd, Song_name: Dancing In The Flames, Song_popularity: \u001b[1;36m80\u001b[0m\n"
      ]
     },
     "metadata": {},
     "output_type": "display_data"
    },
    {
     "data": {
      "text/html": [
       "<pre style=\"white-space:pre;overflow-x:auto;line-height:normal;font-family:Menlo,'DejaVu Sans Mono',consolas,'Courier New',monospace\"><span style=\"color: #008080; text-decoration-color: #008080; font-weight: bold\">2</span>. Artist_name: Sabrina Carpenter, Song_name: Taste, Song_popularity: <span style=\"color: #008080; text-decoration-color: #008080; font-weight: bold\">83</span>\n",
       "</pre>\n"
      ],
      "text/plain": [
       "\u001b[1;36m2\u001b[0m. Artist_name: Sabrina Carpenter, Song_name: Taste, Song_popularity: \u001b[1;36m83\u001b[0m\n"
      ]
     },
     "metadata": {},
     "output_type": "display_data"
    },
    {
     "data": {
      "text/html": [
       "<pre style=\"white-space:pre;overflow-x:auto;line-height:normal;font-family:Menlo,'DejaVu Sans Mono',consolas,'Courier New',monospace\"><span style=\"color: #008080; text-decoration-color: #008080; font-weight: bold\">3</span>. Artist_name: Lady Gaga, Song_name: Die With A Smile, Song_popularity: <span style=\"color: #008080; text-decoration-color: #008080; font-weight: bold\">99</span>\n",
       "</pre>\n"
      ],
      "text/plain": [
       "\u001b[1;36m3\u001b[0m. Artist_name: Lady Gaga, Song_name: Die With A Smile, Song_popularity: \u001b[1;36m99\u001b[0m\n"
      ]
     },
     "metadata": {},
     "output_type": "display_data"
    },
    {
     "data": {
      "text/html": [
       "<pre style=\"white-space:pre;overflow-x:auto;line-height:normal;font-family:Menlo,'DejaVu Sans Mono',consolas,'Courier New',monospace\"><span style=\"color: #008080; text-decoration-color: #008080; font-weight: bold\">4</span>. Artist_name: Chappell Roan, Song_name: Good Luck, Babe!, Song_popularity: <span style=\"color: #008080; text-decoration-color: #008080; font-weight: bold\">97</span>\n",
       "</pre>\n"
      ],
      "text/plain": [
       "\u001b[1;36m4\u001b[0m. Artist_name: Chappell Roan, Song_name: Good Luck, Babe!, Song_popularity: \u001b[1;36m97\u001b[0m\n"
      ]
     },
     "metadata": {},
     "output_type": "display_data"
    },
    {
     "data": {
      "text/html": [
       "<pre style=\"white-space:pre;overflow-x:auto;line-height:normal;font-family:Menlo,'DejaVu Sans Mono',consolas,'Courier New',monospace\"><span style=\"color: #008080; text-decoration-color: #008080; font-weight: bold\">5</span>. Artist_name: Charli xcx, Song_name: Guess featuring Billie Eilish, Song_popularity: <span style=\"color: #008080; text-decoration-color: #008080; font-weight: bold\">92</span>\n",
       "</pre>\n"
      ],
      "text/plain": [
       "\u001b[1;36m5\u001b[0m. Artist_name: Charli xcx, Song_name: Guess featuring Billie Eilish, Song_popularity: \u001b[1;36m92\u001b[0m\n"
      ]
     },
     "metadata": {},
     "output_type": "display_data"
    },
    {
     "data": {
      "text/html": [
       "<pre style=\"white-space:pre;overflow-x:auto;line-height:normal;font-family:Menlo,'DejaVu Sans Mono',consolas,'Courier New',monospace\"><span style=\"color: #008080; text-decoration-color: #008080; font-weight: bold\">6</span>. Artist_name: Billie Eilish, Song_name: BIRDS OF A FEATHER, Song_popularity: <span style=\"color: #008080; text-decoration-color: #008080; font-weight: bold\">100</span>\n",
       "</pre>\n"
      ],
      "text/plain": [
       "\u001b[1;36m6\u001b[0m. Artist_name: Billie Eilish, Song_name: BIRDS OF A FEATHER, Song_popularity: \u001b[1;36m100\u001b[0m\n"
      ]
     },
     "metadata": {},
     "output_type": "display_data"
    },
    {
     "data": {
      "text/html": [
       "<pre style=\"white-space:pre;overflow-x:auto;line-height:normal;font-family:Menlo,'DejaVu Sans Mono',consolas,'Courier New',monospace\"><span style=\"color: #008080; text-decoration-color: #008080; font-weight: bold\">7</span>. Artist_name: Shaboozey, Song_name: A Bar Song <span style=\"font-weight: bold\">(</span>Tipsy<span style=\"font-weight: bold\">)</span>, Song_popularity: <span style=\"color: #008080; text-decoration-color: #008080; font-weight: bold\">90</span>\n",
       "</pre>\n"
      ],
      "text/plain": [
       "\u001b[1;36m7\u001b[0m. Artist_name: Shaboozey, Song_name: A Bar Song \u001b[1m(\u001b[0mTipsy\u001b[1m)\u001b[0m, Song_popularity: \u001b[1;36m90\u001b[0m\n"
      ]
     },
     "metadata": {},
     "output_type": "display_data"
    },
    {
     "data": {
      "text/html": [
       "<pre style=\"white-space:pre;overflow-x:auto;line-height:normal;font-family:Menlo,'DejaVu Sans Mono',consolas,'Courier New',monospace\"><span style=\"color: #008080; text-decoration-color: #008080; font-weight: bold\">8</span>. Artist_name: Sabrina Carpenter, Song_name: Espresso, Song_popularity: <span style=\"color: #008080; text-decoration-color: #008080; font-weight: bold\">97</span>\n",
       "</pre>\n"
      ],
      "text/plain": [
       "\u001b[1;36m8\u001b[0m. Artist_name: Sabrina Carpenter, Song_name: Espresso, Song_popularity: \u001b[1;36m97\u001b[0m\n"
      ]
     },
     "metadata": {},
     "output_type": "display_data"
    },
    {
     "data": {
      "text/html": [
       "<pre style=\"white-space:pre;overflow-x:auto;line-height:normal;font-family:Menlo,'DejaVu Sans Mono',consolas,'Courier New',monospace\"><span style=\"color: #008080; text-decoration-color: #008080; font-weight: bold\">9</span>. Artist_name: Hozier, Song_name: Too Sweet, Song_popularity: <span style=\"color: #008080; text-decoration-color: #008080; font-weight: bold\">88</span>\n",
       "</pre>\n"
      ],
      "text/plain": [
       "\u001b[1;36m9\u001b[0m. Artist_name: Hozier, Song_name: Too Sweet, Song_popularity: \u001b[1;36m88\u001b[0m\n"
      ]
     },
     "metadata": {},
     "output_type": "display_data"
    },
    {
     "data": {
      "text/html": [
       "<pre style=\"white-space:pre;overflow-x:auto;line-height:normal;font-family:Menlo,'DejaVu Sans Mono',consolas,'Courier New',monospace\"><span style=\"color: #008080; text-decoration-color: #008080; font-weight: bold\">10</span>. Artist_name: Chappell Roan, Song_name: HOT TO GO!, Song_popularity: <span style=\"color: #008080; text-decoration-color: #008080; font-weight: bold\">92</span>\n",
       "</pre>\n"
      ],
      "text/plain": [
       "\u001b[1;36m10\u001b[0m. Artist_name: Chappell Roan, Song_name: HOT TO GO!, Song_popularity: \u001b[1;36m92\u001b[0m\n"
      ]
     },
     "metadata": {},
     "output_type": "display_data"
    },
    {
     "data": {
      "text/html": [
       "<pre style=\"white-space:pre;overflow-x:auto;line-height:normal;font-family:Menlo,'DejaVu Sans Mono',consolas,'Courier New',monospace\">Top <span style=\"color: #008080; text-decoration-color: #008080; font-weight: bold\">50</span> - Global\n",
       "</pre>\n"
      ],
      "text/plain": [
       "Top \u001b[1;36m50\u001b[0m - Global\n"
      ]
     },
     "metadata": {},
     "output_type": "display_data"
    },
    {
     "data": {
      "text/html": [
       "<pre style=\"white-space:pre;overflow-x:auto;line-height:normal;font-family:Menlo,'DejaVu Sans Mono',consolas,'Courier New',monospace\"><span style=\"color: #008080; text-decoration-color: #008080; font-weight: bold\">1</span>. Artist_name: Lady Gaga, Song_name: Die With A Smile, Song_popularity: <span style=\"color: #008080; text-decoration-color: #008080; font-weight: bold\">99</span>\n",
       "</pre>\n"
      ],
      "text/plain": [
       "\u001b[1;36m1\u001b[0m. Artist_name: Lady Gaga, Song_name: Die With A Smile, Song_popularity: \u001b[1;36m99\u001b[0m\n"
      ]
     },
     "metadata": {},
     "output_type": "display_data"
    },
    {
     "data": {
      "text/html": [
       "<pre style=\"white-space:pre;overflow-x:auto;line-height:normal;font-family:Menlo,'DejaVu Sans Mono',consolas,'Courier New',monospace\"><span style=\"color: #008080; text-decoration-color: #008080; font-weight: bold\">2</span>. Artist_name: Billie Eilish, Song_name: BIRDS OF A FEATHER, Song_popularity: <span style=\"color: #008080; text-decoration-color: #008080; font-weight: bold\">100</span>\n",
       "</pre>\n"
      ],
      "text/plain": [
       "\u001b[1;36m2\u001b[0m. Artist_name: Billie Eilish, Song_name: BIRDS OF A FEATHER, Song_popularity: \u001b[1;36m100\u001b[0m\n"
      ]
     },
     "metadata": {},
     "output_type": "display_data"
    },
    {
     "data": {
      "text/html": [
       "<pre style=\"white-space:pre;overflow-x:auto;line-height:normal;font-family:Menlo,'DejaVu Sans Mono',consolas,'Courier New',monospace\"><span style=\"color: #008080; text-decoration-color: #008080; font-weight: bold\">3</span>. Artist_name: Sabrina Carpenter, Song_name: Taste, Song_popularity: <span style=\"color: #008080; text-decoration-color: #008080; font-weight: bold\">95</span>\n",
       "</pre>\n"
      ],
      "text/plain": [
       "\u001b[1;36m3\u001b[0m. Artist_name: Sabrina Carpenter, Song_name: Taste, Song_popularity: \u001b[1;36m95\u001b[0m\n"
      ]
     },
     "metadata": {},
     "output_type": "display_data"
    },
    {
     "data": {
      "text/html": [
       "<pre style=\"white-space:pre;overflow-x:auto;line-height:normal;font-family:Menlo,'DejaVu Sans Mono',consolas,'Courier New',monospace\"><span style=\"color: #008080; text-decoration-color: #008080; font-weight: bold\">4</span>. Artist_name: Jimin, Song_name: Who, Song_popularity: <span style=\"color: #008080; text-decoration-color: #008080; font-weight: bold\">94</span>\n",
       "</pre>\n"
      ],
      "text/plain": [
       "\u001b[1;36m4\u001b[0m. Artist_name: Jimin, Song_name: Who, Song_popularity: \u001b[1;36m94\u001b[0m\n"
      ]
     },
     "metadata": {},
     "output_type": "display_data"
    },
    {
     "data": {
      "text/html": [
       "<pre style=\"white-space:pre;overflow-x:auto;line-height:normal;font-family:Menlo,'DejaVu Sans Mono',consolas,'Courier New',monospace\"><span style=\"color: #008080; text-decoration-color: #008080; font-weight: bold\">5</span>. Artist_name: Sabrina Carpenter, Song_name: Espresso, Song_popularity: <span style=\"color: #008080; text-decoration-color: #008080; font-weight: bold\">97</span>\n",
       "</pre>\n"
      ],
      "text/plain": [
       "\u001b[1;36m5\u001b[0m. Artist_name: Sabrina Carpenter, Song_name: Espresso, Song_popularity: \u001b[1;36m97\u001b[0m\n"
      ]
     },
     "metadata": {},
     "output_type": "display_data"
    },
    {
     "data": {
      "text/html": [
       "<pre style=\"white-space:pre;overflow-x:auto;line-height:normal;font-family:Menlo,'DejaVu Sans Mono',consolas,'Courier New',monospace\"><span style=\"color: #008080; text-decoration-color: #008080; font-weight: bold\">6</span>. Artist_name: Chappell Roan, Song_name: Good Luck, Babe!, Song_popularity: <span style=\"color: #008080; text-decoration-color: #008080; font-weight: bold\">97</span>\n",
       "</pre>\n"
      ],
      "text/plain": [
       "\u001b[1;36m6\u001b[0m. Artist_name: Chappell Roan, Song_name: Good Luck, Babe!, Song_popularity: \u001b[1;36m97\u001b[0m\n"
      ]
     },
     "metadata": {},
     "output_type": "display_data"
    },
    {
     "data": {
      "text/html": [
       "<pre style=\"white-space:pre;overflow-x:auto;line-height:normal;font-family:Menlo,'DejaVu Sans Mono',consolas,'Courier New',monospace\"><span style=\"color: #008080; text-decoration-color: #008080; font-weight: bold\">7</span>. Artist_name: KAROL G, Song_name: Si Antes Te Hubiera Conocido, Song_popularity: <span style=\"color: #008080; text-decoration-color: #008080; font-weight: bold\">96</span>\n",
       "</pre>\n"
      ],
      "text/plain": [
       "\u001b[1;36m7\u001b[0m. Artist_name: KAROL G, Song_name: Si Antes Te Hubiera Conocido, Song_popularity: \u001b[1;36m96\u001b[0m\n"
      ]
     },
     "metadata": {},
     "output_type": "display_data"
    },
    {
     "data": {
      "text/html": [
       "<pre style=\"white-space:pre;overflow-x:auto;line-height:normal;font-family:Menlo,'DejaVu Sans Mono',consolas,'Courier New',monospace\"><span style=\"color: #008080; text-decoration-color: #008080; font-weight: bold\">8</span>. Artist_name: Sabrina Carpenter, Song_name: Please Please Please, Song_popularity: <span style=\"color: #008080; text-decoration-color: #008080; font-weight: bold\">96</span>\n",
       "</pre>\n"
      ],
      "text/plain": [
       "\u001b[1;36m8\u001b[0m. Artist_name: Sabrina Carpenter, Song_name: Please Please Please, Song_popularity: \u001b[1;36m96\u001b[0m\n"
      ]
     },
     "metadata": {},
     "output_type": "display_data"
    },
    {
     "data": {
      "text/html": [
       "<pre style=\"white-space:pre;overflow-x:auto;line-height:normal;font-family:Menlo,'DejaVu Sans Mono',consolas,'Courier New',monospace\"><span style=\"color: #008080; text-decoration-color: #008080; font-weight: bold\">9</span>. Artist_name: Linkin Park, Song_name: The Emptiness Machine, Song_popularity: <span style=\"color: #008080; text-decoration-color: #008080; font-weight: bold\">91</span>\n",
       "</pre>\n"
      ],
      "text/plain": [
       "\u001b[1;36m9\u001b[0m. Artist_name: Linkin Park, Song_name: The Emptiness Machine, Song_popularity: \u001b[1;36m91\u001b[0m\n"
      ]
     },
     "metadata": {},
     "output_type": "display_data"
    },
    {
     "data": {
      "text/html": [
       "<pre style=\"white-space:pre;overflow-x:auto;line-height:normal;font-family:Menlo,'DejaVu Sans Mono',consolas,'Courier New',monospace\"><span style=\"color: #008080; text-decoration-color: #008080; font-weight: bold\">10</span>. Artist_name: Benson Boone, Song_name: Beautiful Things, Song_popularity: <span style=\"color: #008080; text-decoration-color: #008080; font-weight: bold\">91</span>\n",
       "</pre>\n"
      ],
      "text/plain": [
       "\u001b[1;36m10\u001b[0m. Artist_name: Benson Boone, Song_name: Beautiful Things, Song_popularity: \u001b[1;36m91\u001b[0m\n"
      ]
     },
     "metadata": {},
     "output_type": "display_data"
    },
    {
     "data": {
      "text/html": [
       "<pre style=\"white-space:pre;overflow-x:auto;line-height:normal;font-family:Menlo,'DejaVu Sans Mono',consolas,'Courier New',monospace\">Global Hip-Hop\n",
       "</pre>\n"
      ],
      "text/plain": [
       "Global Hip-Hop\n"
      ]
     },
     "metadata": {},
     "output_type": "display_data"
    },
    {
     "data": {
      "text/html": [
       "<pre style=\"white-space:pre;overflow-x:auto;line-height:normal;font-family:Menlo,'DejaVu Sans Mono',consolas,'Courier New',monospace\"><span style=\"color: #008080; text-decoration-color: #008080; font-weight: bold\">1</span>. Artist_name: Central Cee, Song_name: Bolide Noir, Song_popularity: <span style=\"color: #008080; text-decoration-color: #008080; font-weight: bold\">76</span>\n",
       "</pre>\n"
      ],
      "text/plain": [
       "\u001b[1;36m1\u001b[0m. Artist_name: Central Cee, Song_name: Bolide Noir, Song_popularity: \u001b[1;36m76\u001b[0m\n"
      ]
     },
     "metadata": {},
     "output_type": "display_data"
    },
    {
     "data": {
      "text/html": [
       "<pre style=\"white-space:pre;overflow-x:auto;line-height:normal;font-family:Menlo,'DejaVu Sans Mono',consolas,'Courier New',monospace\"><span style=\"color: #008080; text-decoration-color: #008080; font-weight: bold\">2</span>. Artist_name: Ndotz, Song_name: Embrace It, Song_popularity: <span style=\"color: #008080; text-decoration-color: #008080; font-weight: bold\">77</span>\n",
       "</pre>\n"
      ],
      "text/plain": [
       "\u001b[1;36m2\u001b[0m. Artist_name: Ndotz, Song_name: Embrace It, Song_popularity: \u001b[1;36m77\u001b[0m\n"
      ]
     },
     "metadata": {},
     "output_type": "display_data"
    },
    {
     "data": {
      "text/html": [
       "<pre style=\"white-space:pre;overflow-x:auto;line-height:normal;font-family:Menlo,'DejaVu Sans Mono',consolas,'Courier New',monospace\"><span style=\"color: #008080; text-decoration-color: #008080; font-weight: bold\">3</span>. Artist_name: Shiva, Song_name: Replay <span style=\"font-weight: bold\">(</span>feat. Lil Tjay<span style=\"font-weight: bold\">)</span>, Song_popularity: <span style=\"color: #008080; text-decoration-color: #008080; font-weight: bold\">67</span>\n",
       "</pre>\n"
      ],
      "text/plain": [
       "\u001b[1;36m3\u001b[0m. Artist_name: Shiva, Song_name: Replay \u001b[1m(\u001b[0mfeat. Lil Tjay\u001b[1m)\u001b[0m, Song_popularity: \u001b[1;36m67\u001b[0m\n"
      ]
     },
     "metadata": {},
     "output_type": "display_data"
    },
    {
     "data": {
      "text/html": [
       "<pre style=\"white-space:pre;overflow-x:auto;line-height:normal;font-family:Menlo,'DejaVu Sans Mono',consolas,'Courier New',monospace\"><span style=\"color: #008080; text-decoration-color: #008080; font-weight: bold\">4</span>. Artist_name: prodbycpkshawn, Song_name: Yo Bunny, Song_popularity: <span style=\"color: #008080; text-decoration-color: #008080; font-weight: bold\">77</span>\n",
       "</pre>\n"
      ],
      "text/plain": [
       "\u001b[1;36m4\u001b[0m. Artist_name: prodbycpkshawn, Song_name: Yo Bunny, Song_popularity: \u001b[1;36m77\u001b[0m\n"
      ]
     },
     "metadata": {},
     "output_type": "display_data"
    },
    {
     "data": {
      "text/html": [
       "<pre style=\"white-space:pre;overflow-x:auto;line-height:normal;font-family:Menlo,'DejaVu Sans Mono',consolas,'Courier New',monospace\"><span style=\"color: #008080; text-decoration-color: #008080; font-weight: bold\">5</span>. Artist_name: Asake, Song_name: Active, Song_popularity: <span style=\"color: #008080; text-decoration-color: #008080; font-weight: bold\">74</span>\n",
       "</pre>\n"
      ],
      "text/plain": [
       "\u001b[1;36m5\u001b[0m. Artist_name: Asake, Song_name: Active, Song_popularity: \u001b[1;36m74\u001b[0m\n"
      ]
     },
     "metadata": {},
     "output_type": "display_data"
    },
    {
     "data": {
      "text/html": [
       "<pre style=\"white-space:pre;overflow-x:auto;line-height:normal;font-family:Menlo,'DejaVu Sans Mono',consolas,'Courier New',monospace\"><span style=\"color: #008080; text-decoration-color: #008080; font-weight: bold\">6</span>. Artist_name: Lithe, Song_name: Fall Back <span style=\"font-weight: bold\">(</span>feat. Lil Tjay<span style=\"font-weight: bold\">)</span>, Song_popularity: <span style=\"color: #008080; text-decoration-color: #008080; font-weight: bold\">61</span>\n",
       "</pre>\n"
      ],
      "text/plain": [
       "\u001b[1;36m6\u001b[0m. Artist_name: Lithe, Song_name: Fall Back \u001b[1m(\u001b[0mfeat. Lil Tjay\u001b[1m)\u001b[0m, Song_popularity: \u001b[1;36m61\u001b[0m\n"
      ]
     },
     "metadata": {},
     "output_type": "display_data"
    },
    {
     "data": {
      "text/html": [
       "<pre style=\"white-space:pre;overflow-x:auto;line-height:normal;font-family:Menlo,'DejaVu Sans Mono',consolas,'Courier New',monospace\"><span style=\"color: #008080; text-decoration-color: #008080; font-weight: bold\">7</span>. Artist_name: Kairo Keyz, Song_name: GANG, Song_popularity: <span style=\"color: #008080; text-decoration-color: #008080; font-weight: bold\">75</span>\n",
       "</pre>\n"
      ],
      "text/plain": [
       "\u001b[1;36m7\u001b[0m. Artist_name: Kairo Keyz, Song_name: GANG, Song_popularity: \u001b[1;36m75\u001b[0m\n"
      ]
     },
     "metadata": {},
     "output_type": "display_data"
    },
    {
     "data": {
      "text/html": [
       "<pre style=\"white-space:pre;overflow-x:auto;line-height:normal;font-family:Menlo,'DejaVu Sans Mono',consolas,'Courier New',monospace\"><span style=\"color: #008080; text-decoration-color: #008080; font-weight: bold\">8</span>. Artist_name: Aitch, Song_name: Baddies, Song_popularity: <span style=\"color: #008080; text-decoration-color: #008080; font-weight: bold\">71</span>\n",
       "</pre>\n"
      ],
      "text/plain": [
       "\u001b[1;36m8\u001b[0m. Artist_name: Aitch, Song_name: Baddies, Song_popularity: \u001b[1;36m71\u001b[0m\n"
      ]
     },
     "metadata": {},
     "output_type": "display_data"
    },
    {
     "data": {
      "text/html": [
       "<pre style=\"white-space:pre;overflow-x:auto;line-height:normal;font-family:Menlo,'DejaVu Sans Mono',consolas,'Courier New',monospace\"><span style=\"color: #008080; text-decoration-color: #008080; font-weight: bold\">9</span>. Artist_name: Central Cee, Song_name: Moi, Song_popularity: <span style=\"color: #008080; text-decoration-color: #008080; font-weight: bold\">74</span>\n",
       "</pre>\n"
      ],
      "text/plain": [
       "\u001b[1;36m9\u001b[0m. Artist_name: Central Cee, Song_name: Moi, Song_popularity: \u001b[1;36m74\u001b[0m\n"
      ]
     },
     "metadata": {},
     "output_type": "display_data"
    },
    {
     "data": {
      "text/html": [
       "<pre style=\"white-space:pre;overflow-x:auto;line-height:normal;font-family:Menlo,'DejaVu Sans Mono',consolas,'Courier New',monospace\"><span style=\"color: #008080; text-decoration-color: #008080; font-weight: bold\">10</span>. Artist_name: LeoStayTrill, Song_name: Pink Lemonade <span style=\"font-weight: bold\">(</span>Str8 Reload<span style=\"font-weight: bold\">)</span>, Song_popularity: <span style=\"color: #008080; text-decoration-color: #008080; font-weight: bold\">77</span>\n",
       "</pre>\n"
      ],
      "text/plain": [
       "\u001b[1;36m10\u001b[0m. Artist_name: LeoStayTrill, Song_name: Pink Lemonade \u001b[1m(\u001b[0mStr8 Reload\u001b[1m)\u001b[0m, Song_popularity: \u001b[1;36m77\u001b[0m\n"
      ]
     },
     "metadata": {},
     "output_type": "display_data"
    },
    {
     "data": {
      "text/html": [
       "<pre style=\"white-space:pre;overflow-x:auto;line-height:normal;font-family:Menlo,'DejaVu Sans Mono',consolas,'Courier New',monospace\">Top Songs - Global\n",
       "</pre>\n"
      ],
      "text/plain": [
       "Top Songs - Global\n"
      ]
     },
     "metadata": {},
     "output_type": "display_data"
    },
    {
     "data": {
      "text/html": [
       "<pre style=\"white-space:pre;overflow-x:auto;line-height:normal;font-family:Menlo,'DejaVu Sans Mono',consolas,'Courier New',monospace\"><span style=\"color: #008080; text-decoration-color: #008080; font-weight: bold\">1</span>. Artist_name: Lady Gaga, Song_name: Die With A Smile, Song_popularity: <span style=\"color: #008080; text-decoration-color: #008080; font-weight: bold\">99</span>\n",
       "</pre>\n"
      ],
      "text/plain": [
       "\u001b[1;36m1\u001b[0m. Artist_name: Lady Gaga, Song_name: Die With A Smile, Song_popularity: \u001b[1;36m99\u001b[0m\n"
      ]
     },
     "metadata": {},
     "output_type": "display_data"
    },
    {
     "data": {
      "text/html": [
       "<pre style=\"white-space:pre;overflow-x:auto;line-height:normal;font-family:Menlo,'DejaVu Sans Mono',consolas,'Courier New',monospace\"><span style=\"color: #008080; text-decoration-color: #008080; font-weight: bold\">2</span>. Artist_name: Billie Eilish, Song_name: BIRDS OF A FEATHER, Song_popularity: <span style=\"color: #008080; text-decoration-color: #008080; font-weight: bold\">100</span>\n",
       "</pre>\n"
      ],
      "text/plain": [
       "\u001b[1;36m2\u001b[0m. Artist_name: Billie Eilish, Song_name: BIRDS OF A FEATHER, Song_popularity: \u001b[1;36m100\u001b[0m\n"
      ]
     },
     "metadata": {},
     "output_type": "display_data"
    },
    {
     "data": {
      "text/html": [
       "<pre style=\"white-space:pre;overflow-x:auto;line-height:normal;font-family:Menlo,'DejaVu Sans Mono',consolas,'Courier New',monospace\"><span style=\"color: #008080; text-decoration-color: #008080; font-weight: bold\">3</span>. Artist_name: Sabrina Carpenter, Song_name: Taste, Song_popularity: <span style=\"color: #008080; text-decoration-color: #008080; font-weight: bold\">95</span>\n",
       "</pre>\n"
      ],
      "text/plain": [
       "\u001b[1;36m3\u001b[0m. Artist_name: Sabrina Carpenter, Song_name: Taste, Song_popularity: \u001b[1;36m95\u001b[0m\n"
      ]
     },
     "metadata": {},
     "output_type": "display_data"
    },
    {
     "data": {
      "text/html": [
       "<pre style=\"white-space:pre;overflow-x:auto;line-height:normal;font-family:Menlo,'DejaVu Sans Mono',consolas,'Courier New',monospace\"><span style=\"color: #008080; text-decoration-color: #008080; font-weight: bold\">4</span>. Artist_name: Jimin, Song_name: Who, Song_popularity: <span style=\"color: #008080; text-decoration-color: #008080; font-weight: bold\">94</span>\n",
       "</pre>\n"
      ],
      "text/plain": [
       "\u001b[1;36m4\u001b[0m. Artist_name: Jimin, Song_name: Who, Song_popularity: \u001b[1;36m94\u001b[0m\n"
      ]
     },
     "metadata": {},
     "output_type": "display_data"
    },
    {
     "data": {
      "text/html": [
       "<pre style=\"white-space:pre;overflow-x:auto;line-height:normal;font-family:Menlo,'DejaVu Sans Mono',consolas,'Courier New',monospace\"><span style=\"color: #008080; text-decoration-color: #008080; font-weight: bold\">5</span>. Artist_name: Sabrina Carpenter, Song_name: Espresso, Song_popularity: <span style=\"color: #008080; text-decoration-color: #008080; font-weight: bold\">97</span>\n",
       "</pre>\n"
      ],
      "text/plain": [
       "\u001b[1;36m5\u001b[0m. Artist_name: Sabrina Carpenter, Song_name: Espresso, Song_popularity: \u001b[1;36m97\u001b[0m\n"
      ]
     },
     "metadata": {},
     "output_type": "display_data"
    },
    {
     "data": {
      "text/html": [
       "<pre style=\"white-space:pre;overflow-x:auto;line-height:normal;font-family:Menlo,'DejaVu Sans Mono',consolas,'Courier New',monospace\"><span style=\"color: #008080; text-decoration-color: #008080; font-weight: bold\">6</span>. Artist_name: Linkin Park, Song_name: The Emptiness Machine, Song_popularity: <span style=\"color: #008080; text-decoration-color: #008080; font-weight: bold\">91</span>\n",
       "</pre>\n"
      ],
      "text/plain": [
       "\u001b[1;36m6\u001b[0m. Artist_name: Linkin Park, Song_name: The Emptiness Machine, Song_popularity: \u001b[1;36m91\u001b[0m\n"
      ]
     },
     "metadata": {},
     "output_type": "display_data"
    },
    {
     "data": {
      "text/html": [
       "<pre style=\"white-space:pre;overflow-x:auto;line-height:normal;font-family:Menlo,'DejaVu Sans Mono',consolas,'Courier New',monospace\"><span style=\"color: #008080; text-decoration-color: #008080; font-weight: bold\">7</span>. Artist_name: Sabrina Carpenter, Song_name: Please Please Please, Song_popularity: <span style=\"color: #008080; text-decoration-color: #008080; font-weight: bold\">96</span>\n",
       "</pre>\n"
      ],
      "text/plain": [
       "\u001b[1;36m7\u001b[0m. Artist_name: Sabrina Carpenter, Song_name: Please Please Please, Song_popularity: \u001b[1;36m96\u001b[0m\n"
      ]
     },
     "metadata": {},
     "output_type": "display_data"
    },
    {
     "data": {
      "text/html": [
       "<pre style=\"white-space:pre;overflow-x:auto;line-height:normal;font-family:Menlo,'DejaVu Sans Mono',consolas,'Courier New',monospace\"><span style=\"color: #008080; text-decoration-color: #008080; font-weight: bold\">8</span>. Artist_name: KAROL G, Song_name: Si Antes Te Hubiera Conocido, Song_popularity: <span style=\"color: #008080; text-decoration-color: #008080; font-weight: bold\">96</span>\n",
       "</pre>\n"
      ],
      "text/plain": [
       "\u001b[1;36m8\u001b[0m. Artist_name: KAROL G, Song_name: Si Antes Te Hubiera Conocido, Song_popularity: \u001b[1;36m96\u001b[0m\n"
      ]
     },
     "metadata": {},
     "output_type": "display_data"
    },
    {
     "data": {
      "text/html": [
       "<pre style=\"white-space:pre;overflow-x:auto;line-height:normal;font-family:Menlo,'DejaVu Sans Mono',consolas,'Courier New',monospace\"><span style=\"color: #008080; text-decoration-color: #008080; font-weight: bold\">9</span>. Artist_name: Chappell Roan, Song_name: Good Luck, Babe!, Song_popularity: <span style=\"color: #008080; text-decoration-color: #008080; font-weight: bold\">97</span>\n",
       "</pre>\n"
      ],
      "text/plain": [
       "\u001b[1;36m9\u001b[0m. Artist_name: Chappell Roan, Song_name: Good Luck, Babe!, Song_popularity: \u001b[1;36m97\u001b[0m\n"
      ]
     },
     "metadata": {},
     "output_type": "display_data"
    },
    {
     "data": {
      "text/html": [
       "<pre style=\"white-space:pre;overflow-x:auto;line-height:normal;font-family:Menlo,'DejaVu Sans Mono',consolas,'Courier New',monospace\"><span style=\"color: #008080; text-decoration-color: #008080; font-weight: bold\">10</span>. Artist_name: Benson Boone, Song_name: Beautiful Things, Song_popularity: <span style=\"color: #008080; text-decoration-color: #008080; font-weight: bold\">91</span>\n",
       "</pre>\n"
      ],
      "text/plain": [
       "\u001b[1;36m10\u001b[0m. Artist_name: Benson Boone, Song_name: Beautiful Things, Song_popularity: \u001b[1;36m91\u001b[0m\n"
      ]
     },
     "metadata": {},
     "output_type": "display_data"
    },
    {
     "data": {
      "text/html": [
       "<pre style=\"white-space:pre;overflow-x:auto;line-height:normal;font-family:Menlo,'DejaVu Sans Mono',consolas,'Courier New',monospace\">Top <span style=\"color: #008080; text-decoration-color: #008080; font-weight: bold\">50</span> - United Kingdom\n",
       "</pre>\n"
      ],
      "text/plain": [
       "Top \u001b[1;36m50\u001b[0m - United Kingdom\n"
      ]
     },
     "metadata": {},
     "output_type": "display_data"
    },
    {
     "data": {
      "text/html": [
       "<pre style=\"white-space:pre;overflow-x:auto;line-height:normal;font-family:Menlo,'DejaVu Sans Mono',consolas,'Courier New',monospace\"><span style=\"color: #008080; text-decoration-color: #008080; font-weight: bold\">1</span>. Artist_name: Sabrina Carpenter, Song_name: Taste, Song_popularity: <span style=\"color: #008080; text-decoration-color: #008080; font-weight: bold\">95</span>\n",
       "</pre>\n"
      ],
      "text/plain": [
       "\u001b[1;36m1\u001b[0m. Artist_name: Sabrina Carpenter, Song_name: Taste, Song_popularity: \u001b[1;36m95\u001b[0m\n"
      ]
     },
     "metadata": {},
     "output_type": "display_data"
    },
    {
     "data": {
      "text/html": [
       "<pre style=\"white-space:pre;overflow-x:auto;line-height:normal;font-family:Menlo,'DejaVu Sans Mono',consolas,'Courier New',monospace\"><span style=\"color: #008080; text-decoration-color: #008080; font-weight: bold\">2</span>. Artist_name: Chappell Roan, Song_name: Good Luck, Babe!, Song_popularity: <span style=\"color: #008080; text-decoration-color: #008080; font-weight: bold\">97</span>\n",
       "</pre>\n"
      ],
      "text/plain": [
       "\u001b[1;36m2\u001b[0m. Artist_name: Chappell Roan, Song_name: Good Luck, Babe!, Song_popularity: \u001b[1;36m97\u001b[0m\n"
      ]
     },
     "metadata": {},
     "output_type": "display_data"
    },
    {
     "data": {
      "text/html": [
       "<pre style=\"white-space:pre;overflow-x:auto;line-height:normal;font-family:Menlo,'DejaVu Sans Mono',consolas,'Courier New',monospace\"><span style=\"color: #008080; text-decoration-color: #008080; font-weight: bold\">3</span>. Artist_name: Billie Eilish, Song_name: BIRDS OF A FEATHER, Song_popularity: <span style=\"color: #008080; text-decoration-color: #008080; font-weight: bold\">100</span>\n",
       "</pre>\n"
      ],
      "text/plain": [
       "\u001b[1;36m3\u001b[0m. Artist_name: Billie Eilish, Song_name: BIRDS OF A FEATHER, Song_popularity: \u001b[1;36m100\u001b[0m\n"
      ]
     },
     "metadata": {},
     "output_type": "display_data"
    },
    {
     "data": {
      "text/html": [
       "<pre style=\"white-space:pre;overflow-x:auto;line-height:normal;font-family:Menlo,'DejaVu Sans Mono',consolas,'Courier New',monospace\"><span style=\"color: #008080; text-decoration-color: #008080; font-weight: bold\">4</span>. Artist_name: Sabrina Carpenter, Song_name: Espresso, Song_popularity: <span style=\"color: #008080; text-decoration-color: #008080; font-weight: bold\">97</span>\n",
       "</pre>\n"
      ],
      "text/plain": [
       "\u001b[1;36m4\u001b[0m. Artist_name: Sabrina Carpenter, Song_name: Espresso, Song_popularity: \u001b[1;36m97\u001b[0m\n"
      ]
     },
     "metadata": {},
     "output_type": "display_data"
    },
    {
     "data": {
      "text/html": [
       "<pre style=\"white-space:pre;overflow-x:auto;line-height:normal;font-family:Menlo,'DejaVu Sans Mono',consolas,'Courier New',monospace\"><span style=\"color: #008080; text-decoration-color: #008080; font-weight: bold\">5</span>. Artist_name: Sabrina Carpenter, Song_name: Please Please Please, Song_popularity: <span style=\"color: #008080; text-decoration-color: #008080; font-weight: bold\">96</span>\n",
       "</pre>\n"
      ],
      "text/plain": [
       "\u001b[1;36m5\u001b[0m. Artist_name: Sabrina Carpenter, Song_name: Please Please Please, Song_popularity: \u001b[1;36m96\u001b[0m\n"
      ]
     },
     "metadata": {},
     "output_type": "display_data"
    },
    {
     "data": {
      "text/html": [
       "<pre style=\"white-space:pre;overflow-x:auto;line-height:normal;font-family:Menlo,'DejaVu Sans Mono',consolas,'Courier New',monospace\"><span style=\"color: #008080; text-decoration-color: #008080; font-weight: bold\">6</span>. Artist_name: Lady Gaga, Song_name: Die With A Smile, Song_popularity: <span style=\"color: #008080; text-decoration-color: #008080; font-weight: bold\">99</span>\n",
       "</pre>\n"
      ],
      "text/plain": [
       "\u001b[1;36m6\u001b[0m. Artist_name: Lady Gaga, Song_name: Die With A Smile, Song_popularity: \u001b[1;36m99\u001b[0m\n"
      ]
     },
     "metadata": {},
     "output_type": "display_data"
    },
    {
     "data": {
      "text/html": [
       "<pre style=\"white-space:pre;overflow-x:auto;line-height:normal;font-family:Menlo,'DejaVu Sans Mono',consolas,'Courier New',monospace\"><span style=\"color: #008080; text-decoration-color: #008080; font-weight: bold\">7</span>. Artist_name: Sabrina Carpenter, Song_name: Bed Chem, Song_popularity: <span style=\"color: #008080; text-decoration-color: #008080; font-weight: bold\">92</span>\n",
       "</pre>\n"
      ],
      "text/plain": [
       "\u001b[1;36m7\u001b[0m. Artist_name: Sabrina Carpenter, Song_name: Bed Chem, Song_popularity: \u001b[1;36m92\u001b[0m\n"
      ]
     },
     "metadata": {},
     "output_type": "display_data"
    },
    {
     "data": {
      "text/html": [
       "<pre style=\"white-space:pre;overflow-x:auto;line-height:normal;font-family:Menlo,'DejaVu Sans Mono',consolas,'Courier New',monospace\"><span style=\"color: #008080; text-decoration-color: #008080; font-weight: bold\">8</span>. Artist_name: Benson Boone, Song_name: Beautiful Things, Song_popularity: <span style=\"color: #008080; text-decoration-color: #008080; font-weight: bold\">91</span>\n",
       "</pre>\n"
      ],
      "text/plain": [
       "\u001b[1;36m8\u001b[0m. Artist_name: Benson Boone, Song_name: Beautiful Things, Song_popularity: \u001b[1;36m91\u001b[0m\n"
      ]
     },
     "metadata": {},
     "output_type": "display_data"
    },
    {
     "data": {
      "text/html": [
       "<pre style=\"white-space:pre;overflow-x:auto;line-height:normal;font-family:Menlo,'DejaVu Sans Mono',consolas,'Courier New',monospace\"><span style=\"color: #008080; text-decoration-color: #008080; font-weight: bold\">9</span>. Artist_name: Gigi Perez, Song_name: Sailor Song, Song_popularity: <span style=\"color: #008080; text-decoration-color: #008080; font-weight: bold\">88</span>\n",
       "</pre>\n"
      ],
      "text/plain": [
       "\u001b[1;36m9\u001b[0m. Artist_name: Gigi Perez, Song_name: Sailor Song, Song_popularity: \u001b[1;36m88\u001b[0m\n"
      ]
     },
     "metadata": {},
     "output_type": "display_data"
    },
    {
     "data": {
      "text/html": [
       "<pre style=\"white-space:pre;overflow-x:auto;line-height:normal;font-family:Menlo,'DejaVu Sans Mono',consolas,'Courier New',monospace\"><span style=\"color: #008080; text-decoration-color: #008080; font-weight: bold\">10</span>. Artist_name: Chappell Roan, Song_name: HOT TO GO!, Song_popularity: <span style=\"color: #008080; text-decoration-color: #008080; font-weight: bold\">92</span>\n",
       "</pre>\n"
      ],
      "text/plain": [
       "\u001b[1;36m10\u001b[0m. Artist_name: Chappell Roan, Song_name: HOT TO GO!, Song_popularity: \u001b[1;36m92\u001b[0m\n"
      ]
     },
     "metadata": {},
     "output_type": "display_data"
    },
    {
     "data": {
      "text/html": [
       "<pre style=\"white-space:pre;overflow-x:auto;line-height:normal;font-family:Menlo,'DejaVu Sans Mono',consolas,'Courier New',monospace\">Top <span style=\"color: #008080; text-decoration-color: #008080; font-weight: bold\">50</span> - USA\n",
       "</pre>\n"
      ],
      "text/plain": [
       "Top \u001b[1;36m50\u001b[0m - USA\n"
      ]
     },
     "metadata": {},
     "output_type": "display_data"
    },
    {
     "data": {
      "text/html": [
       "<pre style=\"white-space:pre;overflow-x:auto;line-height:normal;font-family:Menlo,'DejaVu Sans Mono',consolas,'Courier New',monospace\"><span style=\"color: #008080; text-decoration-color: #008080; font-weight: bold\">1</span>. Artist_name: Sabrina Carpenter, Song_name: Taste, Song_popularity: <span style=\"color: #008080; text-decoration-color: #008080; font-weight: bold\">95</span>\n",
       "</pre>\n"
      ],
      "text/plain": [
       "\u001b[1;36m1\u001b[0m. Artist_name: Sabrina Carpenter, Song_name: Taste, Song_popularity: \u001b[1;36m95\u001b[0m\n"
      ]
     },
     "metadata": {},
     "output_type": "display_data"
    },
    {
     "data": {
      "text/html": [
       "<pre style=\"white-space:pre;overflow-x:auto;line-height:normal;font-family:Menlo,'DejaVu Sans Mono',consolas,'Courier New',monospace\"><span style=\"color: #008080; text-decoration-color: #008080; font-weight: bold\">2</span>. Artist_name: Chappell Roan, Song_name: Good Luck, Babe!, Song_popularity: <span style=\"color: #008080; text-decoration-color: #008080; font-weight: bold\">97</span>\n",
       "</pre>\n"
      ],
      "text/plain": [
       "\u001b[1;36m2\u001b[0m. Artist_name: Chappell Roan, Song_name: Good Luck, Babe!, Song_popularity: \u001b[1;36m97\u001b[0m\n"
      ]
     },
     "metadata": {},
     "output_type": "display_data"
    },
    {
     "data": {
      "text/html": [
       "<pre style=\"white-space:pre;overflow-x:auto;line-height:normal;font-family:Menlo,'DejaVu Sans Mono',consolas,'Courier New',monospace\"><span style=\"color: #008080; text-decoration-color: #008080; font-weight: bold\">3</span>. Artist_name: Lady Gaga, Song_name: Die With A Smile, Song_popularity: <span style=\"color: #008080; text-decoration-color: #008080; font-weight: bold\">99</span>\n",
       "</pre>\n"
      ],
      "text/plain": [
       "\u001b[1;36m3\u001b[0m. Artist_name: Lady Gaga, Song_name: Die With A Smile, Song_popularity: \u001b[1;36m99\u001b[0m\n"
      ]
     },
     "metadata": {},
     "output_type": "display_data"
    },
    {
     "data": {
      "text/html": [
       "<pre style=\"white-space:pre;overflow-x:auto;line-height:normal;font-family:Menlo,'DejaVu Sans Mono',consolas,'Courier New',monospace\"><span style=\"color: #008080; text-decoration-color: #008080; font-weight: bold\">4</span>. Artist_name: Billie Eilish, Song_name: BIRDS OF A FEATHER, Song_popularity: <span style=\"color: #008080; text-decoration-color: #008080; font-weight: bold\">100</span>\n",
       "</pre>\n"
      ],
      "text/plain": [
       "\u001b[1;36m4\u001b[0m. Artist_name: Billie Eilish, Song_name: BIRDS OF A FEATHER, Song_popularity: \u001b[1;36m100\u001b[0m\n"
      ]
     },
     "metadata": {},
     "output_type": "display_data"
    },
    {
     "data": {
      "text/html": [
       "<pre style=\"white-space:pre;overflow-x:auto;line-height:normal;font-family:Menlo,'DejaVu Sans Mono',consolas,'Courier New',monospace\"><span style=\"color: #008080; text-decoration-color: #008080; font-weight: bold\">5</span>. Artist_name: Playboi Carti, Song_name: ALL RED, Song_popularity: <span style=\"color: #008080; text-decoration-color: #008080; font-weight: bold\">84</span>\n",
       "</pre>\n"
      ],
      "text/plain": [
       "\u001b[1;36m5\u001b[0m. Artist_name: Playboi Carti, Song_name: ALL RED, Song_popularity: \u001b[1;36m84\u001b[0m\n"
      ]
     },
     "metadata": {},
     "output_type": "display_data"
    },
    {
     "data": {
      "text/html": [
       "<pre style=\"white-space:pre;overflow-x:auto;line-height:normal;font-family:Menlo,'DejaVu Sans Mono',consolas,'Courier New',monospace\"><span style=\"color: #008080; text-decoration-color: #008080; font-weight: bold\">6</span>. Artist_name: Sabrina Carpenter, Song_name: Espresso, Song_popularity: <span style=\"color: #008080; text-decoration-color: #008080; font-weight: bold\">97</span>\n",
       "</pre>\n"
      ],
      "text/plain": [
       "\u001b[1;36m6\u001b[0m. Artist_name: Sabrina Carpenter, Song_name: Espresso, Song_popularity: \u001b[1;36m97\u001b[0m\n"
      ]
     },
     "metadata": {},
     "output_type": "display_data"
    },
    {
     "data": {
      "text/html": [
       "<pre style=\"white-space:pre;overflow-x:auto;line-height:normal;font-family:Menlo,'DejaVu Sans Mono',consolas,'Courier New',monospace\"><span style=\"color: #008080; text-decoration-color: #008080; font-weight: bold\">7</span>. Artist_name: Jimin, Song_name: Who, Song_popularity: <span style=\"color: #008080; text-decoration-color: #008080; font-weight: bold\">94</span>\n",
       "</pre>\n"
      ],
      "text/plain": [
       "\u001b[1;36m7\u001b[0m. Artist_name: Jimin, Song_name: Who, Song_popularity: \u001b[1;36m94\u001b[0m\n"
      ]
     },
     "metadata": {},
     "output_type": "display_data"
    },
    {
     "data": {
      "text/html": [
       "<pre style=\"white-space:pre;overflow-x:auto;line-height:normal;font-family:Menlo,'DejaVu Sans Mono',consolas,'Courier New',monospace\"><span style=\"color: #008080; text-decoration-color: #008080; font-weight: bold\">8</span>. Artist_name: Sabrina Carpenter, Song_name: Bed Chem, Song_popularity: <span style=\"color: #008080; text-decoration-color: #008080; font-weight: bold\">92</span>\n",
       "</pre>\n"
      ],
      "text/plain": [
       "\u001b[1;36m8\u001b[0m. Artist_name: Sabrina Carpenter, Song_name: Bed Chem, Song_popularity: \u001b[1;36m92\u001b[0m\n"
      ]
     },
     "metadata": {},
     "output_type": "display_data"
    },
    {
     "data": {
      "text/html": [
       "<pre style=\"white-space:pre;overflow-x:auto;line-height:normal;font-family:Menlo,'DejaVu Sans Mono',consolas,'Courier New',monospace\"><span style=\"color: #008080; text-decoration-color: #008080; font-weight: bold\">9</span>. Artist_name: Sabrina Carpenter, Song_name: Please Please Please, Song_popularity: <span style=\"color: #008080; text-decoration-color: #008080; font-weight: bold\">96</span>\n",
       "</pre>\n"
      ],
      "text/plain": [
       "\u001b[1;36m9\u001b[0m. Artist_name: Sabrina Carpenter, Song_name: Please Please Please, Song_popularity: \u001b[1;36m96\u001b[0m\n"
      ]
     },
     "metadata": {},
     "output_type": "display_data"
    },
    {
     "data": {
      "text/html": [
       "<pre style=\"white-space:pre;overflow-x:auto;line-height:normal;font-family:Menlo,'DejaVu Sans Mono',consolas,'Courier New',monospace\"><span style=\"color: #008080; text-decoration-color: #008080; font-weight: bold\">10</span>. Artist_name: Shaboozey, Song_name: A Bar Song <span style=\"font-weight: bold\">(</span>Tipsy<span style=\"font-weight: bold\">)</span>, Song_popularity: <span style=\"color: #008080; text-decoration-color: #008080; font-weight: bold\">87</span>\n",
       "</pre>\n"
      ],
      "text/plain": [
       "\u001b[1;36m10\u001b[0m. Artist_name: Shaboozey, Song_name: A Bar Song \u001b[1m(\u001b[0mTipsy\u001b[1m)\u001b[0m, Song_popularity: \u001b[1;36m87\u001b[0m\n"
      ]
     },
     "metadata": {},
     "output_type": "display_data"
    },
    {
     "data": {
      "text/html": [
       "<pre style=\"white-space:pre;overflow-x:auto;line-height:normal;font-family:Menlo,'DejaVu Sans Mono',consolas,'Courier New',monospace\">UK Top <span style=\"color: #008080; text-decoration-color: #008080; font-weight: bold\">50</span> | BIGGEST CHART HITS <span style=\"color: #008080; text-decoration-color: #008080; font-weight: bold\">2024</span>\n",
       "</pre>\n"
      ],
      "text/plain": [
       "UK Top \u001b[1;36m50\u001b[0m | BIGGEST CHART HITS \u001b[1;36m2024\u001b[0m\n"
      ]
     },
     "metadata": {},
     "output_type": "display_data"
    },
    {
     "data": {
      "text/html": [
       "<pre style=\"white-space:pre;overflow-x:auto;line-height:normal;font-family:Menlo,'DejaVu Sans Mono',consolas,'Courier New',monospace\"><span style=\"color: #008080; text-decoration-color: #008080; font-weight: bold\">1</span>. Artist_name: Charli xcx, Song_name: Guess featuring Billie Eilish, Song_popularity: <span style=\"color: #008080; text-decoration-color: #008080; font-weight: bold\">92</span>\n",
       "</pre>\n"
      ],
      "text/plain": [
       "\u001b[1;36m1\u001b[0m. Artist_name: Charli xcx, Song_name: Guess featuring Billie Eilish, Song_popularity: \u001b[1;36m92\u001b[0m\n"
      ]
     },
     "metadata": {},
     "output_type": "display_data"
    },
    {
     "data": {
      "text/html": [
       "<pre style=\"white-space:pre;overflow-x:auto;line-height:normal;font-family:Menlo,'DejaVu Sans Mono',consolas,'Courier New',monospace\"><span style=\"color: #008080; text-decoration-color: #008080; font-weight: bold\">2</span>. Artist_name: Benson Boone, Song_name: Slow It Down, Song_popularity: <span style=\"color: #008080; text-decoration-color: #008080; font-weight: bold\">76</span>\n",
       "</pre>\n"
      ],
      "text/plain": [
       "\u001b[1;36m2\u001b[0m. Artist_name: Benson Boone, Song_name: Slow It Down, Song_popularity: \u001b[1;36m76\u001b[0m\n"
      ]
     },
     "metadata": {},
     "output_type": "display_data"
    },
    {
     "data": {
      "text/html": [
       "<pre style=\"white-space:pre;overflow-x:auto;line-height:normal;font-family:Menlo,'DejaVu Sans Mono',consolas,'Courier New',monospace\"><span style=\"color: #008080; text-decoration-color: #008080; font-weight: bold\">3</span>. Artist_name: BL3SS, Song_name: Kisses <span style=\"font-weight: bold\">(</span>feat. bbyclose<span style=\"font-weight: bold\">)</span>, Song_popularity: <span style=\"color: #008080; text-decoration-color: #008080; font-weight: bold\">84</span>\n",
       "</pre>\n"
      ],
      "text/plain": [
       "\u001b[1;36m3\u001b[0m. Artist_name: BL3SS, Song_name: Kisses \u001b[1m(\u001b[0mfeat. bbyclose\u001b[1m)\u001b[0m, Song_popularity: \u001b[1;36m84\u001b[0m\n"
      ]
     },
     "metadata": {},
     "output_type": "display_data"
    },
    {
     "data": {
      "text/html": [
       "<pre style=\"white-space:pre;overflow-x:auto;line-height:normal;font-family:Menlo,'DejaVu Sans Mono',consolas,'Courier New',monospace\"><span style=\"color: #008080; text-decoration-color: #008080; font-weight: bold\">4</span>. Artist_name: Sonny Fodera, Song_name: Somedays, Song_popularity: <span style=\"color: #008080; text-decoration-color: #008080; font-weight: bold\">76</span>\n",
       "</pre>\n"
      ],
      "text/plain": [
       "\u001b[1;36m4\u001b[0m. Artist_name: Sonny Fodera, Song_name: Somedays, Song_popularity: \u001b[1;36m76\u001b[0m\n"
      ]
     },
     "metadata": {},
     "output_type": "display_data"
    },
    {
     "data": {
      "text/html": [
       "<pre style=\"white-space:pre;overflow-x:auto;line-height:normal;font-family:Menlo,'DejaVu Sans Mono',consolas,'Courier New',monospace\"><span style=\"color: #008080; text-decoration-color: #008080; font-weight: bold\">5</span>. Artist_name: The Blessed Madonna, Song_name: Happier <span style=\"font-weight: bold\">(</span>feat. Clementine Douglas<span style=\"font-weight: bold\">)</span>, Song_popularity: <span style=\"color: #008080; text-decoration-color: #008080; font-weight: bold\">76</span>\n",
       "</pre>\n"
      ],
      "text/plain": [
       "\u001b[1;36m5\u001b[0m. Artist_name: The Blessed Madonna, Song_name: Happier \u001b[1m(\u001b[0mfeat. Clementine Douglas\u001b[1m)\u001b[0m, Song_popularity: \u001b[1;36m76\u001b[0m\n"
      ]
     },
     "metadata": {},
     "output_type": "display_data"
    },
    {
     "data": {
      "text/html": [
       "<pre style=\"white-space:pre;overflow-x:auto;line-height:normal;font-family:Menlo,'DejaVu Sans Mono',consolas,'Courier New',monospace\"><span style=\"color: #008080; text-decoration-color: #008080; font-weight: bold\">6</span>. Artist_name: Lady Gaga, Song_name: Die With A Smile, Song_popularity: <span style=\"color: #008080; text-decoration-color: #008080; font-weight: bold\">99</span>\n",
       "</pre>\n"
      ],
      "text/plain": [
       "\u001b[1;36m6\u001b[0m. Artist_name: Lady Gaga, Song_name: Die With A Smile, Song_popularity: \u001b[1;36m99\u001b[0m\n"
      ]
     },
     "metadata": {},
     "output_type": "display_data"
    },
    {
     "data": {
      "text/html": [
       "<pre style=\"white-space:pre;overflow-x:auto;line-height:normal;font-family:Menlo,'DejaVu Sans Mono',consolas,'Courier New',monospace\"><span style=\"color: #008080; text-decoration-color: #008080; font-weight: bold\">7</span>. Artist_name: Jordan Adetunji, Song_name: KEHLANI <span style=\"font-weight: bold\">(</span>REMIX<span style=\"font-weight: bold\">)</span> , Song_popularity: <span style=\"color: #008080; text-decoration-color: #008080; font-weight: bold\">78</span>\n",
       "</pre>\n"
      ],
      "text/plain": [
       "\u001b[1;36m7\u001b[0m. Artist_name: Jordan Adetunji, Song_name: KEHLANI \u001b[1m(\u001b[0mREMIX\u001b[1m)\u001b[0m , Song_popularity: \u001b[1;36m78\u001b[0m\n"
      ]
     },
     "metadata": {},
     "output_type": "display_data"
    },
    {
     "data": {
      "text/html": [
       "<pre style=\"white-space:pre;overflow-x:auto;line-height:normal;font-family:Menlo,'DejaVu Sans Mono',consolas,'Courier New',monospace\"><span style=\"color: #008080; text-decoration-color: #008080; font-weight: bold\">8</span>. Artist_name: Sabrina Carpenter, Song_name: Taste, Song_popularity: <span style=\"color: #008080; text-decoration-color: #008080; font-weight: bold\">95</span>\n",
       "</pre>\n"
      ],
      "text/plain": [
       "\u001b[1;36m8\u001b[0m. Artist_name: Sabrina Carpenter, Song_name: Taste, Song_popularity: \u001b[1;36m95\u001b[0m\n"
      ]
     },
     "metadata": {},
     "output_type": "display_data"
    },
    {
     "data": {
      "text/html": [
       "<pre style=\"white-space:pre;overflow-x:auto;line-height:normal;font-family:Menlo,'DejaVu Sans Mono',consolas,'Courier New',monospace\"><span style=\"color: #008080; text-decoration-color: #008080; font-weight: bold\">9</span>. Artist_name: Coldplay, Song_name: WE PRAY, Song_popularity: <span style=\"color: #008080; text-decoration-color: #008080; font-weight: bold\">81</span>\n",
       "</pre>\n"
      ],
      "text/plain": [
       "\u001b[1;36m9\u001b[0m. Artist_name: Coldplay, Song_name: WE PRAY, Song_popularity: \u001b[1;36m81\u001b[0m\n"
      ]
     },
     "metadata": {},
     "output_type": "display_data"
    },
    {
     "data": {
      "text/html": [
       "<pre style=\"white-space:pre;overflow-x:auto;line-height:normal;font-family:Menlo,'DejaVu Sans Mono',consolas,'Courier New',monospace\"><span style=\"color: #008080; text-decoration-color: #008080; font-weight: bold\">10</span>. Artist_name: Dasha, Song_name: Austin <span style=\"font-weight: bold\">(</span>Boots Stop Workin'<span style=\"font-weight: bold\">)</span>, Song_popularity: <span style=\"color: #008080; text-decoration-color: #008080; font-weight: bold\">70</span>\n",
       "</pre>\n"
      ],
      "text/plain": [
       "\u001b[1;36m10\u001b[0m. Artist_name: Dasha, Song_name: Austin \u001b[1m(\u001b[0mBoots Stop Workin'\u001b[1m)\u001b[0m, Song_popularity: \u001b[1;36m70\u001b[0m\n"
      ]
     },
     "metadata": {},
     "output_type": "display_data"
    },
    {
     "data": {
      "text/html": [
       "<pre style=\"white-space:pre;overflow-x:auto;line-height:normal;font-family:Menlo,'DejaVu Sans Mono',consolas,'Courier New',monospace\">Global Groove\n",
       "</pre>\n"
      ],
      "text/plain": [
       "Global Groove\n"
      ]
     },
     "metadata": {},
     "output_type": "display_data"
    },
    {
     "data": {
      "text/html": [
       "<pre style=\"white-space:pre;overflow-x:auto;line-height:normal;font-family:Menlo,'DejaVu Sans Mono',consolas,'Courier New',monospace\"><span style=\"color: #008080; text-decoration-color: #008080; font-weight: bold\">1</span>. Artist_name: Izethekeli Band, Song_name: <span style=\"color: #00ff00; text-decoration-color: #00ff00; font-style: italic\">True</span> Love, Song_popularity: <span style=\"color: #008080; text-decoration-color: #008080; font-weight: bold\">22</span>\n",
       "</pre>\n"
      ],
      "text/plain": [
       "\u001b[1;36m1\u001b[0m. Artist_name: Izethekeli Band, Song_name: \u001b[3;92mTrue\u001b[0m Love, Song_popularity: \u001b[1;36m22\u001b[0m\n"
      ]
     },
     "metadata": {},
     "output_type": "display_data"
    },
    {
     "data": {
      "text/html": [
       "<pre style=\"white-space:pre;overflow-x:auto;line-height:normal;font-family:Menlo,'DejaVu Sans Mono',consolas,'Courier New',monospace\"><span style=\"color: #008080; text-decoration-color: #008080; font-weight: bold\">2</span>. Artist_name: Balla Et Ses Balladins, Song_name: Paulette, Song_popularity: <span style=\"color: #008080; text-decoration-color: #008080; font-weight: bold\">49</span>\n",
       "</pre>\n"
      ],
      "text/plain": [
       "\u001b[1;36m2\u001b[0m. Artist_name: Balla Et Ses Balladins, Song_name: Paulette, Song_popularity: \u001b[1;36m49\u001b[0m\n"
      ]
     },
     "metadata": {},
     "output_type": "display_data"
    },
    {
     "data": {
      "text/html": [
       "<pre style=\"white-space:pre;overflow-x:auto;line-height:normal;font-family:Menlo,'DejaVu Sans Mono',consolas,'Courier New',monospace\"><span style=\"color: #008080; text-decoration-color: #008080; font-weight: bold\">3</span>. Artist_name: MoBlack, Song_name: Yamore, Song_popularity: <span style=\"color: #008080; text-decoration-color: #008080; font-weight: bold\">81</span>\n",
       "</pre>\n"
      ],
      "text/plain": [
       "\u001b[1;36m3\u001b[0m. Artist_name: MoBlack, Song_name: Yamore, Song_popularity: \u001b[1;36m81\u001b[0m\n"
      ]
     },
     "metadata": {},
     "output_type": "display_data"
    },
    {
     "data": {
      "text/html": [
       "<pre style=\"white-space:pre;overflow-x:auto;line-height:normal;font-family:Menlo,'DejaVu Sans Mono',consolas,'Courier New',monospace\"><span style=\"color: #008080; text-decoration-color: #008080; font-weight: bold\">4</span>. Artist_name: Reyna Tropical, Song_name: Lo Siento, Song_popularity: <span style=\"color: #008080; text-decoration-color: #008080; font-weight: bold\">44</span>\n",
       "</pre>\n"
      ],
      "text/plain": [
       "\u001b[1;36m4\u001b[0m. Artist_name: Reyna Tropical, Song_name: Lo Siento, Song_popularity: \u001b[1;36m44\u001b[0m\n"
      ]
     },
     "metadata": {},
     "output_type": "display_data"
    },
    {
     "data": {
      "text/html": [
       "<pre style=\"white-space:pre;overflow-x:auto;line-height:normal;font-family:Menlo,'DejaVu Sans Mono',consolas,'Courier New',monospace\"><span style=\"color: #008080; text-decoration-color: #008080; font-weight: bold\">5</span>. Artist_name: Claude Fontaine, Song_name: Love The Way You Love, Song_popularity: <span style=\"color: #008080; text-decoration-color: #008080; font-weight: bold\">41</span>\n",
       "</pre>\n"
      ],
      "text/plain": [
       "\u001b[1;36m5\u001b[0m. Artist_name: Claude Fontaine, Song_name: Love The Way You Love, Song_popularity: \u001b[1;36m41\u001b[0m\n"
      ]
     },
     "metadata": {},
     "output_type": "display_data"
    },
    {
     "data": {
      "text/html": [
       "<pre style=\"white-space:pre;overflow-x:auto;line-height:normal;font-family:Menlo,'DejaVu Sans Mono',consolas,'Courier New',monospace\"><span style=\"color: #008080; text-decoration-color: #008080; font-weight: bold\">6</span>. Artist_name: Quantic, Song_name: Unconditional <span style=\"font-weight: bold\">(</span>feat. Rationale<span style=\"font-weight: bold\">)</span>, Song_popularity: <span style=\"color: #008080; text-decoration-color: #008080; font-weight: bold\">43</span>\n",
       "</pre>\n"
      ],
      "text/plain": [
       "\u001b[1;36m6\u001b[0m. Artist_name: Quantic, Song_name: Unconditional \u001b[1m(\u001b[0mfeat. Rationale\u001b[1m)\u001b[0m, Song_popularity: \u001b[1;36m43\u001b[0m\n"
      ]
     },
     "metadata": {},
     "output_type": "display_data"
    },
    {
     "data": {
      "text/html": [
       "<pre style=\"white-space:pre;overflow-x:auto;line-height:normal;font-family:Menlo,'DejaVu Sans Mono',consolas,'Courier New',monospace\"><span style=\"color: #008080; text-decoration-color: #008080; font-weight: bold\">7</span>. Artist_name: DJ Travella, Song_name: Wave It, Song_popularity: <span style=\"color: #008080; text-decoration-color: #008080; font-weight: bold\">37</span>\n",
       "</pre>\n"
      ],
      "text/plain": [
       "\u001b[1;36m7\u001b[0m. Artist_name: DJ Travella, Song_name: Wave It, Song_popularity: \u001b[1;36m37\u001b[0m\n"
      ]
     },
     "metadata": {},
     "output_type": "display_data"
    },
    {
     "data": {
      "text/html": [
       "<pre style=\"white-space:pre;overflow-x:auto;line-height:normal;font-family:Menlo,'DejaVu Sans Mono',consolas,'Courier New',monospace\"><span style=\"color: #008080; text-decoration-color: #008080; font-weight: bold\">8</span>. Artist_name: cacique'<span style=\"color: #008080; text-decoration-color: #008080; font-weight: bold\">97</span>, Song_name: Letter to the Martyrs, Song_popularity: <span style=\"color: #008080; text-decoration-color: #008080; font-weight: bold\">41</span>\n",
       "</pre>\n"
      ],
      "text/plain": [
       "\u001b[1;36m8\u001b[0m. Artist_name: cacique'\u001b[1;36m97\u001b[0m, Song_name: Letter to the Martyrs, Song_popularity: \u001b[1;36m41\u001b[0m\n"
      ]
     },
     "metadata": {},
     "output_type": "display_data"
    },
    {
     "data": {
      "text/html": [
       "<pre style=\"white-space:pre;overflow-x:auto;line-height:normal;font-family:Menlo,'DejaVu Sans Mono',consolas,'Courier New',monospace\"><span style=\"color: #008080; text-decoration-color: #008080; font-weight: bold\">9</span>. Artist_name: Bank, Song_name: Amerika, Song_popularity: <span style=\"color: #008080; text-decoration-color: #008080; font-weight: bold\">39</span>\n",
       "</pre>\n"
      ],
      "text/plain": [
       "\u001b[1;36m9\u001b[0m. Artist_name: Bank, Song_name: Amerika, Song_popularity: \u001b[1;36m39\u001b[0m\n"
      ]
     },
     "metadata": {},
     "output_type": "display_data"
    },
    {
     "data": {
      "text/html": [
       "<pre style=\"white-space:pre;overflow-x:auto;line-height:normal;font-family:Menlo,'DejaVu Sans Mono',consolas,'Courier New',monospace\"><span style=\"color: #008080; text-decoration-color: #008080; font-weight: bold\">10</span>. Artist_name: Amalafede, Song_name: Janaramente, Song_popularity: <span style=\"color: #008080; text-decoration-color: #008080; font-weight: bold\">39</span>\n",
       "</pre>\n"
      ],
      "text/plain": [
       "\u001b[1;36m10\u001b[0m. Artist_name: Amalafede, Song_name: Janaramente, Song_popularity: \u001b[1;36m39\u001b[0m\n"
      ]
     },
     "metadata": {},
     "output_type": "display_data"
    },
    {
     "data": {
      "text/html": [
       "<pre style=\"white-space:pre;overflow-x:auto;line-height:normal;font-family:Menlo,'DejaVu Sans Mono',consolas,'Courier New',monospace\">Top Songs - United Kingdom\n",
       "</pre>\n"
      ],
      "text/plain": [
       "Top Songs - United Kingdom\n"
      ]
     },
     "metadata": {},
     "output_type": "display_data"
    },
    {
     "data": {
      "text/html": [
       "<pre style=\"white-space:pre;overflow-x:auto;line-height:normal;font-family:Menlo,'DejaVu Sans Mono',consolas,'Courier New',monospace\"><span style=\"color: #008080; text-decoration-color: #008080; font-weight: bold\">1</span>. Artist_name: Sabrina Carpenter, Song_name: Taste, Song_popularity: <span style=\"color: #008080; text-decoration-color: #008080; font-weight: bold\">95</span>\n",
       "</pre>\n"
      ],
      "text/plain": [
       "\u001b[1;36m1\u001b[0m. Artist_name: Sabrina Carpenter, Song_name: Taste, Song_popularity: \u001b[1;36m95\u001b[0m\n"
      ]
     },
     "metadata": {},
     "output_type": "display_data"
    },
    {
     "data": {
      "text/html": [
       "<pre style=\"white-space:pre;overflow-x:auto;line-height:normal;font-family:Menlo,'DejaVu Sans Mono',consolas,'Courier New',monospace\"><span style=\"color: #008080; text-decoration-color: #008080; font-weight: bold\">2</span>. Artist_name: Chappell Roan, Song_name: Good Luck, Babe!, Song_popularity: <span style=\"color: #008080; text-decoration-color: #008080; font-weight: bold\">97</span>\n",
       "</pre>\n"
      ],
      "text/plain": [
       "\u001b[1;36m2\u001b[0m. Artist_name: Chappell Roan, Song_name: Good Luck, Babe!, Song_popularity: \u001b[1;36m97\u001b[0m\n"
      ]
     },
     "metadata": {},
     "output_type": "display_data"
    },
    {
     "data": {
      "text/html": [
       "<pre style=\"white-space:pre;overflow-x:auto;line-height:normal;font-family:Menlo,'DejaVu Sans Mono',consolas,'Courier New',monospace\"><span style=\"color: #008080; text-decoration-color: #008080; font-weight: bold\">3</span>. Artist_name: Billie Eilish, Song_name: BIRDS OF A FEATHER, Song_popularity: <span style=\"color: #008080; text-decoration-color: #008080; font-weight: bold\">100</span>\n",
       "</pre>\n"
      ],
      "text/plain": [
       "\u001b[1;36m3\u001b[0m. Artist_name: Billie Eilish, Song_name: BIRDS OF A FEATHER, Song_popularity: \u001b[1;36m100\u001b[0m\n"
      ]
     },
     "metadata": {},
     "output_type": "display_data"
    },
    {
     "data": {
      "text/html": [
       "<pre style=\"white-space:pre;overflow-x:auto;line-height:normal;font-family:Menlo,'DejaVu Sans Mono',consolas,'Courier New',monospace\"><span style=\"color: #008080; text-decoration-color: #008080; font-weight: bold\">4</span>. Artist_name: Sabrina Carpenter, Song_name: Espresso, Song_popularity: <span style=\"color: #008080; text-decoration-color: #008080; font-weight: bold\">97</span>\n",
       "</pre>\n"
      ],
      "text/plain": [
       "\u001b[1;36m4\u001b[0m. Artist_name: Sabrina Carpenter, Song_name: Espresso, Song_popularity: \u001b[1;36m97\u001b[0m\n"
      ]
     },
     "metadata": {},
     "output_type": "display_data"
    },
    {
     "data": {
      "text/html": [
       "<pre style=\"white-space:pre;overflow-x:auto;line-height:normal;font-family:Menlo,'DejaVu Sans Mono',consolas,'Courier New',monospace\"><span style=\"color: #008080; text-decoration-color: #008080; font-weight: bold\">5</span>. Artist_name: Sabrina Carpenter, Song_name: Please Please Please, Song_popularity: <span style=\"color: #008080; text-decoration-color: #008080; font-weight: bold\">96</span>\n",
       "</pre>\n"
      ],
      "text/plain": [
       "\u001b[1;36m5\u001b[0m. Artist_name: Sabrina Carpenter, Song_name: Please Please Please, Song_popularity: \u001b[1;36m96\u001b[0m\n"
      ]
     },
     "metadata": {},
     "output_type": "display_data"
    },
    {
     "data": {
      "text/html": [
       "<pre style=\"white-space:pre;overflow-x:auto;line-height:normal;font-family:Menlo,'DejaVu Sans Mono',consolas,'Courier New',monospace\"><span style=\"color: #008080; text-decoration-color: #008080; font-weight: bold\">6</span>. Artist_name: Lady Gaga, Song_name: Die With A Smile, Song_popularity: <span style=\"color: #008080; text-decoration-color: #008080; font-weight: bold\">99</span>\n",
       "</pre>\n"
      ],
      "text/plain": [
       "\u001b[1;36m6\u001b[0m. Artist_name: Lady Gaga, Song_name: Die With A Smile, Song_popularity: \u001b[1;36m99\u001b[0m\n"
      ]
     },
     "metadata": {},
     "output_type": "display_data"
    },
    {
     "data": {
      "text/html": [
       "<pre style=\"white-space:pre;overflow-x:auto;line-height:normal;font-family:Menlo,'DejaVu Sans Mono',consolas,'Courier New',monospace\"><span style=\"color: #008080; text-decoration-color: #008080; font-weight: bold\">7</span>. Artist_name: Linkin Park, Song_name: The Emptiness Machine, Song_popularity: <span style=\"color: #008080; text-decoration-color: #008080; font-weight: bold\">91</span>\n",
       "</pre>\n"
      ],
      "text/plain": [
       "\u001b[1;36m7\u001b[0m. Artist_name: Linkin Park, Song_name: The Emptiness Machine, Song_popularity: \u001b[1;36m91\u001b[0m\n"
      ]
     },
     "metadata": {},
     "output_type": "display_data"
    },
    {
     "data": {
      "text/html": [
       "<pre style=\"white-space:pre;overflow-x:auto;line-height:normal;font-family:Menlo,'DejaVu Sans Mono',consolas,'Courier New',monospace\"><span style=\"color: #008080; text-decoration-color: #008080; font-weight: bold\">8</span>. Artist_name: Sabrina Carpenter, Song_name: Bed Chem, Song_popularity: <span style=\"color: #008080; text-decoration-color: #008080; font-weight: bold\">92</span>\n",
       "</pre>\n"
      ],
      "text/plain": [
       "\u001b[1;36m8\u001b[0m. Artist_name: Sabrina Carpenter, Song_name: Bed Chem, Song_popularity: \u001b[1;36m92\u001b[0m\n"
      ]
     },
     "metadata": {},
     "output_type": "display_data"
    },
    {
     "data": {
      "text/html": [
       "<pre style=\"white-space:pre;overflow-x:auto;line-height:normal;font-family:Menlo,'DejaVu Sans Mono',consolas,'Courier New',monospace\"><span style=\"color: #008080; text-decoration-color: #008080; font-weight: bold\">9</span>. Artist_name: Chase &amp; Status, Song_name: BACKBONE, Song_popularity: <span style=\"color: #008080; text-decoration-color: #008080; font-weight: bold\">81</span>\n",
       "</pre>\n"
      ],
      "text/plain": [
       "\u001b[1;36m9\u001b[0m. Artist_name: Chase & Status, Song_name: BACKBONE, Song_popularity: \u001b[1;36m81\u001b[0m\n"
      ]
     },
     "metadata": {},
     "output_type": "display_data"
    },
    {
     "data": {
      "text/html": [
       "<pre style=\"white-space:pre;overflow-x:auto;line-height:normal;font-family:Menlo,'DejaVu Sans Mono',consolas,'Courier New',monospace\"><span style=\"color: #008080; text-decoration-color: #008080; font-weight: bold\">10</span>. Artist_name: Shaboozey, Song_name: A Bar Song <span style=\"font-weight: bold\">(</span>Tipsy<span style=\"font-weight: bold\">)</span>, Song_popularity: <span style=\"color: #008080; text-decoration-color: #008080; font-weight: bold\">87</span>\n",
       "</pre>\n"
      ],
      "text/plain": [
       "\u001b[1;36m10\u001b[0m. Artist_name: Shaboozey, Song_name: A Bar Song \u001b[1m(\u001b[0mTipsy\u001b[1m)\u001b[0m, Song_popularity: \u001b[1;36m87\u001b[0m\n"
      ]
     },
     "metadata": {},
     "output_type": "display_data"
    },
    {
     "data": {
      "text/html": [
       "<pre style=\"white-space:pre;overflow-x:auto;line-height:normal;font-family:Menlo,'DejaVu Sans Mono',consolas,'Courier New',monospace\">Top <span style=\"color: #008080; text-decoration-color: #008080; font-weight: bold\">50</span> - Spain\n",
       "</pre>\n"
      ],
      "text/plain": [
       "Top \u001b[1;36m50\u001b[0m - Spain\n"
      ]
     },
     "metadata": {},
     "output_type": "display_data"
    },
    {
     "data": {
      "text/html": [
       "<pre style=\"white-space:pre;overflow-x:auto;line-height:normal;font-family:Menlo,'DejaVu Sans Mono',consolas,'Courier New',monospace\"><span style=\"color: #008080; text-decoration-color: #008080; font-weight: bold\">1</span>. Artist_name: KAROL G, Song_name: Si Antes Te Hubiera Conocido, Song_popularity: <span style=\"color: #008080; text-decoration-color: #008080; font-weight: bold\">96</span>\n",
       "</pre>\n"
      ],
      "text/plain": [
       "\u001b[1;36m1\u001b[0m. Artist_name: KAROL G, Song_name: Si Antes Te Hubiera Conocido, Song_popularity: \u001b[1;36m96\u001b[0m\n"
      ]
     },
     "metadata": {},
     "output_type": "display_data"
    },
    {
     "data": {
      "text/html": [
       "<pre style=\"white-space:pre;overflow-x:auto;line-height:normal;font-family:Menlo,'DejaVu Sans Mono',consolas,'Courier New',monospace\"><span style=\"color: #008080; text-decoration-color: #008080; font-weight: bold\">2</span>. Artist_name: Kapo, Song_name: UWAIE, Song_popularity: <span style=\"color: #008080; text-decoration-color: #008080; font-weight: bold\">89</span>\n",
       "</pre>\n"
      ],
      "text/plain": [
       "\u001b[1;36m2\u001b[0m. Artist_name: Kapo, Song_name: UWAIE, Song_popularity: \u001b[1;36m89\u001b[0m\n"
      ]
     },
     "metadata": {},
     "output_type": "display_data"
    },
    {
     "data": {
      "text/html": [
       "<pre style=\"white-space:pre;overflow-x:auto;line-height:normal;font-family:Menlo,'DejaVu Sans Mono',consolas,'Courier New',monospace\"><span style=\"color: #008080; text-decoration-color: #008080; font-weight: bold\">3</span>. Artist_name: FloyyMenor, Song_name: PELIGROSA, Song_popularity: <span style=\"color: #008080; text-decoration-color: #008080; font-weight: bold\">81</span>\n",
       "</pre>\n"
      ],
      "text/plain": [
       "\u001b[1;36m3\u001b[0m. Artist_name: FloyyMenor, Song_name: PELIGROSA, Song_popularity: \u001b[1;36m81\u001b[0m\n"
      ]
     },
     "metadata": {},
     "output_type": "display_data"
    },
    {
     "data": {
      "text/html": [
       "<pre style=\"white-space:pre;overflow-x:auto;line-height:normal;font-family:Menlo,'DejaVu Sans Mono',consolas,'Courier New',monospace\"><span style=\"color: #008080; text-decoration-color: #008080; font-weight: bold\">4</span>. Artist_name: Kapo, Song_name: Ohnana, Song_popularity: <span style=\"color: #008080; text-decoration-color: #008080; font-weight: bold\">89</span>\n",
       "</pre>\n"
      ],
      "text/plain": [
       "\u001b[1;36m4\u001b[0m. Artist_name: Kapo, Song_name: Ohnana, Song_popularity: \u001b[1;36m89\u001b[0m\n"
      ]
     },
     "metadata": {},
     "output_type": "display_data"
    },
    {
     "data": {
      "text/html": [
       "<pre style=\"white-space:pre;overflow-x:auto;line-height:normal;font-family:Menlo,'DejaVu Sans Mono',consolas,'Courier New',monospace\"><span style=\"color: #008080; text-decoration-color: #008080; font-weight: bold\">5</span>. Artist_name: Beny Jr, Song_name: Luna llena, Song_popularity: <span style=\"color: #008080; text-decoration-color: #008080; font-weight: bold\">77</span>\n",
       "</pre>\n"
      ],
      "text/plain": [
       "\u001b[1;36m5\u001b[0m. Artist_name: Beny Jr, Song_name: Luna llena, Song_popularity: \u001b[1;36m77\u001b[0m\n"
      ]
     },
     "metadata": {},
     "output_type": "display_data"
    },
    {
     "data": {
      "text/html": [
       "<pre style=\"white-space:pre;overflow-x:auto;line-height:normal;font-family:Menlo,'DejaVu Sans Mono',consolas,'Courier New',monospace\"><span style=\"color: #008080; text-decoration-color: #008080; font-weight: bold\">6</span>. Artist_name: Lola Indigo, Song_name: LA REINA, Song_popularity: <span style=\"color: #008080; text-decoration-color: #008080; font-weight: bold\">78</span>\n",
       "</pre>\n"
      ],
      "text/plain": [
       "\u001b[1;36m6\u001b[0m. Artist_name: Lola Indigo, Song_name: LA REINA, Song_popularity: \u001b[1;36m78\u001b[0m\n"
      ]
     },
     "metadata": {},
     "output_type": "display_data"
    },
    {
     "data": {
      "text/html": [
       "<pre style=\"white-space:pre;overflow-x:auto;line-height:normal;font-family:Menlo,'DejaVu Sans Mono',consolas,'Courier New',monospace\"><span style=\"color: #008080; text-decoration-color: #008080; font-weight: bold\">7</span>. Artist_name: Myke Towers, Song_name: TAMBIÉN, Song_popularity: <span style=\"color: #008080; text-decoration-color: #008080; font-weight: bold\">76</span>\n",
       "</pre>\n"
      ],
      "text/plain": [
       "\u001b[1;36m7\u001b[0m. Artist_name: Myke Towers, Song_name: TAMBIÉN, Song_popularity: \u001b[1;36m76\u001b[0m\n"
      ]
     },
     "metadata": {},
     "output_type": "display_data"
    },
    {
     "data": {
      "text/html": [
       "<pre style=\"white-space:pre;overflow-x:auto;line-height:normal;font-family:Menlo,'DejaVu Sans Mono',consolas,'Courier New',monospace\"><span style=\"color: #008080; text-decoration-color: #008080; font-weight: bold\">8</span>. Artist_name: Omar Montes, Song_name: Goteras, Song_popularity: <span style=\"color: #008080; text-decoration-color: #008080; font-weight: bold\">79</span>\n",
       "</pre>\n"
      ],
      "text/plain": [
       "\u001b[1;36m8\u001b[0m. Artist_name: Omar Montes, Song_name: Goteras, Song_popularity: \u001b[1;36m79\u001b[0m\n"
      ]
     },
     "metadata": {},
     "output_type": "display_data"
    },
    {
     "data": {
      "text/html": [
       "<pre style=\"white-space:pre;overflow-x:auto;line-height:normal;font-family:Menlo,'DejaVu Sans Mono',consolas,'Courier New',monospace\"><span style=\"color: #008080; text-decoration-color: #008080; font-weight: bold\">9</span>. Artist_name: Dei V, Song_name: Rapido <span style=\"font-weight: bold\">(</span>with Cris Mj<span style=\"font-weight: bold\">)</span>, Song_popularity: <span style=\"color: #008080; text-decoration-color: #008080; font-weight: bold\">81</span>\n",
       "</pre>\n"
      ],
      "text/plain": [
       "\u001b[1;36m9\u001b[0m. Artist_name: Dei V, Song_name: Rapido \u001b[1m(\u001b[0mwith Cris Mj\u001b[1m)\u001b[0m, Song_popularity: \u001b[1;36m81\u001b[0m\n"
      ]
     },
     "metadata": {},
     "output_type": "display_data"
    },
    {
     "data": {
      "text/html": [
       "<pre style=\"white-space:pre;overflow-x:auto;line-height:normal;font-family:Menlo,'DejaVu Sans Mono',consolas,'Courier New',monospace\"><span style=\"color: #008080; text-decoration-color: #008080; font-weight: bold\">10</span>. Artist_name: Myke Towers, Song_name: LA FALDA, Song_popularity: <span style=\"color: #008080; text-decoration-color: #008080; font-weight: bold\">86</span>\n",
       "</pre>\n"
      ],
      "text/plain": [
       "\u001b[1;36m10\u001b[0m. Artist_name: Myke Towers, Song_name: LA FALDA, Song_popularity: \u001b[1;36m86\u001b[0m\n"
      ]
     },
     "metadata": {},
     "output_type": "display_data"
    }
   ],
   "source": [
    "global_hits= sp.search(q='Global Hits', type='playlist', limit=10)\n",
    "index = 1\n",
    "for playlist in global_hits['playlists']['items']:\n",
    "    print(playlist['name'])\n",
    "    # find playlist id for top tracks\n",
    "    top_global_playlist_id = playlist['id']\n",
    "    top_global_playlist = sp.playlist_tracks(top_global_playlist_id,limit=10)\n",
    "   \n",
    "    for index, songs in enumerate(top_global_playlist['items']):\n",
    "          index = index + 1\n",
    "          artist_name = songs['track']['artists'][0]['name']\n",
    "          song_name = songs['track']['name']\n",
    "          popularity = songs['track']['popularity']\n",
    "          print(f\"{index}. Artist_name: {artist_name}, Song_name: {song_name}, Song_popularity: {popularity}\")\n"
   ]
  },
  {
   "cell_type": "code",
   "execution_count": null,
   "id": "6e3497b4-79fe-40dc-aca4-acc210ea8708",
   "metadata": {},
   "outputs": [],
   "source": []
  },
  {
   "cell_type": "code",
   "execution_count": null,
   "id": "f0b7c9fa-da38-4850-acc7-35408bd2dbe3",
   "metadata": {},
   "outputs": [],
   "source": []
  }
 ],
 "metadata": {
  "kernelspec": {
   "display_name": "Python 3 (ipykernel)",
   "language": "python",
   "name": "python3"
  },
  "language_info": {
   "codemirror_mode": {
    "name": "ipython",
    "version": 3
   },
   "file_extension": ".py",
   "mimetype": "text/x-python",
   "name": "python",
   "nbconvert_exporter": "python",
   "pygments_lexer": "ipython3",
   "version": "3.12.0"
  }
 },
 "nbformat": 4,
 "nbformat_minor": 5
}
